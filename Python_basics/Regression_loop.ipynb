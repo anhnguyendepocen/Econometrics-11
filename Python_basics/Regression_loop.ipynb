{
 "cells": [
  {
   "cell_type": "code",
   "execution_count": 1,
   "metadata": {},
   "outputs": [],
   "source": [
    "import numpy as np\n",
    "import pandas as pd\n",
    "import matplotlib.pyplot\n",
    "import statsmodels.api as sm\n",
    "import datetime "
   ]
  },
  {
   "cell_type": "markdown",
   "metadata": {},
   "source": [
    "# 1. Import "
   ]
  },
  {
   "cell_type": "code",
   "execution_count": 2,
   "metadata": {},
   "outputs": [],
   "source": [
    "df = pd.read_stata('Data/USA1950-2016.dta', \n",
    "              index_col='Year',)\n",
    "df.index = pd.to_datetime(df.index, format='%Y')"
   ]
  },
  {
   "cell_type": "code",
   "execution_count": 3,
   "metadata": {
    "scrolled": true
   },
   "outputs": [
    {
     "name": "stderr",
     "output_type": "stream",
     "text": [
      "/Users/corybaird/opt/anaconda3/lib/python3.7/site-packages/ipykernel_launcher.py:2: SettingWithCopyWarning: \n",
      "A value is trying to be set on a copy of a slice from a DataFrame.\n",
      "Try using .loc[row_indexer,col_indexer] = value instead\n",
      "\n",
      "See the caveats in the documentation: https://pandas.pydata.org/pandas-docs/stable/user_guide/indexing.html#returning-a-view-versus-a-copy\n",
      "  \n"
     ]
    },
    {
     "data": {
      "text/html": [
       "<div>\n",
       "<style scoped>\n",
       "    .dataframe tbody tr th:only-of-type {\n",
       "        vertical-align: middle;\n",
       "    }\n",
       "\n",
       "    .dataframe tbody tr th {\n",
       "        vertical-align: top;\n",
       "    }\n",
       "\n",
       "    .dataframe thead th {\n",
       "        text-align: right;\n",
       "    }\n",
       "</style>\n",
       "<table border=\"1\" class=\"dataframe\">\n",
       "  <thead>\n",
       "    <tr style=\"text-align: right;\">\n",
       "      <th></th>\n",
       "      <th>realpersonalconsumptionexpenditu</th>\n",
       "      <th>consumption_lag</th>\n",
       "      <th>realgdp2009</th>\n",
       "      <th>primeratechargedbybanks</th>\n",
       "      <th>civilianunemploymentrate</th>\n",
       "    </tr>\n",
       "    <tr>\n",
       "      <th>Year</th>\n",
       "      <th></th>\n",
       "      <th></th>\n",
       "      <th></th>\n",
       "      <th></th>\n",
       "      <th></th>\n",
       "    </tr>\n",
       "  </thead>\n",
       "  <tbody>\n",
       "    <tr>\n",
       "      <th>1951-01-01</th>\n",
       "      <td>1381.699951</td>\n",
       "      <td>1360.500000</td>\n",
       "      <td>2360.000000</td>\n",
       "      <td>2.56</td>\n",
       "      <td>3.3</td>\n",
       "    </tr>\n",
       "    <tr>\n",
       "      <th>1952-01-01</th>\n",
       "      <td>1425.300049</td>\n",
       "      <td>1381.699951</td>\n",
       "      <td>2456.100098</td>\n",
       "      <td>3.00</td>\n",
       "      <td>3.0</td>\n",
       "    </tr>\n",
       "  </tbody>\n",
       "</table>\n",
       "</div>"
      ],
      "text/plain": [
       "            realpersonalconsumptionexpenditu  consumption_lag  realgdp2009  \\\n",
       "Year                                                                         \n",
       "1951-01-01                       1381.699951      1360.500000  2360.000000   \n",
       "1952-01-01                       1425.300049      1381.699951  2456.100098   \n",
       "\n",
       "            primeratechargedbybanks  civilianunemploymentrate  \n",
       "Year                                                           \n",
       "1951-01-01                     2.56                       3.3  \n",
       "1952-01-01                     3.00                       3.0  "
      ]
     },
     "execution_count": 3,
     "metadata": {},
     "output_type": "execute_result"
    }
   ],
   "source": [
    "dfset = df[['realpersonalconsumptionexpenditu','realgdp2009', 'primeratechargedbybanks', 'civilianunemploymentrate']]\n",
    "dfset['consumption_lag'] = dfset['realpersonalconsumptionexpenditu'].shift(1)\n",
    "dfset= dfset.reindex(columns= ['realpersonalconsumptionexpenditu', 'consumption_lag','realgdp2009', 'primeratechargedbybanks', 'civilianunemploymentrate'])\n",
    "dfset.dropna(inplace=True)\n",
    "dfset.head(2)"
   ]
  },
  {
   "cell_type": "markdown",
   "metadata": {},
   "source": [
    "# 2. Regression"
   ]
  },
  {
   "cell_type": "code",
   "execution_count": 4,
   "metadata": {},
   "outputs": [],
   "source": [
    "x = dfset[['consumption_lag','realgdp2009', 'primeratechargedbybanks', 'civilianunemploymentrate']]\n",
    "x = np.log(x) #Convert to logs\n",
    "x = sm.add_constant(x) #Add constant\n",
    "y = dfset[['realpersonalconsumptionexpenditu']] #Target variable\n",
    "y = np.log(y) # Convert to log"
   ]
  },
  {
   "cell_type": "code",
   "execution_count": 5,
   "metadata": {
    "scrolled": false
   },
   "outputs": [
    {
     "data": {
      "text/html": [
       "<table class=\"simpletable\">\n",
       "<caption>OLS Regression Results</caption>\n",
       "<tr>\n",
       "  <th>Dep. Variable:</th>    <td>realpersonalconsumptionexpenditu</td> <th>  R-squared:         </th> <td>   1.000</td> \n",
       "</tr>\n",
       "<tr>\n",
       "  <th>Model:</th>                           <td>OLS</td>               <th>  Adj. R-squared:    </th> <td>   1.000</td> \n",
       "</tr>\n",
       "<tr>\n",
       "  <th>Method:</th>                     <td>Least Squares</td>          <th>  F-statistic:       </th> <td>9.027e+04</td>\n",
       "</tr>\n",
       "<tr>\n",
       "  <th>Date:</th>                     <td>Thu, 09 Apr 2020</td>         <th>  Prob (F-statistic):</th> <td>2.76e-114</td>\n",
       "</tr>\n",
       "<tr>\n",
       "  <th>Time:</th>                         <td>17:18:44</td>             <th>  Log-Likelihood:    </th> <td>  222.17</td> \n",
       "</tr>\n",
       "<tr>\n",
       "  <th>No. Observations:</th>              <td>    66</td>              <th>  AIC:               </th> <td>  -434.3</td> \n",
       "</tr>\n",
       "<tr>\n",
       "  <th>Df Residuals:</th>                  <td>    61</td>              <th>  BIC:               </th> <td>  -423.4</td> \n",
       "</tr>\n",
       "<tr>\n",
       "  <th>Df Model:</th>                      <td>     4</td>              <th>                     </th>     <td> </td>    \n",
       "</tr>\n",
       "<tr>\n",
       "  <th>Covariance Type:</th>              <td>nonrobust</td>            <th>                     </th>     <td> </td>    \n",
       "</tr>\n",
       "</table>\n",
       "<table class=\"simpletable\">\n",
       "<tr>\n",
       "              <td></td>                <th>coef</th>     <th>std err</th>      <th>t</th>      <th>P>|t|</th>  <th>[0.025</th>    <th>0.975]</th>  \n",
       "</tr>\n",
       "<tr>\n",
       "  <th>const</th>                    <td>   -0.7114</td> <td>    0.063</td> <td>  -11.305</td> <td> 0.000</td> <td>   -0.837</td> <td>   -0.586</td>\n",
       "</tr>\n",
       "<tr>\n",
       "  <th>consumption_lag</th>          <td>    0.3253</td> <td>    0.051</td> <td>    6.385</td> <td> 0.000</td> <td>    0.223</td> <td>    0.427</td>\n",
       "</tr>\n",
       "<tr>\n",
       "  <th>realgdp2009</th>              <td>    0.7211</td> <td>    0.055</td> <td>   13.157</td> <td> 0.000</td> <td>    0.612</td> <td>    0.831</td>\n",
       "</tr>\n",
       "<tr>\n",
       "  <th>primeratechargedbybanks</th>  <td>   -0.0130</td> <td>    0.003</td> <td>   -4.914</td> <td> 0.000</td> <td>   -0.018</td> <td>   -0.008</td>\n",
       "</tr>\n",
       "<tr>\n",
       "  <th>civilianunemploymentrate</th> <td>    0.0144</td> <td>    0.005</td> <td>    2.967</td> <td> 0.004</td> <td>    0.005</td> <td>    0.024</td>\n",
       "</tr>\n",
       "</table>\n",
       "<table class=\"simpletable\">\n",
       "<tr>\n",
       "  <th>Omnibus:</th>       <td> 3.679</td> <th>  Durbin-Watson:     </th> <td>   0.844</td>\n",
       "</tr>\n",
       "<tr>\n",
       "  <th>Prob(Omnibus):</th> <td> 0.159</td> <th>  Jarque-Bera (JB):  </th> <td>   1.888</td>\n",
       "</tr>\n",
       "<tr>\n",
       "  <th>Skew:</th>          <td> 0.061</td> <th>  Prob(JB):          </th> <td>   0.389</td>\n",
       "</tr>\n",
       "<tr>\n",
       "  <th>Kurtosis:</th>      <td> 2.181</td> <th>  Cond. No.          </th> <td>1.13e+03</td>\n",
       "</tr>\n",
       "</table><br/><br/>Warnings:<br/>[1] Standard Errors assume that the covariance matrix of the errors is correctly specified.<br/>[2] The condition number is large, 1.13e+03. This might indicate that there are<br/>strong multicollinearity or other numerical problems."
      ],
      "text/plain": [
       "<class 'statsmodels.iolib.summary.Summary'>\n",
       "\"\"\"\n",
       "                                   OLS Regression Results                                   \n",
       "============================================================================================\n",
       "Dep. Variable:     realpersonalconsumptionexpenditu   R-squared:                       1.000\n",
       "Model:                                          OLS   Adj. R-squared:                  1.000\n",
       "Method:                               Least Squares   F-statistic:                 9.027e+04\n",
       "Date:                              Thu, 09 Apr 2020   Prob (F-statistic):          2.76e-114\n",
       "Time:                                      17:18:44   Log-Likelihood:                 222.17\n",
       "No. Observations:                                66   AIC:                            -434.3\n",
       "Df Residuals:                                    61   BIC:                            -423.4\n",
       "Df Model:                                         4                                         \n",
       "Covariance Type:                          nonrobust                                         \n",
       "============================================================================================\n",
       "                               coef    std err          t      P>|t|      [0.025      0.975]\n",
       "--------------------------------------------------------------------------------------------\n",
       "const                       -0.7114      0.063    -11.305      0.000      -0.837      -0.586\n",
       "consumption_lag              0.3253      0.051      6.385      0.000       0.223       0.427\n",
       "realgdp2009                  0.7211      0.055     13.157      0.000       0.612       0.831\n",
       "primeratechargedbybanks     -0.0130      0.003     -4.914      0.000      -0.018      -0.008\n",
       "civilianunemploymentrate     0.0144      0.005      2.967      0.004       0.005       0.024\n",
       "==============================================================================\n",
       "Omnibus:                        3.679   Durbin-Watson:                   0.844\n",
       "Prob(Omnibus):                  0.159   Jarque-Bera (JB):                1.888\n",
       "Skew:                           0.061   Prob(JB):                        0.389\n",
       "Kurtosis:                       2.181   Cond. No.                     1.13e+03\n",
       "==============================================================================\n",
       "\n",
       "Warnings:\n",
       "[1] Standard Errors assume that the covariance matrix of the errors is correctly specified.\n",
       "[2] The condition number is large, 1.13e+03. This might indicate that there are\n",
       "strong multicollinearity or other numerical problems.\n",
       "\"\"\""
      ]
     },
     "execution_count": 5,
     "metadata": {},
     "output_type": "execute_result"
    }
   ],
   "source": [
    "result = sm.OLS(y, x).fit()\n",
    "result.summary()"
   ]
  },
  {
   "cell_type": "markdown",
   "metadata": {},
   "source": [
    "## 3.1 Regression 1 lagged: Iterating through variables one by one"
   ]
  },
  {
   "cell_type": "code",
   "execution_count": 6,
   "metadata": {},
   "outputs": [],
   "source": [
    "x = dfset[['consumption_lag','realgdp2009', 'primeratechargedbybanks', 'civilianunemploymentrate']]\n",
    "x = np.log(x) #Convert to logs\n",
    "x = sm.add_constant(x) #Add constant\n",
    "x_base = x[['const', 'consumption_lag']]"
   ]
  },
  {
   "cell_type": "code",
   "execution_count": 7,
   "metadata": {},
   "outputs": [
    {
     "name": "stdout",
     "output_type": "stream",
     "text": [
      "                   Coeffs      t-test\n",
      "const            0.092025    3.355718\n",
      "consumption_lag  0.992870  303.475144\n",
      "r-squared 0.999\n",
      "\n",
      "                   Coeffs     t-test\n",
      "const           -0.549349  -9.003123\n",
      "consumption_lag  0.464933   9.596693\n",
      "realgdp2009      0.571097  10.905882\n",
      "r-squared 1.000\n",
      "\n",
      "                           Coeffs     t-test\n",
      "const                   -0.618605 -10.675737\n",
      "consumption_lag          0.401253   8.584361\n",
      "realgdp2009              0.641144  12.662501\n",
      "primeratechargedbybanks -0.010202  -3.890741\n",
      "r-squared 1.000\n",
      "\n",
      "                            Coeffs     t-test\n",
      "const                    -0.711355 -11.304620\n",
      "consumption_lag           0.325305   6.384739\n",
      "realgdp2009               0.721115  13.157427\n",
      "primeratechargedbybanks  -0.012998  -4.914486\n",
      "civilianunemploymentrate  0.014376   2.966796\n",
      "r-squared 1.000\n",
      "\n"
     ]
    }
   ],
   "source": [
    "regressors = ['const']\n",
    "\n",
    "for i in ['consumption_lag','realgdp2009', 'primeratechargedbybanks', 'civilianunemploymentrate']:\n",
    "    regressors.append(i)\n",
    "    result = sm.OLS(y, x[regressors]).fit()\n",
    "    dft = pd.DataFrame(result.params, columns=['Coeffs'])\n",
    "    dft['t-test'] = result.tvalues    \n",
    "    #dft.append(result.rsquared, ignore_index = True) \n",
    "    print(dft)\n",
    "    print('r-squared {:.3f}'.format(result.rsquared))\n",
    "\n",
    "    print('')\n",
    "   "
   ]
  },
  {
   "cell_type": "markdown",
   "metadata": {},
   "source": [
    "## 3.2 Regression 2 lagged: Iterating through variables one by one"
   ]
  },
  {
   "cell_type": "code",
   "execution_count": 8,
   "metadata": {},
   "outputs": [
    {
     "name": "stderr",
     "output_type": "stream",
     "text": [
      "/Users/corybaird/opt/anaconda3/lib/python3.7/site-packages/ipykernel_launcher.py:2: SettingWithCopyWarning: \n",
      "A value is trying to be set on a copy of a slice from a DataFrame.\n",
      "Try using .loc[row_indexer,col_indexer] = value instead\n",
      "\n",
      "See the caveats in the documentation: https://pandas.pydata.org/pandas-docs/stable/user_guide/indexing.html#returning-a-view-versus-a-copy\n",
      "  \n",
      "/Users/corybaird/opt/anaconda3/lib/python3.7/site-packages/ipykernel_launcher.py:3: SettingWithCopyWarning: \n",
      "A value is trying to be set on a copy of a slice from a DataFrame.\n",
      "Try using .loc[row_indexer,col_indexer] = value instead\n",
      "\n",
      "See the caveats in the documentation: https://pandas.pydata.org/pandas-docs/stable/user_guide/indexing.html#returning-a-view-versus-a-copy\n",
      "  This is separate from the ipykernel package so we can avoid doing imports until\n",
      "/Users/corybaird/opt/anaconda3/lib/python3.7/site-packages/ipykernel_launcher.py:4: SettingWithCopyWarning: \n",
      "A value is trying to be set on a copy of a slice from a DataFrame\n",
      "\n",
      "See the caveats in the documentation: https://pandas.pydata.org/pandas-docs/stable/user_guide/indexing.html#returning-a-view-versus-a-copy\n",
      "  after removing the cwd from sys.path.\n"
     ]
    }
   ],
   "source": [
    "lags = df[['realpersonalconsumptionexpenditu','realgdp2009', 'primeratechargedbybanks', 'civilianunemploymentrate']]\n",
    "lags['consumption_lag1'] = dfset['realpersonalconsumptionexpenditu'].shift(1)\n",
    "lags['consumption_lag2'] = dfset['realpersonalconsumptionexpenditu'].shift(2)\n",
    "lags.dropna(inplace=True)\n",
    "x = lags[['consumption_lag1','consumption_lag2','realgdp2009', 'primeratechargedbybanks', 'civilianunemploymentrate']]\n",
    "x = np.log(x) #Convert to logs\n",
    "x = sm.add_constant(x) #Add constant\n",
    "y = lags[['realpersonalconsumptionexpenditu']] #Target variable\n",
    "y = np.log(y) # Convert to log"
   ]
  },
  {
   "cell_type": "code",
   "execution_count": 9,
   "metadata": {
    "scrolled": true
   },
   "outputs": [
    {
     "name": "stdout",
     "output_type": "stream",
     "text": [
      "const                 0.079 (2.619)\n",
      "consumption_lag1     1.271 (10.379)\n",
      "consumption_lag2    -0.278 (-2.286)\n",
      "Name: combined, dtype: object\n",
      "r-squared 0.999\n",
      "\n",
      "const               -0.539 (-8.262)\n",
      "consumption_lag1      0.433 (3.798)\n",
      "consumption_lag2      0.031 (0.382)\n",
      "realgdp2009           0.571 (9.896)\n",
      "Name: combined, dtype: object\n",
      "r-squared 1.000\n",
      "\n",
      "const                      -0.605 (-10.329)\n",
      "consumption_lag1                0.38 (3.81)\n",
      "consumption_lag2              0.018 (0.253)\n",
      "realgdp2009                  0.643 (12.218)\n",
      "primeratechargedbybanks     -0.012 (-4.518)\n",
      "Name: combined, dtype: object\n",
      "r-squared 1.000\n",
      "\n",
      "const                       -0.683 (-10.57)\n",
      "consumption_lag1              0.419 (4.322)\n",
      "consumption_lag2            -0.073 (-0.945)\n",
      "realgdp2009                  0.698 (12.624)\n",
      "primeratechargedbybanks     -0.014 (-5.267)\n",
      "civilianunemploymentrate      0.014 (2.451)\n",
      "Name: combined, dtype: object\n",
      "r-squared 1.000\n",
      "\n"
     ]
    }
   ],
   "source": [
    "regressors = ['const','consumption_lag1']\n",
    "\n",
    "for i in ['consumption_lag2','realgdp2009', 'primeratechargedbybanks', 'civilianunemploymentrate']:\n",
    "    regressors.append(i)\n",
    "    result = sm.OLS(y, x[regressors]).fit()\n",
    "    dft = pd.DataFrame(result.params, columns=['Coeffs'])\n",
    "    dft['t-test'] = result.tvalues   \n",
    "    dft['combined']= dft.apply(lambda x:'%s (%s)' % (round(x['Coeffs'],3),round(x['t-test'],3)),axis=1)\n",
    "    print(dft['combined'])\n",
    "    #print(dft['combined'].values.reshape(-1,1))\n",
    "    print('r-squared {:.3f}'.format(result.rsquared))\n",
    "\n",
    "    print('')\n",
    "   "
   ]
  },
  {
   "cell_type": "markdown",
   "metadata": {},
   "source": [
    "## 3.2.1 How to save regression into table"
   ]
  },
  {
   "cell_type": "code",
   "execution_count": 10,
   "metadata": {},
   "outputs": [],
   "source": [
    "#result.summary()\n",
    "#with open('summary.csv', 'w') as fh:\n",
    "    #fh.write(result.summary().as_csv())"
   ]
  },
  {
   "cell_type": "markdown",
   "metadata": {},
   "source": [
    "## 4.1. Serial correlation: Durbin-Watson "
   ]
  },
  {
   "cell_type": "code",
   "execution_count": 14,
   "metadata": {},
   "outputs": [
    {
     "name": "stdout",
     "output_type": "stream",
     "text": [
      "No evidence of serial correlation. DW-Test stat: 1.044\n"
     ]
    }
   ],
   "source": [
    "from statsmodels.stats.stattools import durbin_watson\n",
    "\n",
    "residuals = sm.OLS(y,x).fit().resid\n",
    "dw_test= durbin_watson(residuals)\n",
    "if dw_test<1:\n",
    "    print('Evidence of POSITIVE serial correlation. DW-test stat: {:.3f}'.format(dw_test))\n",
    "elif dw_test>2:\n",
    "    print('Evidence of NEGATIVE serial correlation. DW-test stat: {:.3f}'.format(dw_test))\n",
    "else: \n",
    "    print('No evidence of serial correlation. DW-Test stat: {:.3f}'.format(dw_test))\n"
   ]
  },
  {
   "cell_type": "markdown",
   "metadata": {},
   "source": [
    "## 4.2. Serial correlation Breusch Godfrey\n",
    "\n",
    "[Explanation via wiki](https://en.wikipedia.org/wiki/Breusch%E2%80%93Godfrey_test)\n",
    "- The null hypothesis is that there is no serial correlation of any order up to p\n",
    "- The test is more general than the Durbin–Watson statistic (or Durbin's h statistic), which is only valid for nonstochastic regressors and for testing the possibility of a first-order autoregressive model (e.g. AR(1)) for the regression errors.\n",
    "- The BG test has none of these restrictions, and is statistically more powerful than Durbin's h statistic.\n",
    "\n",
    "[Statsmodels package](https://www.statsmodels.org/0.8.0/generated/statsmodels.stats.diagnostic.acorr_breusch_godfrey.html)\n"
   ]
  },
  {
   "cell_type": "code",
   "execution_count": 13,
   "metadata": {},
   "outputs": [
    {
     "name": "stdout",
     "output_type": "stream",
     "text": [
      "Reject the null hypothesis that there is no serial correlation. F-stat pvalue of 0.000004\n"
     ]
    },
    {
     "name": "stderr",
     "output_type": "stream",
     "text": [
      "/Users/corybaird/opt/anaconda3/lib/python3.7/site-packages/statsmodels/stats/diagnostic.py:794: FutureWarning: The default value of nlags is changing.  After 0.12, this value will become min(10, nobs//5). Directly setnlags or period to silence this warning.\n",
      "  FutureWarning)\n"
     ]
    }
   ],
   "source": [
    "from statsmodels.stats.diagnostic import acorr_breusch_godfrey\n",
    "bg_test = list(acorr_breusch_godfrey(result))\n",
    "if bg_test[3]<.05:\n",
    "    print(\"Reject the null hypothesis that there is no serial correlation. F-stat pvalue of {:.6f}\".format(bg_test[3]))"
   ]
  },
  {
   "cell_type": "code",
   "execution_count": null,
   "metadata": {},
   "outputs": [],
   "source": []
  }
 ],
 "metadata": {
  "kernelspec": {
   "display_name": "Python 3",
   "language": "python",
   "name": "python3"
  },
  "language_info": {
   "codemirror_mode": {
    "name": "ipython",
    "version": 3
   },
   "file_extension": ".py",
   "mimetype": "text/x-python",
   "name": "python",
   "nbconvert_exporter": "python",
   "pygments_lexer": "ipython3",
   "version": "3.7.6"
  }
 },
 "nbformat": 4,
 "nbformat_minor": 2
}
