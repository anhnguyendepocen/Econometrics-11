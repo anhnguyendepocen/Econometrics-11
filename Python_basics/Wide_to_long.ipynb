{
 "cells": [
  {
   "cell_type": "code",
   "execution_count": 2,
   "metadata": {},
   "outputs": [],
   "source": [
    "import pandas as pd \n",
    "import numpy as np\n",
    "import matplotlib.pyplot as plt"
   ]
  },
  {
   "cell_type": "code",
   "execution_count": 3,
   "metadata": {},
   "outputs": [],
   "source": [
    "df70 = pd.read_excel('WDI 1970-2017 Annual Data.xlsx')"
   ]
  },
  {
   "cell_type": "code",
   "execution_count": 4,
   "metadata": {
    "scrolled": false
   },
   "outputs": [
    {
     "data": {
      "text/html": [
       "<div>\n",
       "<style scoped>\n",
       "    .dataframe tbody tr th:only-of-type {\n",
       "        vertical-align: middle;\n",
       "    }\n",
       "\n",
       "    .dataframe tbody tr th {\n",
       "        vertical-align: top;\n",
       "    }\n",
       "\n",
       "    .dataframe thead th {\n",
       "        text-align: right;\n",
       "    }\n",
       "</style>\n",
       "<table border=\"1\" class=\"dataframe\">\n",
       "  <thead>\n",
       "    <tr style=\"text-align: right;\">\n",
       "      <th></th>\n",
       "      <th>Country Name</th>\n",
       "      <th>CountryCode_ISO Numeric</th>\n",
       "      <th>Indicator Name</th>\n",
       "      <th>Indicator Code</th>\n",
       "      <th>1970</th>\n",
       "      <th>1971</th>\n",
       "      <th>1972</th>\n",
       "      <th>1973</th>\n",
       "      <th>1974</th>\n",
       "      <th>1975</th>\n",
       "      <th>...</th>\n",
       "      <th>2008</th>\n",
       "      <th>2009</th>\n",
       "      <th>2010</th>\n",
       "      <th>2011</th>\n",
       "      <th>2012</th>\n",
       "      <th>2013</th>\n",
       "      <th>2014</th>\n",
       "      <th>2015</th>\n",
       "      <th>2016</th>\n",
       "      <th>2017</th>\n",
       "    </tr>\n",
       "  </thead>\n",
       "  <tbody>\n",
       "    <tr>\n",
       "      <th>0</th>\n",
       "      <td>Afghanistan</td>\n",
       "      <td>1</td>\n",
       "      <td>2005 PPP conversion factor, GDP (LCU per inter...</td>\n",
       "      <td>PA.NUS.PPP.05</td>\n",
       "      <td>NaN</td>\n",
       "      <td>NaN</td>\n",
       "      <td>NaN</td>\n",
       "      <td>NaN</td>\n",
       "      <td>NaN</td>\n",
       "      <td>NaN</td>\n",
       "      <td>...</td>\n",
       "      <td>NaN</td>\n",
       "      <td>NaN</td>\n",
       "      <td>NaN</td>\n",
       "      <td>NaN</td>\n",
       "      <td>NaN</td>\n",
       "      <td>NaN</td>\n",
       "      <td>NaN</td>\n",
       "      <td>NaN</td>\n",
       "      <td>NaN</td>\n",
       "      <td>NaN</td>\n",
       "    </tr>\n",
       "  </tbody>\n",
       "</table>\n",
       "<p>1 rows × 52 columns</p>\n",
       "</div>"
      ],
      "text/plain": [
       "  Country Name  CountryCode_ISO Numeric  \\\n",
       "0  Afghanistan                        1   \n",
       "\n",
       "                                      Indicator Name Indicator Code  1970  \\\n",
       "0  2005 PPP conversion factor, GDP (LCU per inter...  PA.NUS.PPP.05   NaN   \n",
       "\n",
       "   1971  1972  1973  1974  1975  ...  2008  2009  2010  2011  2012  2013  \\\n",
       "0   NaN   NaN   NaN   NaN   NaN  ...   NaN   NaN   NaN   NaN   NaN   NaN   \n",
       "\n",
       "   2014  2015  2016  2017  \n",
       "0   NaN   NaN   NaN   NaN  \n",
       "\n",
       "[1 rows x 52 columns]"
      ]
     },
     "execution_count": 4,
     "metadata": {},
     "output_type": "execute_result"
    }
   ],
   "source": [
    "df70.head(1)"
   ]
  },
  {
   "cell_type": "markdown",
   "metadata": {},
   "source": [
    "# Melt date columns to rows"
   ]
  },
  {
   "cell_type": "code",
   "execution_count": 5,
   "metadata": {
    "scrolled": true
   },
   "outputs": [
    {
     "data": {
      "text/html": [
       "<div>\n",
       "<style scoped>\n",
       "    .dataframe tbody tr th:only-of-type {\n",
       "        vertical-align: middle;\n",
       "    }\n",
       "\n",
       "    .dataframe tbody tr th {\n",
       "        vertical-align: top;\n",
       "    }\n",
       "\n",
       "    .dataframe thead th {\n",
       "        text-align: right;\n",
       "    }\n",
       "</style>\n",
       "<table border=\"1\" class=\"dataframe\">\n",
       "  <thead>\n",
       "    <tr style=\"text-align: right;\">\n",
       "      <th></th>\n",
       "      <th></th>\n",
       "      <th>Indicator Name</th>\n",
       "      <th>CountryCode_ISO Numeric</th>\n",
       "      <th>Indicator Code</th>\n",
       "      <th>Value</th>\n",
       "    </tr>\n",
       "    <tr>\n",
       "      <th>Country Name</th>\n",
       "      <th>Date</th>\n",
       "      <th></th>\n",
       "      <th></th>\n",
       "      <th></th>\n",
       "      <th></th>\n",
       "    </tr>\n",
       "  </thead>\n",
       "  <tbody>\n",
       "    <tr>\n",
       "      <th rowspan=\"3\" valign=\"top\">Afghanistan</th>\n",
       "      <th>1970-01-01</th>\n",
       "      <td>2005 PPP conversion factor, GDP (LCU per inter...</td>\n",
       "      <td>1</td>\n",
       "      <td>PA.NUS.PPP.05</td>\n",
       "      <td>NaN</td>\n",
       "    </tr>\n",
       "    <tr>\n",
       "      <th>1970-01-01</th>\n",
       "      <td>Access to electricity (% of population)</td>\n",
       "      <td>1</td>\n",
       "      <td>EG.ELC.ACCS.ZS</td>\n",
       "      <td>NaN</td>\n",
       "    </tr>\n",
       "    <tr>\n",
       "      <th>1970-01-01</th>\n",
       "      <td>Account ownership at a financial institution o...</td>\n",
       "      <td>1</td>\n",
       "      <td>FX.OWN.TOTL.ZS</td>\n",
       "      <td>NaN</td>\n",
       "    </tr>\n",
       "  </tbody>\n",
       "</table>\n",
       "</div>"
      ],
      "text/plain": [
       "                                                            Indicator Name  \\\n",
       "Country Name Date                                                            \n",
       "Afghanistan  1970-01-01  2005 PPP conversion factor, GDP (LCU per inter...   \n",
       "             1970-01-01            Access to electricity (% of population)   \n",
       "             1970-01-01  Account ownership at a financial institution o...   \n",
       "\n",
       "                         CountryCode_ISO Numeric  Indicator Code  Value  \n",
       "Country Name Date                                                        \n",
       "Afghanistan  1970-01-01                        1   PA.NUS.PPP.05    NaN  \n",
       "             1970-01-01                        1  EG.ELC.ACCS.ZS    NaN  \n",
       "             1970-01-01                        1  FX.OWN.TOTL.ZS    NaN  "
      ]
     },
     "execution_count": 5,
     "metadata": {},
     "output_type": "execute_result"
    }
   ],
   "source": [
    "df= df70.melt(id_vars=['Country Name','Indicator Name','CountryCode_ISO Numeric','Indicator Code'], var_name='Date', value_name='Value')\n",
    "df.Date= pd.to_datetime(df.Date)\n",
    "df.set_index(['Country Name', 'Date'], inplace=True)\n",
    "df.head(3)"
   ]
  },
  {
   "cell_type": "markdown",
   "metadata": {},
   "source": [
    "# Search for data in column by string"
   ]
  },
  {
   "cell_type": "code",
   "execution_count": 6,
   "metadata": {},
   "outputs": [
    {
     "data": {
      "text/html": [
       "<div>\n",
       "<style scoped>\n",
       "    .dataframe tbody tr th:only-of-type {\n",
       "        vertical-align: middle;\n",
       "    }\n",
       "\n",
       "    .dataframe tbody tr th {\n",
       "        vertical-align: top;\n",
       "    }\n",
       "\n",
       "    .dataframe thead th {\n",
       "        text-align: right;\n",
       "    }\n",
       "</style>\n",
       "<table border=\"1\" class=\"dataframe\">\n",
       "  <thead>\n",
       "    <tr style=\"text-align: right;\">\n",
       "      <th></th>\n",
       "      <th></th>\n",
       "      <th>Indicator Name</th>\n",
       "      <th>CountryCode_ISO Numeric</th>\n",
       "      <th>Indicator Code</th>\n",
       "      <th>Value</th>\n",
       "    </tr>\n",
       "    <tr>\n",
       "      <th>Country Name</th>\n",
       "      <th>Date</th>\n",
       "      <th></th>\n",
       "      <th></th>\n",
       "      <th></th>\n",
       "      <th></th>\n",
       "    </tr>\n",
       "  </thead>\n",
       "  <tbody>\n",
       "    <tr>\n",
       "      <th rowspan=\"3\" valign=\"top\">Afghanistan</th>\n",
       "      <th>1970-01-01</th>\n",
       "      <td>Electric power consumption (kWh per capita)</td>\n",
       "      <td>1</td>\n",
       "      <td>EG.USE.ELEC.KH.PC</td>\n",
       "      <td>NaN</td>\n",
       "    </tr>\n",
       "    <tr>\n",
       "      <th>1970-01-01</th>\n",
       "      <td>Fossil fuel energy consumption (% of total)</td>\n",
       "      <td>1</td>\n",
       "      <td>EG.USE.COMM.FO.ZS</td>\n",
       "      <td>NaN</td>\n",
       "    </tr>\n",
       "    <tr>\n",
       "      <th>1970-01-01</th>\n",
       "      <td>Households and NPISHs final consumption expend...</td>\n",
       "      <td>1</td>\n",
       "      <td>NE.CON.PRVT.ZS</td>\n",
       "      <td>96.696319</td>\n",
       "    </tr>\n",
       "  </tbody>\n",
       "</table>\n",
       "</div>"
      ],
      "text/plain": [
       "                                                            Indicator Name  \\\n",
       "Country Name Date                                                            \n",
       "Afghanistan  1970-01-01        Electric power consumption (kWh per capita)   \n",
       "             1970-01-01        Fossil fuel energy consumption (% of total)   \n",
       "             1970-01-01  Households and NPISHs final consumption expend...   \n",
       "\n",
       "                         CountryCode_ISO Numeric     Indicator Code      Value  \n",
       "Country Name Date                                                               \n",
       "Afghanistan  1970-01-01                        1  EG.USE.ELEC.KH.PC        NaN  \n",
       "             1970-01-01                        1  EG.USE.COMM.FO.ZS        NaN  \n",
       "             1970-01-01                        1     NE.CON.PRVT.ZS  96.696319  "
      ]
     },
     "execution_count": 6,
     "metadata": {},
     "output_type": "execute_result"
    }
   ],
   "source": [
    "df[df['Indicator Name'].str.contains('consumption')].head(3)"
   ]
  },
  {
   "cell_type": "markdown",
   "metadata": {},
   "source": [
    "# Search for specific indicator"
   ]
  },
  {
   "cell_type": "code",
   "execution_count": 7,
   "metadata": {
    "scrolled": true
   },
   "outputs": [
    {
     "data": {
      "text/html": [
       "<div>\n",
       "<style scoped>\n",
       "    .dataframe tbody tr th:only-of-type {\n",
       "        vertical-align: middle;\n",
       "    }\n",
       "\n",
       "    .dataframe tbody tr th {\n",
       "        vertical-align: top;\n",
       "    }\n",
       "\n",
       "    .dataframe thead th {\n",
       "        text-align: right;\n",
       "    }\n",
       "</style>\n",
       "<table border=\"1\" class=\"dataframe\">\n",
       "  <thead>\n",
       "    <tr style=\"text-align: right;\">\n",
       "      <th></th>\n",
       "      <th></th>\n",
       "      <th>Indicator Name</th>\n",
       "      <th>CountryCode_ISO Numeric</th>\n",
       "      <th>Indicator Code</th>\n",
       "      <th>Value</th>\n",
       "    </tr>\n",
       "    <tr>\n",
       "      <th>Country Name</th>\n",
       "      <th>Date</th>\n",
       "      <th></th>\n",
       "      <th></th>\n",
       "      <th></th>\n",
       "      <th></th>\n",
       "    </tr>\n",
       "  </thead>\n",
       "  <tbody>\n",
       "    <tr>\n",
       "      <th rowspan=\"5\" valign=\"top\">Afghanistan</th>\n",
       "      <th>1970-01-01</th>\n",
       "      <td>Households and NPISHs final consumption expend...</td>\n",
       "      <td>1</td>\n",
       "      <td>NE.CON.PRVT.ZS</td>\n",
       "      <td>96.696319</td>\n",
       "    </tr>\n",
       "    <tr>\n",
       "      <th>1971-01-01</th>\n",
       "      <td>Households and NPISHs final consumption expend...</td>\n",
       "      <td>1</td>\n",
       "      <td>NE.CON.PRVT.ZS</td>\n",
       "      <td>99.757272</td>\n",
       "    </tr>\n",
       "    <tr>\n",
       "      <th>1972-01-01</th>\n",
       "      <td>Households and NPISHs final consumption expend...</td>\n",
       "      <td>1</td>\n",
       "      <td>NE.CON.PRVT.ZS</td>\n",
       "      <td>96.796665</td>\n",
       "    </tr>\n",
       "    <tr>\n",
       "      <th>1973-01-01</th>\n",
       "      <td>Households and NPISHs final consumption expend...</td>\n",
       "      <td>1</td>\n",
       "      <td>NE.CON.PRVT.ZS</td>\n",
       "      <td>94.487183</td>\n",
       "    </tr>\n",
       "    <tr>\n",
       "      <th>1974-01-01</th>\n",
       "      <td>Households and NPISHs final consumption expend...</td>\n",
       "      <td>1</td>\n",
       "      <td>NE.CON.PRVT.ZS</td>\n",
       "      <td>92.061859</td>\n",
       "    </tr>\n",
       "  </tbody>\n",
       "</table>\n",
       "</div>"
      ],
      "text/plain": [
       "                                                            Indicator Name  \\\n",
       "Country Name Date                                                            \n",
       "Afghanistan  1970-01-01  Households and NPISHs final consumption expend...   \n",
       "             1971-01-01  Households and NPISHs final consumption expend...   \n",
       "             1972-01-01  Households and NPISHs final consumption expend...   \n",
       "             1973-01-01  Households and NPISHs final consumption expend...   \n",
       "             1974-01-01  Households and NPISHs final consumption expend...   \n",
       "\n",
       "                         CountryCode_ISO Numeric  Indicator Code      Value  \n",
       "Country Name Date                                                            \n",
       "Afghanistan  1970-01-01                        1  NE.CON.PRVT.ZS  96.696319  \n",
       "             1971-01-01                        1  NE.CON.PRVT.ZS  99.757272  \n",
       "             1972-01-01                        1  NE.CON.PRVT.ZS  96.796665  \n",
       "             1973-01-01                        1  NE.CON.PRVT.ZS  94.487183  \n",
       "             1974-01-01                        1  NE.CON.PRVT.ZS  92.061859  "
      ]
     },
     "execution_count": 7,
     "metadata": {},
     "output_type": "execute_result"
    }
   ],
   "source": [
    "df= df.sort_index(0)\n",
    "df.loc[df['Indicator Code']=='NE.CON.PRVT.ZS'].head(5)"
   ]
  },
  {
   "cell_type": "code",
   "execution_count": 8,
   "metadata": {},
   "outputs": [
    {
     "name": "stdout",
     "output_type": "stream",
     "text": [
      "<class 'pandas.core.frame.DataFrame'>\n",
      "MultiIndex: 2177664 entries, ('Afghanistan', Timestamp('1970-01-01 00:00:00')) to ('Zimbabwe', Timestamp('2017-01-01 00:00:00'))\n",
      "Data columns (total 4 columns):\n",
      " #   Column                   Dtype  \n",
      "---  ------                   -----  \n",
      " 0   Indicator Name           object \n",
      " 1   CountryCode_ISO Numeric  int64  \n",
      " 2   Indicator Code           object \n",
      " 3   Value                    float64\n",
      "dtypes: float64(1), int64(1), object(2)\n",
      "memory usage: 72.7+ MB\n"
     ]
    }
   ],
   "source": [
    "df.info()"
   ]
  }
 ],
 "metadata": {
  "kernelspec": {
   "display_name": "Python 3",
   "language": "python",
   "name": "python3"
  },
  "language_info": {
   "codemirror_mode": {
    "name": "ipython",
    "version": 3
   },
   "file_extension": ".py",
   "mimetype": "text/x-python",
   "name": "python",
   "nbconvert_exporter": "python",
   "pygments_lexer": "ipython3",
   "version": "3.7.6"
  }
 },
 "nbformat": 4,
 "nbformat_minor": 2
}
