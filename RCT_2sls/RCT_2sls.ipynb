{
 "cells": [
  {
   "cell_type": "code",
   "execution_count": 1,
   "metadata": {},
   "outputs": [],
   "source": [
    "import sys\n",
    "import csv\n",
    "import warnings\n",
    "import numpy as np\n",
    "import seaborn as sns\n",
    "from scipy import stats\n",
    "import pandas as pd\n",
    "import statsmodels.api as sm\n",
    "import matplotlib.pyplot as plt\n",
    "\n",
    "if not sys.warnoptions:\n",
    "    warnings.simplefilter(\"ignore\")"
   ]
  },
  {
   "cell_type": "markdown",
   "metadata": {},
   "source": [
    "# Example 1"
   ]
  },
  {
   "cell_type": "markdown",
   "metadata": {},
   "source": [
    "- 120 children participated in the study, with 60 children assigned to the treatment (trt = 1), and 60 assigned to control (trt = 0). \n",
    "\n",
    "\n",
    "- There were some issues with noncompliance, and not every student in the treatment group received the treatment (rectrt = 1). \n",
    "\n",
    "\n",
    "- The outcomes of interest are height, weight and IQ scores in 2012. \n",
    "- In addition to the outcome variables, you have also been given pre-treatment scores in 2011 as well as a variety of demographic covariates (eg., living in urban or suburban). \n",
    "- The health outcome scores have been normalized and so are in standard deviation units. All of the variables in the dataset are labeled.  \n"
   ]
  },
  {
   "cell_type": "markdown",
   "metadata": {},
   "source": [
    "# 1. Upload data"
   ]
  },
  {
   "cell_type": "code",
   "execution_count": 2,
   "metadata": {},
   "outputs": [
    {
     "name": "stdout",
     "output_type": "stream",
     "text": [
      " Fixed_random.ipynb\t   'WDI-subset5y_extended 2014 fall.xlsx'\r\n",
      " Instrumental-Copy1.ipynb   height_2012_csvfile.csv\r\n",
      " RCT_2sls.ipynb\t\t    rct_data.dta\r\n"
     ]
    }
   ],
   "source": [
    "#Locate file\n",
    "!ls"
   ]
  },
  {
   "cell_type": "code",
   "execution_count": 3,
   "metadata": {},
   "outputs": [
    {
     "data": {
      "text/html": [
       "<div>\n",
       "<style scoped>\n",
       "    .dataframe tbody tr th:only-of-type {\n",
       "        vertical-align: middle;\n",
       "    }\n",
       "\n",
       "    .dataframe tbody tr th {\n",
       "        vertical-align: top;\n",
       "    }\n",
       "\n",
       "    .dataframe thead th {\n",
       "        text-align: right;\n",
       "    }\n",
       "</style>\n",
       "<table border=\"1\" class=\"dataframe\">\n",
       "  <thead>\n",
       "    <tr style=\"text-align: right;\">\n",
       "      <th></th>\n",
       "      <th>ID</th>\n",
       "      <th>trt</th>\n",
       "      <th>rectrt</th>\n",
       "      <th>height_2012</th>\n",
       "      <th>height_2011</th>\n",
       "      <th>weight_2012</th>\n",
       "      <th>weight_2011</th>\n",
       "      <th>IQ_2012</th>\n",
       "      <th>IQ_2011</th>\n",
       "      <th>urban</th>\n",
       "      <th>suburban</th>\n",
       "    </tr>\n",
       "  </thead>\n",
       "  <tbody>\n",
       "    <tr>\n",
       "      <th>0</th>\n",
       "      <td>1</td>\n",
       "      <td>1</td>\n",
       "      <td>1</td>\n",
       "      <td>6</td>\n",
       "      <td>84</td>\n",
       "      <td>60</td>\n",
       "      <td>71</td>\n",
       "      <td>82</td>\n",
       "      <td>61</td>\n",
       "      <td>0</td>\n",
       "      <td>0</td>\n",
       "    </tr>\n",
       "    <tr>\n",
       "      <th>1</th>\n",
       "      <td>2</td>\n",
       "      <td>1</td>\n",
       "      <td>1</td>\n",
       "      <td>29</td>\n",
       "      <td>32</td>\n",
       "      <td>72</td>\n",
       "      <td>88</td>\n",
       "      <td>86</td>\n",
       "      <td>75</td>\n",
       "      <td>1</td>\n",
       "      <td>1</td>\n",
       "    </tr>\n",
       "    <tr>\n",
       "      <th>2</th>\n",
       "      <td>3</td>\n",
       "      <td>1</td>\n",
       "      <td>1</td>\n",
       "      <td>69</td>\n",
       "      <td>37</td>\n",
       "      <td>63</td>\n",
       "      <td>97</td>\n",
       "      <td>23</td>\n",
       "      <td>30</td>\n",
       "      <td>0</td>\n",
       "      <td>1</td>\n",
       "    </tr>\n",
       "  </tbody>\n",
       "</table>\n",
       "</div>"
      ],
      "text/plain": [
       "   ID  trt  rectrt  height_2012  height_2011  weight_2012  weight_2011  \\\n",
       "0   1    1       1            6           84           60           71   \n",
       "1   2    1       1           29           32           72           88   \n",
       "2   3    1       1           69           37           63           97   \n",
       "\n",
       "   IQ_2012  IQ_2011  urban  suburban  \n",
       "0       82       61      0         0  \n",
       "1       86       75      1         1  \n",
       "2       23       30      0         1  "
      ]
     },
     "execution_count": 3,
     "metadata": {},
     "output_type": "execute_result"
    }
   ],
   "source": [
    "#Upload file\n",
    "file = 'rct_data.dta'\n",
    "df = pd.read_stata(file)\n",
    "df.head(3)"
   ]
  },
  {
   "cell_type": "code",
   "execution_count": 4,
   "metadata": {
    "scrolled": true
   },
   "outputs": [
    {
     "name": "stdout",
     "output_type": "stream",
     "text": [
      "<class 'pandas.core.frame.DataFrame'>\n",
      "Int64Index: 120 entries, 0 to 119\n",
      "Data columns (total 11 columns):\n",
      " #   Column       Non-Null Count  Dtype\n",
      "---  ------       --------------  -----\n",
      " 0   ID           120 non-null    int16\n",
      " 1   trt          120 non-null    int8 \n",
      " 2   rectrt       120 non-null    int8 \n",
      " 3   height_2012  120 non-null    int8 \n",
      " 4   height_2011  120 non-null    int8 \n",
      " 5   weight_2012  120 non-null    int8 \n",
      " 6   weight_2011  120 non-null    int8 \n",
      " 7   IQ_2012      120 non-null    int8 \n",
      " 8   IQ_2011      120 non-null    int8 \n",
      " 9   urban        120 non-null    int8 \n",
      " 10  suburban     120 non-null    int8 \n",
      "dtypes: int16(1), int8(10)\n",
      "memory usage: 2.3 KB\n"
     ]
    }
   ],
   "source": [
    "#Check variables\n",
    "df.info()"
   ]
  },
  {
   "cell_type": "markdown",
   "metadata": {},
   "source": [
    "# 2. EDA"
   ]
  },
  {
   "cell_type": "markdown",
   "metadata": {},
   "source": [
    "## 2.1 Descriptive statistics"
   ]
  },
  {
   "cell_type": "code",
   "execution_count": 5,
   "metadata": {
    "scrolled": true
   },
   "outputs": [
    {
     "data": {
      "text/html": [
       "<div>\n",
       "<style scoped>\n",
       "    .dataframe tbody tr th:only-of-type {\n",
       "        vertical-align: middle;\n",
       "    }\n",
       "\n",
       "    .dataframe tbody tr th {\n",
       "        vertical-align: top;\n",
       "    }\n",
       "\n",
       "    .dataframe thead th {\n",
       "        text-align: right;\n",
       "    }\n",
       "</style>\n",
       "<table border=\"1\" class=\"dataframe\">\n",
       "  <thead>\n",
       "    <tr style=\"text-align: right;\">\n",
       "      <th></th>\n",
       "      <th>ID</th>\n",
       "      <th>trt</th>\n",
       "      <th>rectrt</th>\n",
       "      <th>height_2012</th>\n",
       "      <th>height_2011</th>\n",
       "      <th>weight_2012</th>\n",
       "      <th>weight_2011</th>\n",
       "      <th>IQ_2012</th>\n",
       "      <th>IQ_2011</th>\n",
       "      <th>urban</th>\n",
       "      <th>suburban</th>\n",
       "    </tr>\n",
       "  </thead>\n",
       "  <tbody>\n",
       "    <tr>\n",
       "      <th>count</th>\n",
       "      <td>120.000000</td>\n",
       "      <td>120.000000</td>\n",
       "      <td>120.000000</td>\n",
       "      <td>120.000000</td>\n",
       "      <td>120.000000</td>\n",
       "      <td>120.000000</td>\n",
       "      <td>120.000000</td>\n",
       "      <td>120.000000</td>\n",
       "      <td>120.000000</td>\n",
       "      <td>120.00000</td>\n",
       "      <td>120.000000</td>\n",
       "    </tr>\n",
       "    <tr>\n",
       "      <th>mean</th>\n",
       "      <td>60.500000</td>\n",
       "      <td>0.491667</td>\n",
       "      <td>0.433333</td>\n",
       "      <td>49.300000</td>\n",
       "      <td>53.991667</td>\n",
       "      <td>53.166667</td>\n",
       "      <td>52.250000</td>\n",
       "      <td>53.850000</td>\n",
       "      <td>52.808333</td>\n",
       "      <td>0.55000</td>\n",
       "      <td>0.441667</td>\n",
       "    </tr>\n",
       "    <tr>\n",
       "      <th>std</th>\n",
       "      <td>34.785054</td>\n",
       "      <td>0.502027</td>\n",
       "      <td>0.497613</td>\n",
       "      <td>28.211268</td>\n",
       "      <td>27.823120</td>\n",
       "      <td>27.105252</td>\n",
       "      <td>26.237522</td>\n",
       "      <td>28.327511</td>\n",
       "      <td>29.661478</td>\n",
       "      <td>0.49958</td>\n",
       "      <td>0.498668</td>\n",
       "    </tr>\n",
       "    <tr>\n",
       "      <th>min</th>\n",
       "      <td>1.000000</td>\n",
       "      <td>0.000000</td>\n",
       "      <td>0.000000</td>\n",
       "      <td>0.000000</td>\n",
       "      <td>0.000000</td>\n",
       "      <td>5.000000</td>\n",
       "      <td>2.000000</td>\n",
       "      <td>0.000000</td>\n",
       "      <td>1.000000</td>\n",
       "      <td>0.00000</td>\n",
       "      <td>0.000000</td>\n",
       "    </tr>\n",
       "    <tr>\n",
       "      <th>25%</th>\n",
       "      <td>30.750000</td>\n",
       "      <td>0.000000</td>\n",
       "      <td>0.000000</td>\n",
       "      <td>25.000000</td>\n",
       "      <td>30.000000</td>\n",
       "      <td>30.750000</td>\n",
       "      <td>33.000000</td>\n",
       "      <td>31.750000</td>\n",
       "      <td>27.750000</td>\n",
       "      <td>0.00000</td>\n",
       "      <td>0.000000</td>\n",
       "    </tr>\n",
       "    <tr>\n",
       "      <th>50%</th>\n",
       "      <td>60.500000</td>\n",
       "      <td>0.000000</td>\n",
       "      <td>0.000000</td>\n",
       "      <td>50.000000</td>\n",
       "      <td>55.500000</td>\n",
       "      <td>56.500000</td>\n",
       "      <td>53.000000</td>\n",
       "      <td>55.500000</td>\n",
       "      <td>53.500000</td>\n",
       "      <td>1.00000</td>\n",
       "      <td>0.000000</td>\n",
       "    </tr>\n",
       "    <tr>\n",
       "      <th>75%</th>\n",
       "      <td>90.250000</td>\n",
       "      <td>1.000000</td>\n",
       "      <td>1.000000</td>\n",
       "      <td>73.250000</td>\n",
       "      <td>78.000000</td>\n",
       "      <td>76.250000</td>\n",
       "      <td>72.750000</td>\n",
       "      <td>79.250000</td>\n",
       "      <td>81.250000</td>\n",
       "      <td>1.00000</td>\n",
       "      <td>1.000000</td>\n",
       "    </tr>\n",
       "    <tr>\n",
       "      <th>max</th>\n",
       "      <td>120.000000</td>\n",
       "      <td>1.000000</td>\n",
       "      <td>1.000000</td>\n",
       "      <td>99.000000</td>\n",
       "      <td>100.000000</td>\n",
       "      <td>99.000000</td>\n",
       "      <td>100.000000</td>\n",
       "      <td>100.000000</td>\n",
       "      <td>100.000000</td>\n",
       "      <td>1.00000</td>\n",
       "      <td>1.000000</td>\n",
       "    </tr>\n",
       "  </tbody>\n",
       "</table>\n",
       "</div>"
      ],
      "text/plain": [
       "               ID         trt      rectrt  height_2012  height_2011  \\\n",
       "count  120.000000  120.000000  120.000000   120.000000   120.000000   \n",
       "mean    60.500000    0.491667    0.433333    49.300000    53.991667   \n",
       "std     34.785054    0.502027    0.497613    28.211268    27.823120   \n",
       "min      1.000000    0.000000    0.000000     0.000000     0.000000   \n",
       "25%     30.750000    0.000000    0.000000    25.000000    30.000000   \n",
       "50%     60.500000    0.000000    0.000000    50.000000    55.500000   \n",
       "75%     90.250000    1.000000    1.000000    73.250000    78.000000   \n",
       "max    120.000000    1.000000    1.000000    99.000000   100.000000   \n",
       "\n",
       "       weight_2012  weight_2011     IQ_2012     IQ_2011      urban    suburban  \n",
       "count   120.000000   120.000000  120.000000  120.000000  120.00000  120.000000  \n",
       "mean     53.166667    52.250000   53.850000   52.808333    0.55000    0.441667  \n",
       "std      27.105252    26.237522   28.327511   29.661478    0.49958    0.498668  \n",
       "min       5.000000     2.000000    0.000000    1.000000    0.00000    0.000000  \n",
       "25%      30.750000    33.000000   31.750000   27.750000    0.00000    0.000000  \n",
       "50%      56.500000    53.000000   55.500000   53.500000    1.00000    0.000000  \n",
       "75%      76.250000    72.750000   79.250000   81.250000    1.00000    1.000000  \n",
       "max      99.000000   100.000000  100.000000  100.000000    1.00000    1.000000  "
      ]
     },
     "execution_count": 5,
     "metadata": {},
     "output_type": "execute_result"
    }
   ],
   "source": [
    "df.describe()"
   ]
  },
  {
   "cell_type": "markdown",
   "metadata": {},
   "source": [
    "## 2.2 Plot distribution of treated vs. non-treated"
   ]
  },
  {
   "cell_type": "code",
   "execution_count": 6,
   "metadata": {},
   "outputs": [
    {
     "data": {
      "image/png": "[encoded data removed]",
      "text/plain": [
       "<Figure size 864x576 with 8 Axes>"
      ]
     },
     "metadata": {
      "image/png": {
       "height": 522,
       "width": 731
      },
      "needs_background": "light"
     },
     "output_type": "display_data"
    }
   ],
   "source": [
    "def summary_plot_2periods(boxplot, colnames):\n",
    "    fig, axes = plt.subplots(len(colnames) // 2, 2, figsize=(12, 8))\n",
    "    k = 0\n",
    "    for i in range(len(colnames) // 2):\n",
    "        for j in range(2):\n",
    "            if boxplot:\n",
    "                df.boxplot(column=colnames[k], by='trt', ax=axes[(i, j)])\n",
    "            else:\n",
    "                sns.violinplot('trt', colnames[k], data=df, ax=axes[(i, j)])\n",
    "            k += 1\n",
    "colnames = ['height_2012', 'height_2011', 'weight_2012', 'weight_2011', 'IQ_2012', 'IQ_2011', 'urban', 'suburban']\n",
    "summary_plot_2periods(boxplot=True, colnames=colnames)"
   ]
  },
  {
   "cell_type": "markdown",
   "metadata": {},
   "source": [
    "# 3. Preprocess data"
   ]
  },
  {
   "cell_type": "markdown",
   "metadata": {},
   "source": [
    "120 children participated in the study, with 60 children assigned to the treatment (trt = 1), and 60 assigned to control (trt = 0). There were some issues with noncompliance, and not every student in the treatment group received the treatment (rectrt = 1). \n",
    "\n",
    "- The outcomes of interest are height, weight and IQ scores in 2012. \n",
    "    - Y = height, weight, IQ\n",
    "    \n",
    "    \n",
    "- Pre-treatment scores in 2011 as well as a variety of demographic covariates (eg., living in urban or suburban). \n",
    "    - X 2011, suburban vs. urban \n",
    "    - The health outcome scores have been normalized and so are in standard deviation units. \n",
    "    - All of the variables in the dataset are labeled.  "
   ]
  },
  {
   "cell_type": "markdown",
   "metadata": {},
   "source": [
    "# 3.1 Constructing vectors of Y (label), and X(regressors)\n",
    "\n",
    "- Iterate data to create 3 seperate models \n",
    "    Y = height, weight, IQ"
   ]
  },
  {
   "cell_type": "code",
   "execution_count": 7,
   "metadata": {},
   "outputs": [
    {
     "name": "stdout",
     "output_type": "stream",
     "text": [
      "Model 1: y=['height_2012'] x=['const' 'trt' 'urban' 'height_2011']\n",
      "Model 2: y=['weight_2012'] x=['const' 'trt' 'urban' 'weight_2011']\n",
      "Model 3: y=['IQ_2012'] x=['const' 'trt' 'urban' 'IQ_2011']\n"
     ]
    }
   ],
   "source": [
    "file = 'rct_data.dta' #DTA filename\n",
    "df = pd.read_stata(file) #Import data from the top to be save\n",
    "y_list = ['height_2012', 'weight_2012', 'IQ_2012'] #Y variables\n",
    "lagged_DV = [sub.replace('2012', '2011') for sub in y_list] #Lagged Y-vars  \n",
    "\n",
    "for idx, (DV, lagged) in enumerate(zip(y_list, lagged_DV)): #Iterate over y_list and lagged_DV\n",
    "    x = df[['trt' ,'urban', str(lagged)]] #Set independent variables + each respective lagged var\n",
    "    x = sm.add_constant(x) #Add constant to indepdent variables\n",
    "    y = df[[DV]] #Y-variable\n",
    "    print('Model '+str(idx+1)+': y='+str(y.columns.values), 'x='+str(x.columns.values)) #Print each model that will be used"
   ]
  },
  {
   "cell_type": "markdown",
   "metadata": {},
   "source": [
    "# 4. Baseline regressions"
   ]
  },
  {
   "cell_type": "markdown",
   "metadata": {},
   "source": [
    "## 4.1 Exploring non-compliant"
   ]
  },
  {
   "cell_type": "markdown",
   "metadata": {},
   "source": [
    "### 4.1.1 Approaches to non-compliant\n",
    "1. `Per protocal:` Examine only participants who were compliant\n",
    "2. `As treated:` Examined as they were treated\n",
    "3. `Intention to treat:` Examined as they were assigned"
   ]
  },
  {
   "cell_type": "markdown",
   "metadata": {},
   "source": [
    "### 4.1.2 Exploring non-compliars in data set"
   ]
  },
  {
   "cell_type": "code",
   "execution_count": 8,
   "metadata": {},
   "outputs": [],
   "source": [
    "mask = (df.trt==1) & (df.rectrt==0)"
   ]
  },
  {
   "cell_type": "code",
   "execution_count": 9,
   "metadata": {
    "scrolled": true
   },
   "outputs": [
    {
     "data": {
      "text/html": [
       "<div>\n",
       "<style scoped>\n",
       "    .dataframe tbody tr th:only-of-type {\n",
       "        vertical-align: middle;\n",
       "    }\n",
       "\n",
       "    .dataframe tbody tr th {\n",
       "        vertical-align: top;\n",
       "    }\n",
       "\n",
       "    .dataframe thead th {\n",
       "        text-align: right;\n",
       "    }\n",
       "</style>\n",
       "<table border=\"1\" class=\"dataframe\">\n",
       "  <thead>\n",
       "    <tr style=\"text-align: right;\">\n",
       "      <th></th>\n",
       "      <th>ID</th>\n",
       "      <th>trt</th>\n",
       "      <th>rectrt</th>\n",
       "      <th>height_2012</th>\n",
       "      <th>height_2011</th>\n",
       "      <th>weight_2012</th>\n",
       "      <th>weight_2011</th>\n",
       "      <th>IQ_2012</th>\n",
       "      <th>IQ_2011</th>\n",
       "      <th>urban</th>\n",
       "      <th>suburban</th>\n",
       "    </tr>\n",
       "  </thead>\n",
       "  <tbody>\n",
       "    <tr>\n",
       "      <th>52</th>\n",
       "      <td>53</td>\n",
       "      <td>1</td>\n",
       "      <td>0</td>\n",
       "      <td>81</td>\n",
       "      <td>73</td>\n",
       "      <td>36</td>\n",
       "      <td>41</td>\n",
       "      <td>25</td>\n",
       "      <td>82</td>\n",
       "      <td>1</td>\n",
       "      <td>1</td>\n",
       "    </tr>\n",
       "    <tr>\n",
       "      <th>53</th>\n",
       "      <td>54</td>\n",
       "      <td>1</td>\n",
       "      <td>0</td>\n",
       "      <td>20</td>\n",
       "      <td>78</td>\n",
       "      <td>46</td>\n",
       "      <td>72</td>\n",
       "      <td>21</td>\n",
       "      <td>69</td>\n",
       "      <td>1</td>\n",
       "      <td>0</td>\n",
       "    </tr>\n",
       "    <tr>\n",
       "      <th>54</th>\n",
       "      <td>55</td>\n",
       "      <td>1</td>\n",
       "      <td>0</td>\n",
       "      <td>23</td>\n",
       "      <td>46</td>\n",
       "      <td>51</td>\n",
       "      <td>16</td>\n",
       "      <td>38</td>\n",
       "      <td>100</td>\n",
       "      <td>0</td>\n",
       "      <td>0</td>\n",
       "    </tr>\n",
       "    <tr>\n",
       "      <th>55</th>\n",
       "      <td>56</td>\n",
       "      <td>1</td>\n",
       "      <td>0</td>\n",
       "      <td>52</td>\n",
       "      <td>28</td>\n",
       "      <td>18</td>\n",
       "      <td>42</td>\n",
       "      <td>95</td>\n",
       "      <td>93</td>\n",
       "      <td>0</td>\n",
       "      <td>1</td>\n",
       "    </tr>\n",
       "    <tr>\n",
       "      <th>56</th>\n",
       "      <td>57</td>\n",
       "      <td>1</td>\n",
       "      <td>0</td>\n",
       "      <td>40</td>\n",
       "      <td>79</td>\n",
       "      <td>84</td>\n",
       "      <td>82</td>\n",
       "      <td>47</td>\n",
       "      <td>69</td>\n",
       "      <td>0</td>\n",
       "      <td>1</td>\n",
       "    </tr>\n",
       "    <tr>\n",
       "      <th>57</th>\n",
       "      <td>58</td>\n",
       "      <td>1</td>\n",
       "      <td>0</td>\n",
       "      <td>48</td>\n",
       "      <td>91</td>\n",
       "      <td>87</td>\n",
       "      <td>31</td>\n",
       "      <td>89</td>\n",
       "      <td>6</td>\n",
       "      <td>1</td>\n",
       "      <td>0</td>\n",
       "    </tr>\n",
       "    <tr>\n",
       "      <th>58</th>\n",
       "      <td>59</td>\n",
       "      <td>1</td>\n",
       "      <td>0</td>\n",
       "      <td>27</td>\n",
       "      <td>6</td>\n",
       "      <td>69</td>\n",
       "      <td>64</td>\n",
       "      <td>89</td>\n",
       "      <td>61</td>\n",
       "      <td>1</td>\n",
       "      <td>1</td>\n",
       "    </tr>\n",
       "  </tbody>\n",
       "</table>\n",
       "</div>"
      ],
      "text/plain": [
       "    ID  trt  rectrt  height_2012  height_2011  weight_2012  weight_2011  \\\n",
       "52  53    1       0           81           73           36           41   \n",
       "53  54    1       0           20           78           46           72   \n",
       "54  55    1       0           23           46           51           16   \n",
       "55  56    1       0           52           28           18           42   \n",
       "56  57    1       0           40           79           84           82   \n",
       "57  58    1       0           48           91           87           31   \n",
       "58  59    1       0           27            6           69           64   \n",
       "\n",
       "    IQ_2012  IQ_2011  urban  suburban  \n",
       "52       25       82      1         1  \n",
       "53       21       69      1         0  \n",
       "54       38      100      0         0  \n",
       "55       95       93      0         1  \n",
       "56       47       69      0         1  \n",
       "57       89        6      1         0  \n",
       "58       89       61      1         1  "
      ]
     },
     "execution_count": 9,
     "metadata": {},
     "output_type": "execute_result"
    }
   ],
   "source": [
    "df.loc[mask]"
   ]
  },
  {
   "cell_type": "markdown",
   "metadata": {},
   "source": [
    "### 4.1.2 Create Non-compliant dummy"
   ]
  },
  {
   "cell_type": "code",
   "execution_count": 10,
   "metadata": {},
   "outputs": [],
   "source": [
    "df['Non_compliant'] = pd.get_dummies(mask, drop_first=True)"
   ]
  },
  {
   "cell_type": "code",
   "execution_count": 11,
   "metadata": {},
   "outputs": [
    {
     "name": "stdout",
     "output_type": "stream",
     "text": [
      "5.83% of treated were non-complient\n"
     ]
    }
   ],
   "source": [
    "pct_noncomplier = df['Non_compliant'].mean()\n",
    "print('{:.2f}% of treated were non-complient'.format(pct_noncomplier*100))"
   ]
  },
  {
   "cell_type": "markdown",
   "metadata": {},
   "source": [
    "## 4.2 Is RCT balanced?"
   ]
  },
  {
   "cell_type": "markdown",
   "metadata": {},
   "source": [
    "### 4.2.1 T-test on means"
   ]
  },
  {
   "cell_type": "code",
   "execution_count": 12,
   "metadata": {},
   "outputs": [
    {
     "name": "stdout",
     "output_type": "stream",
     "text": [
      "Fail to reject, P-val:0.44\n",
      " For height_2011 we cannot conclude there is a difference between treated and un-treated means\n",
      "Fail to reject, P-val:0.43\n",
      " For weight_2011 we cannot conclude there is a difference between treated and un-treated means\n",
      "Fail to reject, P-val:0.13\n",
      " For IQ_2011 we cannot conclude there is a difference between treated and un-treated means\n",
      "Fail to reject, P-val:0.2\n",
      " For urban we cannot conclude there is a difference between treated and un-treated means\n",
      "Fail to reject, P-val:0.98\n",
      " For suburban we cannot conclude there is a difference between treated and un-treated means\n"
     ]
    }
   ],
   "source": [
    "means = ['height_2011', 'weight_2011', 'IQ_2011', 'urban', 'suburban']\n",
    "\n",
    "for mean in means:\n",
    "    non_comp = df.loc[df['trt']==1, mean].values\n",
    "    complier = df.loc[df['trt']==0, mean].values\n",
    "    #print(stats.ttest_ind(non, complier))\n",
    "    tval, pval = stats.ttest_ind(non_comp, complier)\n",
    "    if pval>.01:\n",
    "            print('Fail to reject, P-val:'+str(round(pval,2))+'\\n For '+ str(mean)+ ' we cannot conclude there is a difference between treated and un-treated means')"
   ]
  },
  {
   "cell_type": "markdown",
   "metadata": {},
   "source": [
    "## 4.3 Baseline regression\n",
    "### Intention to treat (ITT) regressions: \n",
    "`Intention to treat:` Examined as they were assigned"
   ]
  },
  {
   "cell_type": "code",
   "execution_count": 13,
   "metadata": {},
   "outputs": [
    {
     "name": "stdout",
     "output_type": "stream",
     "text": [
      "                            OLS Regression Results                            \n",
      "==============================================================================\n",
      "Dep. Variable:            height_2012   R-squared:                       0.057\n",
      "Model:                            OLS   Adj. R-squared:                  0.032\n",
      "Method:                 Least Squares   F-statistic:                     2.323\n",
      "Date:                Mon, 02 Mar 2020   Prob (F-statistic):             0.0787\n",
      "Time:                        16:05:11   Log-Likelihood:                -567.04\n",
      "No. Observations:                 120   AIC:                             1142.\n",
      "Df Residuals:                     116   BIC:                             1153.\n",
      "Df Model:                           3                                         \n",
      "Covariance Type:            nonrobust                                         \n",
      "==============================================================================\n",
      "                 coef    std err          t      P>|t|      [0.025      0.975]\n",
      "------------------------------------------------------------------------------\n",
      "const         62.1789      6.729      9.241      0.000      48.852      75.506\n",
      "x1            -1.0771      5.123     -0.210      0.834     -11.224       9.070\n",
      "x2             0.8289      5.170      0.160      0.873      -9.410      11.068\n",
      "x3            -0.2372      0.092     -2.567      0.012      -0.420      -0.054\n",
      "==============================================================================\n",
      "Omnibus:                       36.380   Durbin-Watson:                   1.647\n",
      "Prob(Omnibus):                  0.000   Jarque-Bera (JB):                7.018\n",
      "Skew:                           0.125   Prob(JB):                       0.0299\n",
      "Kurtosis:                       1.842   Cond. No.                         179.\n",
      "==============================================================================\n",
      "\n",
      "Warnings:\n",
      "[1] Standard Errors assume that the covariance matrix of the errors is correctly specified.\n",
      "\n",
      " \n",
      " \n",
      "\n",
      "                            OLS Regression Results                            \n",
      "==============================================================================\n",
      "Dep. Variable:            weight_2012   R-squared:                       0.052\n",
      "Model:                            OLS   Adj. R-squared:                  0.027\n",
      "Method:                 Least Squares   F-statistic:                     2.119\n",
      "Date:                Mon, 02 Mar 2020   Prob (F-statistic):              0.102\n",
      "Time:                        16:05:11   Log-Likelihood:                -562.54\n",
      "No. Observations:                 120   AIC:                             1133.\n",
      "Df Residuals:                     116   BIC:                             1144.\n",
      "Df Model:                           3                                         \n",
      "Covariance Type:            nonrobust                                         \n",
      "==============================================================================\n",
      "                 coef    std err          t      P>|t|      [0.025      0.975]\n",
      "------------------------------------------------------------------------------\n",
      "const         56.3253      6.331      8.897      0.000      43.786      68.865\n",
      "x1             9.5901      4.929      1.946      0.054      -0.173      19.353\n",
      "x2            -8.6220      4.940     -1.745      0.084     -18.407       1.163\n",
      "x3            -0.0599      0.094     -0.640      0.523      -0.245       0.126\n",
      "==============================================================================\n",
      "Omnibus:                       18.108   Durbin-Watson:                   1.884\n",
      "Prob(Omnibus):                  0.000   Jarque-Bera (JB):                5.166\n",
      "Skew:                          -0.084   Prob(JB):                       0.0755\n",
      "Kurtosis:                       1.998   Cond. No.                         167.\n",
      "==============================================================================\n",
      "\n",
      "Warnings:\n",
      "[1] Standard Errors assume that the covariance matrix of the errors is correctly specified.\n",
      "\n",
      " \n",
      " \n",
      "\n",
      "                            OLS Regression Results                            \n",
      "==============================================================================\n",
      "Dep. Variable:                IQ_2012   R-squared:                       0.006\n",
      "Model:                            OLS   Adj. R-squared:                 -0.020\n",
      "Method:                 Least Squares   F-statistic:                    0.2175\n",
      "Date:                Mon, 02 Mar 2020   Prob (F-statistic):              0.884\n",
      "Time:                        16:05:11   Log-Likelihood:                -570.69\n",
      "No. Observations:                 120   AIC:                             1149.\n",
      "Df Residuals:                     116   BIC:                             1161.\n",
      "Df Model:                           3                                         \n",
      "Covariance Type:            nonrobust                                         \n",
      "==============================================================================\n",
      "                 coef    std err          t      P>|t|      [0.025      0.975]\n",
      "------------------------------------------------------------------------------\n",
      "const         50.1037      6.250      8.017      0.000      37.725      62.482\n",
      "x1            -1.1707      5.311     -0.220      0.826     -11.690       9.348\n",
      "x2             3.0017      5.288      0.568      0.571      -7.471      13.474\n",
      "x3             0.0506      0.089      0.567      0.572      -0.126       0.227\n",
      "==============================================================================\n",
      "Omnibus:                       28.168   Durbin-Watson:                   1.780\n",
      "Prob(Omnibus):                  0.000   Jarque-Bera (JB):                6.774\n",
      "Skew:                          -0.193   Prob(JB):                       0.0338\n",
      "Kurtosis:                       1.902   Cond. No.                         163.\n",
      "==============================================================================\n",
      "\n",
      "Warnings:\n",
      "[1] Standard Errors assume that the covariance matrix of the errors is correctly specified.\n",
      "\n",
      " \n",
      " \n",
      "\n"
     ]
    }
   ],
   "source": [
    "y_list = ['height_2012', 'weight_2012', 'IQ_2012'] #Y variables\n",
    "lagged_DV = [sub.replace('2012', '2011') for sub in y_list] #Lagged Y-vars\n",
    "for idx, (DV, lagged) in enumerate(zip(y_list, lagged_DV)): #Iterate over y_list\n",
    "    x = df[['trt' ,'urban', str(lagged)]]\n",
    "    x = sm.add_constant(x)\n",
    "    y = df[[DV]]\n",
    "    baseline = sm.OLS(y, x.values).fit() #OLS\n",
    "    print(baseline.summary())#Print summary of OLS\n",
    "    \n",
    "    '''Code to save a csv file for regressions'''\n",
    "    #f = open(str(DV)+'_csvfile.csv','w')\n",
    "    #f.write(baseline.summary().as_csv())\n",
    "    #f.close()\n",
    "    '''Code to show scatter plots of fitted values'''\n",
    "    #plt.scatter(baseline.fittedvalues, baseline.resid) #Plot residuals\n",
    "    #plt.axhline(0, linestyle=':', color='orange') #Add line\n",
    "    #plt.title('Model '+str(idx+1)+ ' Residuals') #Title\n",
    "    #plt.show() #Show plot\n",
    "    print('\\n \\n \\n')#Space between tables"
   ]
  },
  {
   "cell_type": "markdown",
   "metadata": {},
   "source": [
    "## 4.4 Two-stage least-square regressions (Instrumental variable)\n",
    "## Late regression\n",
    "\n",
    "- [Using the \"Linear Models\" Library](https://bashtage.github.io/linearmodels/doc/iv/index.html)\n",
    "    - [Examples of 2SLS in linear models](https://bashtage.github.io/linearmodels/doc/iv/examples/basic-examples.html)\n",
    "    - [More examples](https://bashtage.github.io/linearmodels/doc/iv/examples/advanced-examples.html)"
   ]
  },
  {
   "cell_type": "code",
   "execution_count": 14,
   "metadata": {},
   "outputs": [],
   "source": [
    "from linearmodels.iv import IV2SLS"
   ]
  },
  {
   "cell_type": "code",
   "execution_count": 15,
   "metadata": {
    "hideCode": true,
    "hideOutput": true,
    "scrolled": true
   },
   "outputs": [
    {
     "name": "stdout",
     "output_type": "stream",
     "text": [
      "                          IV-2SLS Estimation Summary                          \n",
      "==============================================================================\n",
      "Dep. Variable:            height_2012   R-squared:                      0.0554\n",
      "Estimator:                    IV-2SLS   Adj. R-squared:                 0.0310\n",
      "No. Observations:                 120   F-statistic:                    7.8769\n",
      "Date:                Mon, Mar 02 2020   P-value (F-stat)                0.0486\n",
      "Time:                        16:05:15   Distribution:                  chi2(3)\n",
      "Cov. Estimator:                robust                                         \n",
      "                                                                              \n",
      "                              Parameter Estimates                              \n",
      "===============================================================================\n",
      "             Parameter  Std. Err.     T-stat    P-value    Lower CI    Upper CI\n",
      "-------------------------------------------------------------------------------\n",
      "const           62.179     6.1334     10.138     0.0000      50.157      74.200\n",
      "urban           0.8395     5.0329     0.1668     0.8675     -9.0248      10.704\n",
      "height_2011    -0.2373     0.0865    -2.7436     0.0061     -0.4068     -0.0678\n",
      "rectrt         -1.2230     5.7064    -0.2143     0.8303     -12.407      9.9613\n",
      "===============================================================================\n",
      "\n",
      "Endogenous: rectrt\n",
      "Instruments: trt\n",
      "Robust Covariance (Heteroskedastic)\n",
      "Debiased: False\n",
      "\n",
      " \n",
      " \n",
      "\n",
      "                          IV-2SLS Estimation Summary                          \n",
      "==============================================================================\n",
      "Dep. Variable:            weight_2012   R-squared:                      0.0473\n",
      "Estimator:                    IV-2SLS   Adj. R-squared:                 0.0227\n",
      "No. Observations:                 120   F-statistic:                    7.3907\n",
      "Date:                Mon, Mar 02 2020   P-value (F-stat)                0.0604\n",
      "Time:                        16:05:15   Distribution:                  chi2(3)\n",
      "Cov. Estimator:                robust                                         \n",
      "                                                                              \n",
      "                              Parameter Estimates                              \n",
      "===============================================================================\n",
      "             Parameter  Std. Err.     T-stat    P-value    Lower CI    Upper CI\n",
      "-------------------------------------------------------------------------------\n",
      "const           56.588     5.3907     10.497     0.0000      46.023      67.154\n",
      "urban          -8.7251     4.8719    -1.7909     0.0733     -18.274      0.8235\n",
      "weight_2011    -0.0641     0.0827    -0.7756     0.4380     -0.2262      0.0980\n",
      "rectrt          10.913     5.5116     1.9800     0.0477      0.1105      21.716\n",
      "===============================================================================\n",
      "\n",
      "Endogenous: rectrt\n",
      "Instruments: trt\n",
      "Robust Covariance (Heteroskedastic)\n",
      "Debiased: False\n",
      "\n",
      " \n",
      " \n",
      "\n",
      "                          IV-2SLS Estimation Summary                          \n",
      "==============================================================================\n",
      "Dep. Variable:                IQ_2012   R-squared:                      0.0062\n",
      "Estimator:                    IV-2SLS   Adj. R-squared:                -0.0195\n",
      "No. Observations:                 120   F-statistic:                    0.7156\n",
      "Date:                Mon, Mar 02 2020   P-value (F-stat)                0.8695\n",
      "Time:                        16:05:15   Distribution:                  chi2(3)\n",
      "Cov. Estimator:                robust                                         \n",
      "                                                                              \n",
      "                             Parameter Estimates                              \n",
      "==============================================================================\n",
      "            Parameter  Std. Err.     T-stat    P-value    Lower CI    Upper CI\n",
      "------------------------------------------------------------------------------\n",
      "const          50.149     6.9642     7.2009     0.0000      36.499      63.798\n",
      "urban          3.0143     5.1886     0.5809     0.5613     -7.1552      13.184\n",
      "IQ_2011        0.0495     0.0895     0.5536     0.5799     -0.1258      0.2249\n",
      "rectrt        -1.3204     5.6570    -0.2334     0.8154     -12.408      9.7671\n",
      "==============================================================================\n",
      "\n",
      "Endogenous: rectrt\n",
      "Instruments: trt\n",
      "Robust Covariance (Heteroskedastic)\n",
      "Debiased: False\n",
      "\n",
      " \n",
      " \n",
      "\n"
     ]
    }
   ],
   "source": [
    "instrument = df[['rectrt']]\n",
    "endogenous = df[['trt']]\n",
    "\n",
    "y_list = ['height_2012', 'weight_2012', 'IQ_2012'] #Y variables\n",
    "lagged_DV = [sub.replace('2012', '2011') for sub in y_list] #Lagged Y-vars\n",
    "instrument = df[['trt']]\n",
    "endogenous = df[['rectrt']]\n",
    "\n",
    "for idx, (DV, lagged) in enumerate(zip(y_list, lagged_DV)): #Iterate over y_list\n",
    "    x = df[['urban', str(lagged)]]\n",
    "    x = sm.add_constant(x)\n",
    "    y = df[[DV]]\n",
    "    IV = IV2SLS(y, x, endogenous, instrument).fit()\n",
    "    print(IV)\n",
    "    print('\\n \\n \\n')#Space between tables\n",
    "\n"
   ]
  }
 ],
 "metadata": {
  "kernelspec": {
   "display_name": "Python 3 (system-wide)",
   "language": "python",
   "name": "python3"
  },
  "language_info": {
   "codemirror_mode": {
    "name": "ipython",
    "version": 3
   },
   "file_extension": ".py",
   "mimetype": "text/x-python",
   "name": "python",
   "nbconvert_exporter": "python",
   "pygments_lexer": "ipython3",
   "version": "3.6.9"
  }
 },
 "nbformat": 4,
 "nbformat_minor": 2
}
