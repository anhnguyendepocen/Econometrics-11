{
 "cells": [
  {
   "cell_type": "code",
   "execution_count": 2,
   "metadata": {},
   "outputs": [],
   "source": [
    "import statsmodels.api as sm\n",
    "import numpy as np\n",
    "import scipy as sp\n",
    "import matplotlib.pyplot as plt\n",
    "import pandas as pd\n",
    "from scipy import stats\n",
    "import math\n",
    "from scipy import stats\n",
    "from sklearn.datasets import make_regression"
   ]
  },
  {
   "cell_type": "markdown",
   "metadata": {},
   "source": [
    "# Contents\n",
    "\n",
    "- [1. Simple linear regression](#1.-Simple-linear-regression) \n",
    "    - 1.1 SLR equations\n",
    "    - 1.2 Python example\n",
    "    - 1.3 Python Example: Packages to implement regression\n",
    "    - 1.4 Regression assumptions\n",
    "    \n",
    "- [2. Multiple linear regression model](#2.-Multiple-linear-regression-model) \n",
    "    - 2.1 Review matrix differentiation\n",
    "    - 2.2 Example: Calculating OLS using matrix algebra\n",
    "    - 2.3 Projection matrices\n",
    "    - 2.4 Goodness of fit\n",
    "    - 2.5 Variance\n",
    "          \n",
    "- [3. Regression diagnostics](#3.-Regression-diagnostics) \n",
    "    - 3.1 Central moments\n",
    "    - 3.2 Omitted variable bias\n",
    "    - 3.3 Reverse causality\n",
    "    - 3.4 Functional misspecification\n",
    "    - 3.5 Testing for misspecification\n",
    "    - 3.6 Serial correlation\n",
    "    - 3.7 Homoskedasticity\n",
    "    - 3.8 Perfect collinearity\n",
    "    - 3.9 Normality\n",
    "    - 3.10 F-statistic\n",
    "- [4. Interpreting regression](#4.-Interpreting-regression) \n",
    "    - 4.1 Hypothesis testing in linear regression\n",
    "    - 4.2 Dummy variables\n",
    "    - 4.3 Lagged dependent variables\n",
    "    - 4.4 Levels vs. differences regression\n",
    "- [A. Appendix](#A.-Appendix) \n",
    "    - A.1 Degrees of freedom\n",
    "    - A.2 Overfitting-model\n",
    "    - A.3 Gauss-Markov Theorem proof: Matrix form\n",
    "    - A.4 Visualize OLS: Geometric interpretaiton \n"
   ]
  },
  {
   "cell_type": "markdown",
   "metadata": {},
   "source": [
    "# References\n",
    "\n",
    "- Cochrane, John H. [\"Time series for macroeconomics and finance.\"](http://econ.lse.ac.uk/staff/wdenhaan/teach/cochrane.pdf) University of Chicago (2005): 1-136.\n",
    "\n",
    "\n",
    "- Creel, Michael. [Econometrics](https://github.com/mcreel/Econometrics/blob/master/econometrics.pdf)\n",
    "\n",
    "\n",
    "- Ferrell, Rebecca [CSSS508](http://rebeccaferrell.github.io/CSSS508/Homework/template-HW4-key.html)\n",
    "\n",
    "\n",
    "- Hamilton, J. D. [Time series analysis.](https://www.amazon.com/Time-Analysis-James-Douglas-Hamilton/dp/0691042896) *Princeton University. (1994)*\n",
    "\n",
    "\n",
    "- Lambert, Ben. [A graduate course in econometrics](https://www.youtube.com/playlist?list=PLwJRxp3blEvaxmHgI2iOzNP6KGLSyd4dz)\n",
    "\n",
    "\n",
    "- Shi, Zhentao. [Lecture notes for Econ5121A: Econometric Theory and Applications.](https://github.com/zhentaoshi/Econ5121A)\n",
    "\n",
    "\n",
    "\n",
    "\n",
    "\n",
    "\n",
    "\n"
   ]
  },
  {
   "cell_type": "markdown",
   "metadata": {},
   "source": [
    "# 1. Simple linear regression"
   ]
  },
  {
   "cell_type": "markdown",
   "metadata": {},
   "source": [
    "## 1.1 SLR equations"
   ]
  },
  {
   "cell_type": "markdown",
   "metadata": {},
   "source": [
    "$$y_t = \\alpha + b_t x_t + u_t$$\n",
    "\n",
    "$$\\hat\\beta = \\frac{\\sum(x_t-\\bar x_t)(y_t-\\bar y)}{\\sum(x_t-\\bar x)^2}=\\frac{Cov(x_i,y_i)}{Var(x_i}\\\\\n",
    "\\hat\\alpha = \\bar y-\\hat\\beta \\bar x$$"
   ]
  },
  {
   "cell_type": "markdown",
   "metadata": {},
   "source": [
    "## 1.2 Python Example: Simple linear regression"
   ]
  },
  {
   "cell_type": "markdown",
   "metadata": {},
   "source": [
    "#### 1.2.1. Generate random data & estimate beta by hand"
   ]
  },
  {
   "cell_type": "code",
   "execution_count": 2,
   "metadata": {
    "scrolled": false
   },
   "outputs": [
    {
     "data": {
      "text/html": [
       "<div>\n",
       "<style scoped>\n",
       "    .dataframe tbody tr th:only-of-type {\n",
       "        vertical-align: middle;\n",
       "    }\n",
       "\n",
       "    .dataframe tbody tr th {\n",
       "        vertical-align: top;\n",
       "    }\n",
       "\n",
       "    .dataframe thead th {\n",
       "        text-align: right;\n",
       "    }\n",
       "</style>\n",
       "<table border=\"1\" class=\"dataframe\">\n",
       "  <thead>\n",
       "    <tr style=\"text-align: right;\">\n",
       "      <th></th>\n",
       "      <th>c</th>\n",
       "      <th>y</th>\n",
       "      <th>x</th>\n",
       "      <th>xt</th>\n",
       "      <th>yt</th>\n",
       "      <th>xt2</th>\n",
       "      <th>yt2</th>\n",
       "      <th>beta</th>\n",
       "      <th>alpha</th>\n",
       "      <th>y_hat</th>\n",
       "      <th>u_hat</th>\n",
       "      <th>y_mean</th>\n",
       "    </tr>\n",
       "  </thead>\n",
       "  <tbody>\n",
       "    <tr>\n",
       "      <th>0</th>\n",
       "      <td>1.0</td>\n",
       "      <td>1.331587</td>\n",
       "      <td>0.715279</td>\n",
       "      <td>0.511383</td>\n",
       "      <td>1.191970</td>\n",
       "      <td>0.511624</td>\n",
       "      <td>1.773123</td>\n",
       "      <td>0.153198</td>\n",
       "      <td>0.10838</td>\n",
       "      <td>0.217960</td>\n",
       "      <td>1.113627</td>\n",
       "      <td>0.139617</td>\n",
       "    </tr>\n",
       "    <tr>\n",
       "      <th>1</th>\n",
       "      <td>1.0</td>\n",
       "      <td>-1.545400</td>\n",
       "      <td>-0.008384</td>\n",
       "      <td>-0.212280</td>\n",
       "      <td>-1.685017</td>\n",
       "      <td>0.000070</td>\n",
       "      <td>2.388262</td>\n",
       "      <td>0.153198</td>\n",
       "      <td>0.10838</td>\n",
       "      <td>0.107096</td>\n",
       "      <td>-1.652496</td>\n",
       "      <td>0.139617</td>\n",
       "    </tr>\n",
       "  </tbody>\n",
       "</table>\n",
       "</div>"
      ],
      "text/plain": [
       "     c         y         x        xt        yt       xt2       yt2      beta  \\\n",
       "0  1.0  1.331587  0.715279  0.511383  1.191970  0.511624  1.773123  0.153198   \n",
       "1  1.0 -1.545400 -0.008384 -0.212280 -1.685017  0.000070  2.388262  0.153198   \n",
       "\n",
       "     alpha     y_hat     u_hat    y_mean  \n",
       "0  0.10838  0.217960  1.113627  0.139617  \n",
       "1  0.10838  0.107096 -1.652496  0.139617  "
      ]
     },
     "execution_count": 2,
     "metadata": {},
     "output_type": "execute_result"
    }
   ],
   "source": [
    "np.random.seed(10)\n",
    "n = 20 # sample size \n",
    "K = 2  # number of paramters\n",
    "sim = np.hstack( ( np.ones( (n,1) ), stats.norm.rvs(  size = (n, K))) ) \n",
    "df = pd.DataFrame(sim, columns=['c','y','x'])\n",
    "df['xt'] = (df.x-np.mean(df.x))\n",
    "df['yt'] = (df.y-np.mean(df.y))\n",
    "df['xt2'] = df.x**2\n",
    "df['yt2'] = df.y**2\n",
    "df['beta'] = sum(df.xt*df.yt)/sum(df.xt2)\n",
    "df['alpha'] = np.mean(df.y)- (df.beta*np.mean(df.x)) #Also alpha\n",
    "df['y_hat'] = df.alpha+df.x*df.beta\n",
    "df['u_hat'] = df.y-df.alpha-(df.beta*df.x)\n",
    "df['y_mean'] = np.mean(df.y)\n",
    "df.head(2) "
   ]
  },
  {
   "cell_type": "markdown",
   "metadata": {},
   "source": [
    "#### 1.2.2. Estimate beta with statsmodels"
   ]
  },
  {
   "cell_type": "code",
   "execution_count": 3,
   "metadata": {},
   "outputs": [],
   "source": [
    "ols_single = sm.OLS(df.y,df[['c','x']]).fit()"
   ]
  },
  {
   "cell_type": "markdown",
   "metadata": {},
   "source": [
    "#### 1.2.3. Compare beta of 1. & 2."
   ]
  },
  {
   "cell_type": "code",
   "execution_count": 4,
   "metadata": {},
   "outputs": [
    {
     "name": "stdout",
     "output_type": "stream",
     "text": [
      "Beta_hand: 0.1532, Alpha_hand: 0.1084\n",
      "Beta_model: 0.1598, Alpha_model: 0.1070\n"
     ]
    }
   ],
   "source": [
    "beta = sum(df.xt*df.yt)/sum(df.xt2)\n",
    "alpha = np.mean(df.y)- (beta*np.mean(df.x))\n",
    "print(\"Beta_hand: {:.4f}, Alpha_hand: {:.4f}\".format(beta, alpha))\n",
    "print(\"Beta_model: {:.4f}, Alpha_model: {:.4f}\".format(ols_single .params[1], ols_single.params[0]))"
   ]
  },
  {
   "cell_type": "markdown",
   "metadata": {},
   "source": [
    "#### 1.2.4. Python example: Graph yhat (Best fit line) $R^2$, TSS, RSS, ESS\n",
    "\n",
    "- See section [2.4 Goodness of fit](#2.4-Goodness-of-fit) for further explanation of $R^2$, TSS, RSS, ESS"
   ]
  },
  {
   "cell_type": "code",
   "execution_count": 5,
   "metadata": {},
   "outputs": [
    {
     "data": {
      "image/png": "[encoded data removed]",
      "text/plain": [
       "<Figure size 432x288 with 1 Axes>"
      ]
     },
     "metadata": {
      "needs_background": "light"
     },
     "output_type": "display_data"
    }
   ],
   "source": [
    "x=df.x.values\n",
    "y=df.y.values\n",
    "best_fit = df.y_hat.values\n",
    "tss_graph = -(df.y-df.y_mean)\n",
    "ess_graph = -(df.y_hat-df.y_mean)\n",
    "rss_graph = -(df.y-df.y_hat)\n",
    "\n",
    "ess = sum((df.y_hat-df.y_mean)**2)\n",
    "rss = sum((df.y-df.y_hat)**2)\n",
    "tss = sum((df.y-df.y_mean)**2)\n",
    "r2= 1-rss/tss\n",
    "\n",
    "ax = plt.scatter(df.x,df.y, label=None)\n",
    "ax =plt.plot(df.x, df.y_hat, color='red')\n",
    "ax =plt.plot(df.x, df.y_mean, color='green', label='Y_mean')\n",
    "\n",
    "for i in range(0,len(df.x)):\n",
    "    plt.arrow(x[i], y[i], 0, tss_graph[i], head_width=None, head_length=None, linewidth=4, color='pink', label='TSS')\n",
    "\n",
    "for i in range(0,len(df.x)):\n",
    "    plt.arrow(x[i], y[i], 0, rss_graph[i], head_width=None, head_length=None, linewidth=.5, color='blue', label='RSS')\n",
    "\n",
    "for i in range(0,len(df.x)):\n",
    "    plt.arrow(x[i], best_fit[i], 0, ess_graph[i], head_width=None, head_length=None, linewidth=2, color='orange', label='ESS')\n",
    "\n",
    "plt.annotate(\"TSS\", xy=(-1, -.5), xytext=(-1, -.5), size=15,color='pink')\n",
    "plt.annotate(\"RSS\", xy=(-1, -1.5), xytext=(-1, -1.5), size=15,color='blue')\n",
    "plt.annotate(\"ESS\", xy=(-1, -1), xytext=(-1, -1), size=15,color='orange')\n",
    "\n",
    "\n",
    "plt.legend(['Best fit', 'Avg.','Observations'])\n",
    "\n",
    "    \n",
    "    \n",
    "plt.title('R2= {:.3f}'.format(r2))\n",
    "plt.show()"
   ]
  },
  {
   "cell_type": "markdown",
   "metadata": {},
   "source": [
    "## 1.3 Python Example: Packages to implement regression\n",
    "1. sm.OLS(y,x_c).fit()\n",
    "2. np.polyfit(x,y, deg=1)\n",
    "3. stats.linregress(x,y)"
   ]
  },
  {
   "cell_type": "code",
   "execution_count": 6,
   "metadata": {},
   "outputs": [
    {
     "name": "stdout",
     "output_type": "stream",
     "text": [
      "sm.OLS(y,x).fit()\n",
      "Intercept: 0.107 Slope: 0.1598\n",
      "Np.polyfit(x,y)\n",
      "Intercept:0.107, Slope:0.1598\n",
      "stats.linregress(x,y)\n",
      "Intercept: 0.107 Slope: 0.1598\n"
     ]
    }
   ],
   "source": [
    "#Stats models\n",
    "print('sm.OLS(y,x).fit()')\n",
    "ols_single = sm.OLS(df.y,df[['c','x']]).fit()\n",
    "print('Intercept: {:.3f}'.format(ols_single.params[0]), 'Slope: {:.4f}'.format(ols_single.params[1]))\n",
    "print('Np.polyfit(x,y)')\n",
    "# np.polyfit\n",
    "sentence = 'Intercept:{}, Slope:{}'.format(round(np.polyfit(df.x,df.y, deg=1)[1],4), round(np.polyfit(df.x,df.y, deg=1)[0],4))\n",
    "print(sentence)\n",
    "print('stats.linregress(x,y)')\n",
    "#stats.linregress\n",
    "print('Intercept: {:.3f}'.format(stats.linregress(df.x,df.y)[1]), 'Slope: {:.4f}'.format(stats.linregress(df.x,df.y)[0]))"
   ]
  },
  {
   "cell_type": "markdown",
   "metadata": {},
   "source": [
    "## 1.4 Regression Assumptions "
   ]
  },
  {
   "cell_type": "markdown",
   "metadata": {},
   "source": [
    "#### Independently and identically distributed errors:\n",
    "\n",
    "$$\\epsilon\\sim IID(0,\\sigma^{2}I_{n})$$\n",
    "\n",
    "\n",
    "$\\varepsilon$ is jointly distributed IID. This implies the following two properties:\n",
    "\n",
    "#### Homoscedastic errors:\n",
    "$$V(\\varepsilon_{t})=\\sigma_{0}^{2},\\forall t$$\n",
    "\n",
    "#### Nonautocorrelated errors:\n",
    "\n",
    "$$E(\\varepsilon_{t}\\epsilon_{s})=0,\\forall t\\neq s$$\n",
    "\n",
    "Optionally, we will sometimes assume that the errors are normally distributed.\n",
    "\n",
    "#### Normally distributed errors:\n",
    "$$\\epsilon\\sim N(0,\\sigma^{2}I_{n})$$\n",
    "\n",
    "Reference: Latex code via Creel, Michael."
   ]
  },
  {
   "cell_type": "markdown",
   "metadata": {},
   "source": [
    "# 2. Multiple linear regression model"
   ]
  },
  {
   "cell_type": "markdown",
   "metadata": {},
   "source": [
    "## 2.1.1 Review matrix differentiation:\n",
    "\n",
    "$x = \\begin{bmatrix} x_1 \\\\ x_2 \\end{bmatrix} $\n",
    "$A = \\begin{bmatrix} a_{11} & a_{12} \\\\ a_{21} & a_{22} \\end{bmatrix} $\n",
    "\n",
    "$Q = \\underset{1x2}{x\\prime} \\ \\ \\ \\underset{2x2}{A} \\ \\ \\ \\underset{2x1}{x}$\n",
    "\n",
    "$=  \\begin{bmatrix} x_1 & x_2 \\end{bmatrix} \\begin{bmatrix} a_{11}x_1 + a_{12}x_2 \\\\ a_{12}x_1 + a_{22}x_2 \\end{bmatrix} $\n",
    "\n",
    "$Q= a_{11} x_1^2 + 2a_{12} x_1 x_2 + a_{22} x_2^2$\n",
    "\n",
    "Differentiate x:\n",
    "\n",
    "$\\frac{dQ}{dx}= \\begin{bmatrix} dQ/dx_1 \\\\ dQ/dx_2 \\end{bmatrix} =  \\begin{bmatrix} 2a_{11}x_1 + 2a_{12}x_2 \\\\ 2a_{12}x_1 + 2a_{22}x_2 \\end{bmatrix} \\equiv 2AX$\n",
    "\n",
    "\n",
    "Differentiate $x\\prime$:\n",
    "\n",
    "$\\frac{dQ}{dx\\prime}= \\begin{bmatrix} dQ/dx_1 & dQ/dx_2 \\end{bmatrix} = 2X\\prime A\\prime = 2X\\prime A$"
   ]
  },
  {
   "cell_type": "markdown",
   "metadata": {},
   "source": [
    "## 2.1.2 Multivariate OLS\n",
    "$y_t = X_t\\prime \\beta + \\mu_t$\n",
    "\n",
    "Where $\\beta$ minimizes the residuals sum of squares (RSS):\n",
    "\n",
    "RSS $\\equiv \\sum_{T=1}^T (y_t - x_t\\prime \\beta)^2$\n",
    "\n",
    "OLS estimate $\\beta$:\n",
    "\n",
    "$$\\beta = [\\sum x_t x_t\\prime]^{-1} [\\sum x_t y_t]$$\n",
    "\n",
    "Where:\n",
    "\n",
    "$\n",
    "\\underset{Tx1}{y} \\equiv \\begin{bmatrix} y_1 \\\\ y_2 \\\\ \\vdots \\\\ y_T \\end{bmatrix}\n",
    "\\underset{TxK}{x} \\equiv \\begin{bmatrix} x_1\\prime \\\\ x_2\\prime \\\\ \\vdots \\\\ x_T\\prime \\end{bmatrix}\n",
    "\\underset{Tx1}{u} \\equiv \\begin{bmatrix} u_1 \\\\ u_2 \\\\ \\vdots \\\\ u_T \\end{bmatrix}\n",
    "$\n",
    "\n",
    "So rewritten OLS:\n",
    "\n",
    "$b = \\Bigg\\{\\begin{bmatrix} x_1 \\ x_2 \\ \\vdots \\ x_T \\end{bmatrix} \n",
    "\\begin{bmatrix} x_1\\prime \\\\ x_2\\prime \\\\ \\vdots \\\\ x_T\\prime \\end{bmatrix}\n",
    "\\Bigg\\}^{-1} \\Bigg\\{\\begin{bmatrix} x_1 \\ x_2 \\ \\vdots \\ x_T \\end{bmatrix} \n",
    "\\begin{bmatrix} x_1\\prime \\\\ x_2\\prime \\\\ \\vdots \\\\ x_T\\prime \\end{bmatrix}\n",
    "\\Bigg\\}$\n",
    "\n",
    "$\\equiv (X\\prime X)^{-1}X\\prime y$"
   ]
  },
  {
   "cell_type": "markdown",
   "metadata": {},
   "source": [
    "## 2.1.3 Derive OLS in matrix form\n",
    "#### Residual vector:\n",
    "Multivariate:\n",
    "$S = \\hat\\mu\\prime \\hat\\mu = u_1^2 + u_2^2 + \\cdots + u_n^2 $\n",
    "\n",
    "$y= X\\hat\\beta + \\hat\\mu$ \n",
    "\n",
    "\n",
    "$\\equiv \\hat \\mu = y-x \\hat\\beta$\n",
    "\n",
    "$S = (y-x \\hat\\beta)\\prime (y-x \\hat\\beta)$\n",
    "\n",
    "$S = (y\\prime-x\\prime \\hat\\beta\\prime) (y-x \\hat\\beta)$\n",
    "\n",
    "$S = y\\prime y -y\\prime x \\hat\\beta - \\hat\\beta\\prime x\\prime y + \\hat\\beta\\prime x\\prime x \\hat\\beta$\n",
    "\n",
    "#### Derive residual vector:\n",
    "\n",
    "$\\frac{dS}{d\\hat\\beta}= -x\\prime y - x\\prime y +2 x\\prime x \\hat\\beta = 0$\n",
    "\n",
    "=$\\frac{dS}{d\\hat\\beta}= -2x\\prime y +2 x\\prime x \\hat\\beta$\n",
    "\n",
    "Set to 0:\n",
    "\n",
    "$-2x\\prime y +2 x\\prime x \\hat\\beta = 0$\n",
    "\n",
    "$ x\\prime x \\hat\\beta = x\\prime y $\n",
    "\n",
    "Use identity matrix\n",
    "\n",
    "$ (x\\prime x)^{-1}x\\prime x \\hat\\beta = (x\\prime x)^{-1}x\\prime y $\n",
    "\n",
    "### $\\equiv  \\hat\\beta = (x\\prime x)^{-1}x\\prime y $\n",
    "\n",
    "#### Showing orthogonality:\n",
    "\n",
    "$-2x\\prime y +2 x\\prime x \\hat\\beta = 0$\n",
    "$-2x\\prime y +2 x\\prime x \\hat\\beta = 0$\n",
    "\n",
    "\n",
    "Reference: Lambert, Ben"
   ]
  },
  {
   "cell_type": "markdown",
   "metadata": {},
   "source": [
    "## 2.2 Example: Calculating OLS using matrix algebra\n",
    "\n",
    "- 2.2.1 Generating random X,Y data\n",
    "- 2.2.2 Calculating $\\beta$ by hand using matrix algebra\n",
    "- 2.2.3 Calculating $\\beta$ using statsmodels package\n",
    "- 2.2.4 Compare hand and statsmodels"
   ]
  },
  {
   "cell_type": "markdown",
   "metadata": {},
   "source": [
    "#### 2.2.1 Generate random data X,Y"
   ]
  },
  {
   "cell_type": "code",
   "execution_count": 7,
   "metadata": {},
   "outputs": [],
   "source": [
    "np.random.seed(1)\n",
    "n = 20 # sample size \n",
    "K = 2  # number of paramters\n",
    "X = np.hstack( ( np.ones( (n,1) ), stats.norm.rvs(  size = (n, K))) )  # Indpendent variables\n",
    "Y = stats.norm.rvs(  size = (20, 1)) # Dependent Variables"
   ]
  },
  {
   "cell_type": "markdown",
   "metadata": {},
   "source": [
    "#### 2.2.2 Calculate  $\\hat{\\beta}$ by hand: \n",
    "\n",
    "Remember $\\hat{\\beta}: (X' X)^{-1} X'Y$"
   ]
  },
  {
   "cell_type": "code",
   "execution_count": 8,
   "metadata": {},
   "outputs": [],
   "source": [
    "bhat = np.linalg.inv(X.T@X)@(X.T@Y)\n",
    "intercept = bhat[0]\n",
    "bhat1 = bhat[1]\n",
    "bhat2 = bhat[2]"
   ]
  },
  {
   "cell_type": "markdown",
   "metadata": {},
   "source": [
    "#### 2.2.3 Calculate $\\hat \\beta$ by statsmodels' OLS package"
   ]
  },
  {
   "cell_type": "code",
   "execution_count": 9,
   "metadata": {},
   "outputs": [],
   "source": [
    "#Create dataframe with Y & X\n",
    "\n",
    "yx = pd.DataFrame(np.concatenate([Y,X], axis=1))\n",
    "yx.columns = ['Y', 'Constant', 'X1', 'X2']\n",
    "\n",
    "# Import ols from statsmodels, and fit a model to the data\n",
    "from statsmodels.formula.api import ols\n",
    "ols_multi = ols(formula=\"Y ~ X1+X2\", data=yx)\n",
    "ols_multi = ols_multi.fit()\n",
    "\n",
    "# Extract the model parameter values, and assign them to a0, a1\n",
    "a0 = ols_multi.params['Intercept']\n",
    "a1 = ols_multi.params['X1']\n",
    "a2 = ols_multi.params['X2']"
   ]
  },
  {
   "cell_type": "markdown",
   "metadata": {},
   "source": [
    "#### 2.2.4 Compare $\\hat \\beta$ hand (2.2.2) and stats model (2.2.3)\n",
    "\n",
    "- Note: The results should be equal"
   ]
  },
  {
   "cell_type": "code",
   "execution_count": 10,
   "metadata": {
    "scrolled": true
   },
   "outputs": [
    {
     "name": "stdout",
     "output_type": "stream",
     "text": [
      "Calculated by hand:\n",
      "Intercept = 0.2859\n",
      "bhat1= 0.1272 \n",
      "bhat2= 0.2650 \n",
      "\n",
      "Calculated using OLS:\n",
      "Intercept  = 0.2859\n",
      "bhat1 = 0.1272\n",
      "bhat2 = 0.2650\n"
     ]
    }
   ],
   "source": [
    "print('Calculated by hand:')\n",
    "print('Intercept = {:.4f}'.format(float(intercept)))\n",
    "print('bhat1= {:.4f} '.format(float(bhat1)))\n",
    "print('bhat2= {:.4f} '.format(float(bhat2)))\n",
    "print('')\n",
    "print('Calculated using OLS:')\n",
    "print( \"Intercept  = {:0.4f}\".format(a0) )\n",
    "print( \"bhat1 = {:0.4f}\".format(a1) )\n",
    "print( \"bhat2 = {:0.4f}\".format(a2) )"
   ]
  },
  {
   "cell_type": "markdown",
   "metadata": {},
   "source": [
    "#### 2.2.5 Calculate $\\hat{e}$:\n",
    "$\\hat{e} = Y - X' \\hat{\\beta}$. \n",
    "\n",
    "Demonstrate that $\\hat{e}$ is orthogonal to X.T: \n",
    "\n",
    "Note: The result should be close to zero\n"
   ]
  },
  {
   "cell_type": "code",
   "execution_count": 11,
   "metadata": {
    "scrolled": true
   },
   "outputs": [
    {
     "name": "stdout",
     "output_type": "stream",
     "text": [
      "[[ 1.47104551e-15]\n",
      " [-2.58973139e-17]\n",
      " [ 2.08256193e-16]]\n"
     ]
    }
   ],
   "source": [
    "ehat = Y -X@bhat\n",
    "print(X.T @ ehat)"
   ]
  },
  {
   "cell_type": "markdown",
   "metadata": {},
   "source": [
    "#### 2.2.6 Calculate $\\hat y$:\n",
    "$\\hat y= \\hat \\beta X $\n",
    "\n",
    "- Note: The results should be equal"
   ]
  },
  {
   "cell_type": "code",
   "execution_count": 12,
   "metadata": {},
   "outputs": [
    {
     "name": "stdout",
     "output_type": "stream",
     "text": [
      "Comparing yhat from hand calculation and statsmodels:\n",
      "[[0.33036448 0.33036448]]\n"
     ]
    }
   ],
   "source": [
    "yhat = X@bhat\n",
    "\n",
    "print('Comparing yhat from hand calculation and statsmodels:')\n",
    "print((np.hstack((yhat, ols_multi.predict().reshape(-1,1) ))[:1]))"
   ]
  },
  {
   "cell_type": "markdown",
   "metadata": {},
   "source": [
    "## 2.3 Projection matrices"
   ]
  },
  {
   "cell_type": "markdown",
   "metadata": {},
   "source": [
    "- 2.3.1 Explanation\n",
    "- 2.3.2 Calculate from example\n",
    "- 2.3.3 Show that $\\hat{y} = P_x Y +M_x Y$\n",
    "- 2.3.4 Show that $\\hat{u} =M_y $"
   ]
  },
  {
   "cell_type": "markdown",
   "metadata": {},
   "source": [
    "### 2.3.1 Explanation of projection matrices\n",
    "\n",
    "$X \\hat{\\beta}$ is the projection of y on the span of X\n",
    "\n",
    "The matrix that projects y onto the span of X is known as $P_x$:\n",
    "\n",
    "$P_x = X(X' X)^{-1} X' \\tag{Eq 1}$ \n",
    "\n",
    "$\\hat{e}$ is the projection of y onto the N-K dimensional space orthogonal to the span of X:\n",
    "\n",
    "\n",
    "$\\hat{e} = y -x\\hat{\\beta} = y- X(X' X)^{-1} X'y = [I_n - X(X' X)^{-1} X']y \\tag{Eq 2}$ \n",
    "\n",
    "Thus the matrix that projects y onto the space orthogonal to the span of x is $M_x$:\n",
    "\n",
    "\n",
    "$M_x = I_n - X(X' X)^{-1} X' = I_n-P_x \\tag{Eq 3}$ \n",
    "\n",
    "Substituting in Eq 3 into Eq 2:\n",
    "\n",
    "$ \\hat{e} = M_x Y \\tag{Eq 4}$ \n",
    "\n",
    "With MX and PX we can now substitute back into our original equation $y=X\\hat{\\beta}+\\hat{e}$\n",
    "\n",
    "$ y = P_x Y +M_x Y  \\tag{Eq 5}$ \n",
    "\n",
    " #### Summing up the above:\n",
    " \n",
    " \n",
    "Vector fitted values:\n",
    "$P_xY =X\\hat{\\beta} = \\hat{y}$\n",
    "\n",
    "Vector of Resduals:\n",
    "$M_xY = y-\\hat{y} ==\\hat{u}$\n",
    "\n",
    "$M_xY \\perp P_pY$\n",
    "\n",
    "This means that Y can be decomposed into two orthogonal vectors Py and My where the first is y in colspace x and the second represents the residual\n",
    "\n",
    "\n",
    "Refrence: Latex code via Shi, Zhentao. [Lecture notes for Econ5121A: Econometric Theory and Applications.](https://github.com/zhentaoshi/Econ5121A)"
   ]
  },
  {
   "attachments": {
    "Project_matrix.png": {
     "image/png": "[encoded data removed]"
    }
   },
   "cell_type": "markdown",
   "metadata": {},
   "source": [
    "### 2.3.1.1 Visualization of projection matrices\n",
    "\n",
    "![Project_matrix.png](attachment:Project_matrix.png)"
   ]
  },
  {
   "cell_type": "markdown",
   "metadata": {},
   "source": [
    "### 2.3.2 Calculate from example"
   ]
  },
  {
   "cell_type": "markdown",
   "metadata": {},
   "source": [
    "##### The matrix that projects onto y onto the span of X: $P_X = (X' X)^{-1} X'Y$"
   ]
  },
  {
   "cell_type": "code",
   "execution_count": 13,
   "metadata": {},
   "outputs": [],
   "source": [
    "PX = X @ np.linalg.solve( X.T @ X, X.T )\n",
    "Py = PX@Y"
   ]
  },
  {
   "cell_type": "code",
   "execution_count": 14,
   "metadata": {},
   "outputs": [
    {
     "data": {
      "text/plain": [
       "array([ 0.16233504, -0.02619771,  0.06982499,  0.16989827,  0.05895378,\n",
       "        0.12402409,  0.00281751,  0.11283674,  0.00698775,  0.04990676,\n",
       "       -0.03643578,  0.12066834,  0.1003826 ,  0.01015834,  0.02298426,\n",
       "       -0.02839111, -0.03566013, -0.02012924, -0.05335671,  0.18839222])"
      ]
     },
     "execution_count": 14,
     "metadata": {},
     "output_type": "execute_result"
    }
   ],
   "source": [
    "PX[0]"
   ]
  },
  {
   "cell_type": "markdown",
   "metadata": {
    "slideshow": {
     "slide_type": "fragment"
    }
   },
   "source": [
    "##### The matrix that projects y onto the space orthogonal to the span of X: $M_x$"
   ]
  },
  {
   "cell_type": "code",
   "execution_count": 15,
   "metadata": {},
   "outputs": [],
   "source": [
    "MX = np.diag( np.ones(n) ) - PX\n",
    "My = MX@Y"
   ]
  },
  {
   "cell_type": "code",
   "execution_count": 16,
   "metadata": {},
   "outputs": [
    {
     "data": {
      "text/plain": [
       "array([ 0.83766496,  0.02619771, -0.06982499, -0.16989827, -0.05895378,\n",
       "       -0.12402409, -0.00281751, -0.11283674, -0.00698775, -0.04990676,\n",
       "        0.03643578, -0.12066834, -0.1003826 , -0.01015834, -0.02298426,\n",
       "        0.02839111,  0.03566013,  0.02012924,  0.05335671, -0.18839222])"
      ]
     },
     "execution_count": 16,
     "metadata": {},
     "output_type": "execute_result"
    }
   ],
   "source": [
    "MX[0]"
   ]
  },
  {
   "cell_type": "markdown",
   "metadata": {},
   "source": [
    "### 2.3.3 Show that $y = P_x Y +M_x Y$\n",
    "\n",
    "- Note: The results should be equal"
   ]
  },
  {
   "cell_type": "code",
   "execution_count": 17,
   "metadata": {},
   "outputs": [
    {
     "name": "stdout",
     "output_type": "stream",
     "text": [
      "[[-0.19183555 -0.19183555]\n",
      " [-0.88762896 -0.88762896]]\n"
     ]
    }
   ],
   "source": [
    "print(np.hstack( (Y , Py+My))[:2])"
   ]
  },
  {
   "cell_type": "markdown",
   "metadata": {},
   "source": [
    "### 2.3.4 Show that $\\hat u = M_y$\n",
    "\n",
    "- Note: The results should be equal"
   ]
  },
  {
   "cell_type": "code",
   "execution_count": 18,
   "metadata": {},
   "outputs": [
    {
     "name": "stdout",
     "output_type": "stream",
     "text": [
      "[[-0.52220003 -0.52220003]\n",
      " [-0.8219903  -0.8219903 ]]\n"
     ]
    }
   ],
   "source": [
    "print(np.hstack( (ehat , My))[:2])"
   ]
  },
  {
   "cell_type": "markdown",
   "metadata": {},
   "source": [
    "## 2.4 Goodness of fit \n",
    "\n",
    "#### Also known as $R^2$"
   ]
  },
  {
   "cell_type": "markdown",
   "metadata": {},
   "source": [
    "- $\\underline{Total}\\text{sum of squares}=TSS=||y||^2 = \\sum(y_i-\\bar y)^2$\n",
    "- $\\underline{Residual}\\text{sum of squares}=RSS=||My||^2=\\sum(y_i-\\hat y)^2$\n",
    "- $\\underline{Explained} \\text{sum of squares}=ESS=||Py||^2=\\sum(\\hat y_i-\\bar y)^2$\n",
    "\n",
    "#### TSS = ESS+RSS\n",
    "\n",
    "$ESS = TSS-RSS$\n",
    "\n",
    "#### $R^2$\n",
    "$R^2 = \\frac{ESS}{TSS}\\\\\n",
    "R^2 = 1-\\frac{ess}{tss}$ \n",
    "\n",
    "#### Adjusted $R^2$  ($\\bar{R}^2$)\n",
    "\n",
    "$$\\bar{R}^2= 1-\\frac{(1-r^2)(N-1)}{N-K-1}\\\\\n",
    "N\\geq K$$\n",
    "\n",
    "- If $K \\uparrow$\n",
    "    - $(N-K-1) \\downarrow$\n",
    "    - $\\bar{R}^2 \\downarrow$\n",
    "    \n",
    "- R-squared cannot fall when adding an additional regressor, however Adjusted R-square can"
   ]
  },
  {
   "cell_type": "markdown",
   "metadata": {},
   "source": [
    "### 2.4.1 Calculate RSS\n",
    "\n",
    "- Using Matrix form\n",
    "- Using ehat"
   ]
  },
  {
   "cell_type": "code",
   "execution_count": 20,
   "metadata": {},
   "outputs": [
    {
     "name": "stdout",
     "output_type": "stream",
     "text": [
      "Calculating RSS--Matrix MY: 12.000\n",
      "Calculating RSS using ehat: 12.000\n"
     ]
    }
   ],
   "source": [
    "my_rss = sum(My**2) #Matrix form\n",
    "print('Calculating RSS--Matrix MY: {:.3f}'.format(int(my_rss)))\n",
    "ehat_rss = sum(ehat**2) # ehat\n",
    "print('Calculating RSS using ehat: {:.3f}'.format(int(ehat_rss)))"
   ]
  },
  {
   "cell_type": "markdown",
   "metadata": {},
   "source": [
    "### 2.4.2 Calculate TSS"
   ]
  },
  {
   "cell_type": "code",
   "execution_count": 21,
   "metadata": {},
   "outputs": [
    {
     "name": "stdout",
     "output_type": "stream",
     "text": [
      "TSS :13.1303\n"
     ]
    }
   ],
   "source": [
    "tss= sum((Y-np.mean(Y))**2)\n",
    "print('TSS :{:.4f}'.format(float(tss)))"
   ]
  },
  {
   "cell_type": "markdown",
   "metadata": {},
   "source": [
    "### 2.4.3 Calculate $R^2$"
   ]
  },
  {
   "cell_type": "code",
   "execution_count": 22,
   "metadata": {},
   "outputs": [
    {
     "name": "stdout",
     "output_type": "stream",
     "text": [
      "R-squared by hand:0.0756\n",
      "R-squared from stats-model:0.0756\n"
     ]
    }
   ],
   "source": [
    "rsq_hand = (1-(my_rss/tss))\n",
    "print('R-squared by hand:{:.4f}'.format(float(rsq_hand)))\n",
    "print('R-squared from stats-model:{:.4f}'.format(ols_multi.rsquared))"
   ]
  },
  {
   "cell_type": "markdown",
   "metadata": {},
   "source": [
    "## 2.5 Variance"
   ]
  },
  {
   "cell_type": "markdown",
   "metadata": {},
   "source": [
    "### 2.5.1 Covariance of a random vector\n",
    "\n",
    "- Expectation of some constant matrix A * random vector X:\n",
    "\n",
    "$E[AX] = AE[X]$\n",
    "\n",
    "- Variance-covariance matrix:\n",
    "\n",
    "Cannot define variance of random vector as a vector instead we define it as a matrix:\n",
    "\n",
    "$var(x)$ = $\\begin{bmatrix} var(x_1) & cov(x_1, x_2) & \\cdots & cov(x_{11}x_n) \\\\ cov(x_2, x_1)& var(x_2) & \\cdots & \\vdots \\\\ cov(x_n x_1) \\cdots & \\cdots & \\cdots &var(x_N)\\end{bmatrix} $"
   ]
  },
  {
   "cell_type": "markdown",
   "metadata": {},
   "source": [
    "#### 2.5.1.1 Proof of variance-covariance matrix:\n",
    "\n",
    "$Var(X) = E[(x - \\mu)(x - \\mu)^T] \\\\\n",
    "= E[\\begin{bmatrix} x_1-\\mu_1 \\\\ x_2-\\mu_2 \\\\ \\vdots \\\\ x_n-\\mu_n \\end{bmatrix}- \\begin{bmatrix} x_1-\\mu_1 & x_2-\\mu_2 & \\vdots & x_n-\\mu_n \\end{bmatrix}]\\\\\n",
    "= \\begin{bmatrix} (x_1-\\mu_1)^2 & (x_1-\\mu_1) & \\cdots \\\\ \n",
    "\\cdots & (x_2-\\mu_2)^2 & \\cdots \\end{bmatrix}$\n"
   ]
  },
  {
   "cell_type": "markdown",
   "metadata": {},
   "source": [
    "#### 2.5.1.2 Expectations and variance of a random vector"
   ]
  },
  {
   "cell_type": "markdown",
   "metadata": {},
   "source": [
    "Var$(AX) = E[(Ax - A \\mu)(Ax - A \\mu)^T] $\n",
    "\n",
    "$= E[(A(x - \\mu)(x - \\mu)^T A^T] $\n",
    "\n",
    "$= A E[(x - \\mu)(x - \\mu)^T ]A^T $\n",
    "\n",
    "= $A var(x) A^T $\n"
   ]
  },
  {
   "cell_type": "markdown",
   "metadata": {},
   "source": [
    "#### 2.5.1.3 Unbiased LS estimators\n",
    "\n",
    "$\\hat\\beta = (x\\prime x)^{-1}x\\prime y$\n",
    "\n",
    "Plug in: $y = x\\beta + \\mu$\n",
    "\n",
    "$\\hat\\beta = (x\\prime x)^{-1}x\\prime x \\beta+ (x\\prime x)^{-1}x\\prime u\\\\\n",
    "\\hat\\beta = \\beta+ (x\\prime x)^{-1}x\\prime u\\\\\n",
    "E[\\hat\\beta] = \\beta+ (x\\prime x)^{-1}x\\prime \\ E[u]\\\\\n",
    "E[\\hat\\beta] = \\beta$"
   ]
  },
  {
   "cell_type": "markdown",
   "metadata": {},
   "source": [
    "#### 2.5.1.4 Equation for general variance\n",
    "In general: Stochastic matrix A, non-stochastic y\n",
    "\n",
    "- Find the variance of LS estimator $\\hat\\beta$\n",
    "- Non-stochastic A, Stochastic Y\n",
    "\n",
    "Var$(AY)$ = $A$ Var$(Y)A\\prime$\n",
    "- $A = (x\\prime x)^-1$\n",
    "\n",
    "$Var(\\hat\\beta_{ls}) = (x\\prime x)^{-1} x\\prime \\ \\ var(y) \\ \\ x(x\\prime x)^{-1} \\tag{1}$\n",
    "\n",
    "Substitute $Var(Y) = \\sigma^2 I$ into equation 1\n",
    "\n",
    "$Var(\\hat\\beta_{ls}) = (x\\prime x)^{-1} x\\prime \\ \\ \\sigma^2 I\\ \\ x(x\\prime x)^{-1} \\tag{2}$\n",
    "\n",
    "$Var(\\hat\\beta_{ls}) =\\sigma^2 (x\\prime x)^{-1} \\tag{3}$\n",
    "\n",
    "- Equation 3 is the variance of least square estimator under the assumption of non-serial correlation and homoskedasticity"
   ]
  },
  {
   "cell_type": "markdown",
   "metadata": {},
   "source": [
    "#### 2.5.1.5 Standard error of (variance) $\\hat\\beta$\n",
    " Estimator for the population error variance\n",
    "\n",
    "#### Population:\n",
    "$y=\\alpha+\\beta x+u, u-N(x,\\sigma^2)\\\\\n",
    "var(u)=E[(u-E(u))^2]=E[u^2]=\\sigma^2$\n",
    "\n",
    "#### Sample:\n",
    "$y=\\alpha+\\beta x+u\\\\\n",
    "\\tilde\\sigma^2=\\frac{1}{N}\\sum^{u}_{i=1}\\hat u_i^2\\\\\n",
    "=\\frac{1}{N}[\\hat u_1^2+\\hat u_2^2+\\hat u_{N-1}^2+\\hat u_{N}^2]$\n",
    "\n",
    "Where Variance of $\\hat u_{N-1}^2+\\hat u_{N}^2=0$ because of degrees of freedom\n",
    "\n",
    "\n",
    "Thus considering degrees of freedom our S.E of $\\hat\\beta$:\n",
    "$$\\hat\\sigma^2=\\frac{1}{N-K}\\sum^{N}_{i=1}\\hat u_i^2$$\n",
    "\n",
    "Estimated variance calculated in STATA and eviews:\n",
    "\n",
    "$$Var(\\hat\\beta|x_i)= \\frac{\\frac{1}{N-K}\\sum^{N}_{i=1}\\hat u_i^2}{\\sum(x_i-\\bar{x})^2}\\\\\n",
    "\\text{Standard error:}=\\sqrt{\\frac{\\frac{1}{N-K}\\sum^{N}_{i=1}\\hat u_i^2}{\\sum(x_i-\\bar{x})^2}}$$\n",
    "\n",
    "\n",
    "Reference: Lambart, Ben"
   ]
  },
  {
   "cell_type": "markdown",
   "metadata": {},
   "source": [
    "#### 2.5.1.5 Python Example:  Standard error of (variance) "
   ]
  },
  {
   "cell_type": "code",
   "execution_count": 36,
   "metadata": {},
   "outputs": [
    {
     "name": "stdout",
     "output_type": "stream",
     "text": [
      "0.10329300567626208\n",
      "0.10434169251832211\n"
     ]
    }
   ],
   "source": [
    "x, y = make_regression(n_samples=100, n_features=1, noise=1)\n",
    "x_c = sm.add_constant(x)\n",
    "results = sm.OLS(y,x_c).fit()\n",
    "\n",
    "#Uhat calculation is correct because:\n",
    "#sum(results.resid**2)==sum((y-results.predict())**2)\n",
    "uhat = sum((y-results.predict())**2)\n",
    "sxx= sum((x-np.mean(x))**2)\n",
    "DF_correction = (1)/(len(x-1))\n",
    "print(math.sqrt((DF_correction*uhat)/(sxx)))\n",
    "print(results.bse[1])"
   ]
  },
  {
   "cell_type": "markdown",
   "metadata": {},
   "source": [
    "### 2.5.2 Python example: Calculate variance using matrices\n",
    "\n",
    "Reference: Example via Ferrell, Rebecca [CSSS508]"
   ]
  },
  {
   "cell_type": "markdown",
   "metadata": {},
   "source": [
    "$$\\hat{\\sigma}^2 = \\frac{(\\mathbf{y} - \\mathbf{X} \\cdot \\hat{\\mathbf{\\beta}})^T \\cdot (\\mathbf{y} - \\mathbf{X} \\cdot \\hat{\\mathbf{\\beta}})}{n - p - 1}= \\frac{\\hat e^{T}\\hat e}{n - p - 1}$$\n",
    "\n",
    "$Var(\\hat\\beta)= \\sigma^2 (x\\prime x)^{-1}$\n"
   ]
  },
  {
   "cell_type": "markdown",
   "metadata": {},
   "source": [
    "### 2.5.2.1 Generate data and calculate beta hat"
   ]
  },
  {
   "cell_type": "code",
   "execution_count": 37,
   "metadata": {},
   "outputs": [],
   "source": [
    "# Generate X, Y data.\n",
    "np.random.seed(1)\n",
    "n = 20 # sample size \n",
    "K = 2  # number of paramters\n",
    "X = np.hstack( ( np.ones( (n,1) ), stats.norm.rvs(  size = (n, K))) )  # Indpendent variables\n",
    "Y = stats.norm.rvs(  size = (20, 1)) # Dependent Variables\n",
    "# Calculate regression estimators (beta hat)\n",
    "bhat = np.linalg.inv(X.T@X)@(X.T@Y)\n",
    "result= sm.OLS(Y,X).fit()"
   ]
  },
  {
   "cell_type": "markdown",
   "metadata": {},
   "source": [
    "### 2.5.2.2 Generate Variance-Covariance Matrix"
   ]
  },
  {
   "cell_type": "code",
   "execution_count": 38,
   "metadata": {
    "scrolled": true
   },
   "outputs": [
    {
     "name": "stdout",
     "output_type": "stream",
     "text": [
      "Covariance Matrixs\n",
      "[[ 0.03804739 -0.00388082  0.01575351]\n",
      " [-0.00388082  0.03882906  0.01349301]\n",
      " [ 0.01575351  0.01349301  0.04466534]]\n",
      "\n",
      "[[ 0.04476163 -0.00456568  0.01853354]\n",
      " [-0.00456568  0.04568124  0.01587413]\n",
      " [ 0.01853354  0.01587413  0.05254746]]\n"
     ]
    }
   ],
   "source": [
    "ehat = Y -X@bhat\n",
    "sigma_hat = ehat.T@ehat/(len(X-2))\n",
    "cov = np.linalg.inv(X.T@X)\n",
    "beta_covar = sigma_hat*cov\n",
    "print('Covariance Matrixs')\n",
    "print(beta_covar)\n",
    "print('')\n",
    "print(sm.OLS(Y,X).fit().cov_params())"
   ]
  },
  {
   "cell_type": "markdown",
   "metadata": {},
   "source": [
    "### 2.5.2.3 Calculate S.E. of estimators"
   ]
  },
  {
   "cell_type": "code",
   "execution_count": 44,
   "metadata": {
    "scrolled": true
   },
   "outputs": [
    {
     "name": "stdout",
     "output_type": "stream",
     "text": [
      "S.E. by hand:\n",
      "[0.19505739 0.19705089 0.21134176]\n",
      "SE. by statsmodels library:\n",
      "[0.21156944 0.2137317  0.22923233]\n"
     ]
    }
   ],
   "source": [
    "print('S.E. by hand:')\n",
    "print(np.sqrt(np.diag(beta_covar)))\n",
    "print('SE. by statsmodels library:')\n",
    "print(sm.OLS(Y,X).fit().bse)"
   ]
  },
  {
   "cell_type": "markdown",
   "metadata": {},
   "source": [
    "### 2.5.3 Variance with heteroscedasticity\n",
    "\n",
    "$Var(\\beta|x_i)=\\sigma^2_i$\n",
    "\n",
    "Robust S.E. of $\\hat\\beta$(White s.e.):\n",
    "$$Var(\\hat\\beta|x_i)=\\frac{\\sum(x_i-\\bar x) \\hat u_i^2}{{ssx}^2}$$"
   ]
  },
  {
   "cell_type": "markdown",
   "metadata": {},
   "source": [
    "### 2.5.4 Variance with serial correlation\n",
    "\n",
    "$cov(u_t, u_{t+j})= \\rho^j\\sigma^2$ AR(1) process\n",
    "\n",
    "$$Var(\\hat\\beta|x_t)=\\frac{\\sum(x_i-\\bar x) u_t}{{ssx}^2}\\\\\n",
    "= \\frac{\\sigma^2}{ssx}+\\frac{2\\sum^{T-1}_{t=1}\\sum^{T-t}_{j=1}x_tx_{t+j}\\rho^j}{{ssx}^2} $$\n",
    "\n",
    "- Assume $\\bar{x}=0, \\hat{u}=0$ "
   ]
  },
  {
   "cell_type": "markdown",
   "metadata": {},
   "source": [
    "# 3. Regression diagnostics"
   ]
  },
  {
   "cell_type": "markdown",
   "metadata": {},
   "source": [
    "## 3.1 Central moments\n",
    "\n",
    "### Expectation\n",
    "\n",
    "Value we expect to get if we repeat process and average \n",
    "\n",
    "- 1st moment\n",
    "\n",
    "$$E[x] = \\int^{\\infty}_{\\infty}xf_xdx$$\n",
    "\n",
    "- 2nd moment\n",
    "\n",
    "$$E[x^2] = \\int^{\\infty}_{\\infty}x^2f_xdx$$\n",
    "\n",
    "### Variance (2nd central moment):\n",
    "$$\\mu_2= E[(x-\\bar x)^2]$$\n",
    "\n",
    "### Skewness (3rd central moment):\n",
    "$$\\mu_3= E[(x-\\bar x)^3]\\\\\\\n",
    "\\text{Skewnewss} = \\frac{\\mu_3}{(\\sigma^2)^{3/2}}$$\n",
    "\n",
    "- Postive skew leans right\n",
    "\n",
    "### Kurtosis (4th central moment):\n",
    "$$\\mu_4= [(x-\\bar x)^4]$$\n",
    "\n",
    "- Divide by the variance squared subtracted by 3:\n",
    "\n",
    "$$\\text{Kurtosis}=\\gamma = \\frac{\\mu_4}{\\sigma_4}-3$$\n",
    "$$\\gamma>0 \\ \\ \\text{Fatter tails than normal distribution}\\\\\n",
    "\\gamma<0 \\ \\ \\text{Thinner tails than normal distribution}$$"
   ]
  },
  {
   "cell_type": "markdown",
   "metadata": {},
   "source": [
    "### 3.1.1 Python Example: Central moments"
   ]
  },
  {
   "cell_type": "code",
   "execution_count": 46,
   "metadata": {},
   "outputs": [
    {
     "name": "stdout",
     "output_type": "stream",
     "text": [
      "Mean: 0.0113\n",
      "Variance:8.948\n",
      "Standard deviation:2.991\n",
      "Skewness:0.0081\n",
      "Kurtosis:-0.0158\n"
     ]
    }
   ],
   "source": [
    "sample = np.random.normal(loc=0, scale=3, size=100000)\n",
    "def moments(sample):\n",
    "    mean = np.mean(sample)\n",
    "    print('Mean: {:.4f}'.format(mean))\n",
    "    variance = sum((sample-mean)**2)/len(sample)\n",
    "    print(\"Variance:{:.3f}\".format(variance))\n",
    "    std= math.sqrt(np.var(sample))\n",
    "    print(\"Standard deviation:{:.3f}\".format(std))\n",
    "    skewness1 = sum((sample-mean)**3)/len(sample)\n",
    "    skewness2 = skewness1/variance**(3/2)\n",
    "    print(\"Skewness:{:.4f}\".format(skewness2))\n",
    "    kurtosis1 = sum((sample-mean)**4)/len(sample)\n",
    "    kurtosis2 = (kurtosis1/variance**2)-3\n",
    "    print(\"Kurtosis:{:.4f}\".format(kurtosis2))\n",
    "moments(sample)"
   ]
  },
  {
   "cell_type": "markdown",
   "metadata": {},
   "source": [
    "## 3.2 Omitted variable bias\n",
    "\n",
    "\n",
    "#### Example 1:\n",
    "Test scores = $\\alpha + \\beta\\text{class_size}+u$\n",
    "   - We would expect that other factors are important in determining test scores other than class size so our error term does not equal zero\n",
    "   - $E[u|\\text{class_size}]\\neq0$\n",
    "\n",
    "\n",
    "#### Example 2:\n",
    "$\\text{wages}= \\alpha + \\beta_1 \\text{education}+\\beta_2\\text{ability}+u$\n",
    "   - $E[u|\\text{education}]\\neq0$\n",
    "   - $Cov[\\text{ability}|\\text{education}]\\neq0$\n",
    "\n",
    "### Example proof:\n",
    "$\\text{wages}_i= \\alpha + \\beta_1 \\text{edu}_i+u_i$\n",
    "#### $$\\hat\\beta_1=\\beta_1 + \\frac{\\sum(edu_i - \\bar edu)u_i}{\\sum(edu_i-\\bar{edu})^2}$$\n",
    "\n",
    "$\\text{wages}_i= \\alpha + \\beta_1 \\text{edu}_i+\\beta_2\\text{inate ability_i}_i+v_i$\n",
    "\n",
    "$$\\beta_1+ \\frac{\\sum(edu_i - \\bar edu)(\\beta_2ability+v_i)}{\\sum(edu_i-\\bar{edu})^2}$$\n",
    "\n",
    "$$E[\\hat\\beta_1] +\\frac{\\beta_2\\sum E\\sum(edu_i - \\bar edu)(ability_i)}{\\sum(edu_i-\\bar edu)^2}\\\\\n",
    "E[\\hat\\beta_1]=\\beta_1+\\beta_2\\text{bias}^2\\\\\n",
    "E[\\hat\\beta_1]>\\beta_1$$\n"
   ]
  },
  {
   "cell_type": "markdown",
   "metadata": {},
   "source": [
    "## 3.3 Reverse causality\n",
    "\n",
    "Endogenity:\n",
    "$E[u_i|x_i]\\neq 0$\n",
    "\n",
    "#### Example:\n",
    "$\\text{violence}_i=\\alpha+\\beta_1\\text{Development spending}_i+u_i$\n",
    "\n",
    "$\\hat\\beta_{OLS}$ will produce upward estimations of development aid on violence.\n",
    "\n",
    "- Regions which have higher levels of violence tend to recieve more development aid. \n",
    "- At first glance it could appear that there is a positive relationship between violence and development aid.\n",
    "- This is an example of reverse casuality\n",
    "\n",
    "\n",
    "### Example: $E[u_i|x_i]$\n",
    "\n",
    "\n",
    "$\\text{HDI}=\\alpha+\\beta_i\\text{civil war}+u_i\\\\\n",
    "\\text{civil war}=\\delta+\\gamma\\text{HDI}+v_i$\n",
    "\n",
    "And it is likely that $Cov(\\text{civil war}+u_i)\\neq0$\n",
    "\n",
    "$Cov(u, \\text{civil war}= \\gamma Cov(u, \\delta+\\text{HDI}+v_i)\\\\\n",
    "=\\gamma cov(u, \\text{HDI})\\\\\n",
    "=\\gamma cov(u, \\alpha+\\beta\\text{Civil war}+u\\\\\n",
    "= \\gamma var(u)\\neq 0$\n",
    "\n"
   ]
  },
  {
   "cell_type": "markdown",
   "metadata": {},
   "source": [
    "## 3.4 Functional misspecification\n",
    "\n",
    "$\\text{wages}= \\alpha + \\beta_1 \\text{education}+\\beta_2\\text{Age}^2+u\\\\\n",
    "\\beta_1>0,\\beta_2<0$\n",
    "\n",
    "Reference: Lambert, Ben"
   ]
  },
  {
   "cell_type": "markdown",
   "metadata": {},
   "source": [
    "### 3.4.1 Python example: Functional misspecification graph"
   ]
  },
  {
   "cell_type": "code",
   "execution_count": 41,
   "metadata": {},
   "outputs": [
    {
     "data": {
      "image/png": "[encoded data removed]",
      "text/plain": [
       "<Figure size 432x288 with 1 Axes>"
      ]
     },
     "metadata": {
      "needs_background": "light"
     },
     "output_type": "display_data"
    }
   ],
   "source": [
    "x = np.linspace(0, 80, 20)\n",
    "y = -(x-40)**2\n",
    "\n",
    "#User created graph function\n",
    "def graph_reg(x,y):\n",
    "    intercept = np.polyfit(x,y, deg=1)[1]\n",
    "    slope = np.polyfit(x,y, deg=1)[0]\n",
    "    best_fit = intercept+(slope*x)\n",
    "    plt.scatter(x,y)\n",
    "    plt.plot(x, best_fit, color='red')\n",
    "\n",
    "#Using user created function to graph regression\n",
    "graph_reg(x,y)\n",
    "plt.ylabel('Wage')\n",
    "plt.xlabel('Age')\n",
    "plt.title('Example 1: Model misspecification')\n",
    "plt.show()"
   ]
  },
  {
   "cell_type": "markdown",
   "metadata": {},
   "source": [
    "### 3.4.2 Python example: Functional misspecification graph"
   ]
  },
  {
   "cell_type": "code",
   "execution_count": 42,
   "metadata": {},
   "outputs": [
    {
     "data": {
      "image/png": "[encoded data removed]",
      "text/plain": [
       "<Figure size 432x288 with 1 Axes>"
      ]
     },
     "metadata": {
      "needs_background": "light"
     },
     "output_type": "display_data"
    }
   ],
   "source": [
    "x = np.linspace(1, 10, 11)*100000\n",
    "y = -np.log(x)\n",
    "#Using user created function to graph regression\n",
    "graph_reg(x,y)\n",
    "plt.ylabel('Car sales')\n",
    "plt.xlabel('Price')\n",
    "plt.title('Example 2: Model misspecification')\n",
    "plt.show()"
   ]
  },
  {
   "cell_type": "markdown",
   "metadata": {},
   "source": [
    "## 3.5 Testing for misspecification\n",
    "\n",
    "### Ramsey (RESET) test\n",
    "\n",
    "\n",
    "$$y_i=\\hat\\alpha +\\hat\\beta_1+\\hat\\beta_2x_i+\\hat\\beta_p x_{pi}\\\\\n",
    "y_i=\\alpha+\\beta_1x_{1i}+\\cdots+\\beta_px_{pi}+\\gamma_1\\hat y_i^2 +\\gamma_2\\hat y_i^3\n",
    "\\\\\\text{F-test}: H_0: \\gamma_1=\\gamma_2=0$$\n",
    "\n",
    "- If our model is correctly specified T-test of $\\gamma_1$ should not be rejected\n",
    "    - It would not be necessary to include quadratic terms in our model\n",
    "- We can also run an F-test $H_0: \\gamma_1=\\gamma_2=0$\n",
    "    - If we reject the null then there is functional misspecfication \n",
    "\n"
   ]
  },
  {
   "cell_type": "markdown",
   "metadata": {},
   "source": [
    "## 3.6 Serial correlation\n",
    "\n",
    "$cov(u_i, u_s)\\neq0 \\ \\ \\ i\\neq s$\n",
    "\n",
    "#### Serial correlation occurs when:\n",
    "\n",
    "- Important variable is omitted\n",
    "- Functional misspecification\n",
    "- Measurement error in independent variable\n",
    "\n",
    "#### Serial corrleation can also occur when our errors are clustered:\n",
    "\n",
    "$y_{ig} = \\alpha+\\beta\\text{Class size}_g + \\varepsilon_{ig}$\n",
    "\n",
    "Where:\n",
    "- $\\varepsilon_{ig}=V_g+N_i$\n",
    "    - $V_g$ classroom specific factors\n",
    "    - $N_i$ inidividual factors\n",
    "    \n",
    "- i=individual\n",
    "- g=group=class\n",
    "\n",
    "$Cov(\\varepsilon_{ig}, \\varepsilon_jg)\\neq 0 = \\sigma^2_v$\n",
    "\n",
    "- We need to take into account the clustering nature of our errors\n",
    "\n"
   ]
  },
  {
   "cell_type": "markdown",
   "metadata": {},
   "source": [
    "### 3.6.1 General test for serial correlation\n",
    "\n",
    "Population has serial correlation if $\\rho$>0\n",
    "\n",
    "AR(1)--$y=\\alpha+\\beta x_t+\\varepsilon_{ti}\\\\\n",
    "\\varepsilon_t=\\rho\\varepsilon_{t-1}+u_t$\n",
    "\n",
    "### T-test\n",
    "Sample:\n",
    "$y_t=\\hat{\\alpha}+\\hat\\beta x_t+\\hat\\varepsilon_t\\\\\n",
    "\\hat\\varepsilon_t=\\delta_0+\\delta_1\\hat\\varepsilon$\n",
    "\n",
    "T-test = $\\frac{\\delta_1}{\\S.E.(\\delta_1)}\\\\\n",
    "H_0:\\rho=0\\\\\n",
    "H_1: \\rho\\neq0$\n",
    "\n",
    "If we reject then there is evidence of serial correlation\n",
    "\n",
    "Reference: Lambert, Ben"
   ]
  },
  {
   "cell_type": "markdown",
   "metadata": {},
   "source": [
    "### 3.6.1 Durbin Watson test for serial correlation\n",
    "\n",
    "\n",
    "$$DW = \\frac{\\sum_{t=2}^{N}(\\hat\\varepsilon_{t}-\\hat\\varepsilon_{t-1})^2}{\\sum^N_{t=1}\\hat\\varepsilon_t^2}\\\\\n",
    "H_0: \\rho=0\\\\\n",
    "H_1: \\rho>0$$\n",
    "\n",
    "\n",
    "\n",
    "- Durbin-watson statistic $\\approx (2-\\delta_1)$ from our T-test\n",
    "- For smaller samples DW test is preferable to T-test\n",
    "\n",
    "\n",
    ">From [Statsmodels](https://github.com/statsmodels/statsmodels) [documentation](http://www.statsmodels.org/0.6.1/generated/statsmodels.stats.stattools.durbin_watson.html):\n",
    ">- This statistic will always be between 0 and 4. \n",
    ">- Inidication of no serial correlation: the test statistic equals 2. \n",
    ">- The closer to 0 the statistic, the more evidence for positive serial correlation. \n",
    ">- The closer to 4, the more evidence for negative serial correlation."
   ]
  },
  {
   "cell_type": "markdown",
   "metadata": {},
   "source": [
    "#### 3.6.1.1 Python example: Durbin watson & serial correlation"
   ]
  },
  {
   "cell_type": "code",
   "execution_count": 46,
   "metadata": {},
   "outputs": [
    {
     "name": "stdout",
     "output_type": "stream",
     "text": [
      "DW close to 0 positive serial correlation.\n",
      "DW close to 4: negative serial correlation.\n"
     ]
    },
    {
     "data": {
      "image/png": "[encoded data removed]",
      "text/plain": [
       "<Figure size 432x288 with 1 Axes>"
      ]
     },
     "metadata": {
      "needs_background": "light"
     },
     "output_type": "display_data"
    }
   ],
   "source": [
    "from statsmodels.stats.stattools import durbin_watson\n",
    "residuals = sm.OLS(y,x).fit().resid\n",
    "dw_test= durbin_watson(residuals)\n",
    "if dw_test<1:\n",
    "    print('Evidence of POSITIVE serial correlation: DW-test stat {:.3f}'.format(dw_test))\n",
    "elif dw>2:\n",
    "    print('Evidence of NEGATIVE serial correlation: DW-test stat {:.3f}'.format(dw_test))\n",
    "else: \n",
    "    print('No evidence of serial correlation: DW-Test stat {:.3f}'.format(dw_test))\n",
    "\n",
    "x = np.linspace(0, 80, 20)[:15]\n",
    "y = -(x-40)**2\n",
    "\n",
    "#Using user created function to graph regression\n",
    "graph_reg(x,y)\n",
    "\n",
    "plt.title('Evidence of serial correlation: DW-test-stat: {:.3f}'.format(dw_test))\n",
    "plt.ylabel('Wage')\n",
    "plt.xlabel('Age')\n",
    "plt.show()"
   ]
  },
  {
   "cell_type": "markdown",
   "metadata": {},
   "source": [
    "#### 3.6.1.2 Python example: Durbin watson & serial correlation"
   ]
  },
  {
   "cell_type": "code",
   "execution_count": 48,
   "metadata": {},
   "outputs": [
    {
     "name": "stdout",
     "output_type": "stream",
     "text": [
      "DW close to 0 positive serial correlation.\n",
      "DW close to 4: negative serial correlation.\n"
     ]
    },
    {
     "data": {
      "image/png": "[encoded data removed]",
      "text/plain": [
       "<Figure size 432x288 with 1 Axes>"
      ]
     },
     "metadata": {
      "needs_background": "light"
     },
     "output_type": "display_data"
    }
   ],
   "source": [
    "print('DW close to 0 positive serial correlation.') \n",
    "print('DW close to 4: negative serial correlation.')\n",
    "\n",
    "x= list(range(0,101))\n",
    "y=x\n",
    "y1= 20*np.sin(y)+x\n",
    "\n",
    "residuals = sm.OLS(y1,x).fit().resid\n",
    "dw_test= durbin_watson(residuals)\n",
    "\n",
    "plt.plot(x,y)\n",
    "plt.plot(x,y1)\n",
    "plt.title('Serial correlation: DW-test-stat: {:.3f}'.format(dw_test))\n",
    "plt.margins(x=0)\n",
    "plt.show()"
   ]
  },
  {
   "cell_type": "markdown",
   "metadata": {},
   "source": [
    "## 3.7 Homoskedasticity vs Heteroskedasticity:\n",
    "\n",
    "### Homoskedastic errors:\n",
    "$Var(u_i|x_i)=\\sigma^2$\n",
    "\n",
    "### Heteroskedastic errors:\n",
    "$Var(u_i|x_i)=F(x_i)$\n",
    "\n",
    "### Examples of heteroskedasticity:\n",
    "- $\\text{wage}= \\alpha+\\text{education}\\beta+ u$\n",
    "    - Where $var(u|\\text{wage})=\\sigma^2\\text{income}\\neq0$\n",
    "    - This is because those with higher levels of education have more variance in income than those with lower.\n",
    "        - Think investment bankers vs. teachers wage differential despite similar levels of education.\n",
    "        - This contrast compares with highschool graduates which generally have similar income levels\n",
    "        \n",
    "### Heteroskedasticity in matrix form\n",
    "\n",
    "$var(u_i|x_i)= \\sigma^2x_i^2\\\\\n",
    "Cov(u_i u_j|x_ix_j)=0$\n",
    "\n",
    "$E\\Bigg[\\begin{bmatrix} u_1^2 & u_2, u_2 & \\cdots & u_1 u_n \\\\ \n",
    "u_1, u_2 & u_2^2 & \\ddots & \\vdots \\\\ \n",
    "\\cdots & \\cdots & \\cdots &  u_n^2\\end{bmatrix}\\Bigg]|X\\\\\n",
    "=\\begin{bmatrix} \\sigma^2x_1^2 & \\cdots & \\cdots & 0 \\\\ \n",
    "0& \\sigma^2x_2^2 & \\ddots & \\vdots \\\\ \n",
    "0 & 0 & \\sigma^2x_3^2 & \\cdots \\end{bmatrix}\\\\\n",
    "= \\sigma^2 \\Omega$\n",
    "\n",
    "### Variance in matrix form\n",
    "\n",
    "\n",
    "$y = x\\beta+u \\\\\n",
    "var(y|x) =\\sigma^2 \\Omega$\n",
    "\n",
    "- Using $Var(AX)= A Var(x)A\\prime$\n",
    "\n",
    "$$\\hat\\beta = (x\\prime x)^{-1}x\\prime y\\\\\n",
    "Var(\\hat\\beta|x)= (x\\prime x)^{-1}x\\prime \\ \\ Var(y|x)x(x\\prime x)^{-1}$$\n",
    "### $$=\\sigma^2(x\\prime x)^{-1}x\\prime\\Omega x(x\\prime x)^{-1}$$\n",
    "\n",
    "Note: the variance is different than homoscedastic:\n",
    "- $Var(\\hat\\beta|hetero)>Var(\\hat\\beta|homo)$\n",
    "\n",
    "\n",
    "\n",
    "\n",
    "##### Review: If we assume homoscedastic area we replace $\\Omega$ with I(identity matrix) below:\n",
    "\n",
    "$Var(\\hat\\beta|x)= (x\\prime x)^{-1}x\\prime x(x\\prime x)^{-1}\\\\\n",
    "=\\sigma^2(x\\prime x)^{-1}$\n",
    "\n",
    "Reference: Lambert, Ben\n"
   ]
  },
  {
   "cell_type": "markdown",
   "metadata": {},
   "source": [
    "### 3.7.1 Python example: visualize heteroskedasticity"
   ]
  },
  {
   "cell_type": "code",
   "execution_count": 49,
   "metadata": {},
   "outputs": [
    {
     "data": {
      "image/png": "[encoded data removed]",
      "text/plain": [
       "<Figure size 432x288 with 1 Axes>"
      ]
     },
     "metadata": {
      "needs_background": "light"
     },
     "output_type": "display_data"
    }
   ],
   "source": [
    "np.random.seed(4)\n",
    "homo = np.random.normal(loc=100, scale=np.arange(0,41))\n",
    "x = np.linspace(0,40,41)\n",
    "\n",
    "intercept = np.polyfit(x,homo, deg=1)[1]\n",
    "slope = np.polyfit(x,homo, deg=1)[0]\n",
    "\n",
    "best_fit = intercept+(slope*x)\n",
    "residual_graph = -(homo-best_fit)\n",
    "residual = (homo-best_fit)**2\n",
    "plt.scatter(x,homo)\n",
    "plt.plot(x, best_fit, color='red')\n",
    "\n",
    "for i in range(0,21):\n",
    "    plt.arrow(x[i], homo[i], 0, residual_graph[i], head_width=0.05, head_length=0.1, color='orange')\n",
    "for i in range(20,41):\n",
    "    plt.arrow(x[i], homo[i], 0, residual_graph[i], head_width=0.05, head_length=0.1, color='green')\n",
    "\n",
    "    \n",
    "plt.annotate(\"Avg residual 0-20 obs: \"+str(round(np.mean(residual[:21]),1)), xy=(2, 60), xytext=(2, 60), color='orange')\n",
    "plt.annotate(\"Avg residual 21-40 obs: \"+str(round(np.mean(residual[21:]),1)), xy=(2, 50), xytext=(2, 50), color='green')\n",
    "\n",
    "\n",
    "plt.margins(x=0)\n",
    "plt.xlabel('Education')\n",
    "plt.ylabel('Wages')\n",
    "plt.title('Example of Heteroskedastic errors')\n",
    "plt.show()"
   ]
  },
  {
   "cell_type": "markdown",
   "metadata": {},
   "source": [
    "### 3.7.2 Python example: visualize heteroskedasticity"
   ]
  },
  {
   "cell_type": "code",
   "execution_count": 50,
   "metadata": {},
   "outputs": [
    {
     "data": {
      "image/png": "[encoded data removed]",
      "text/plain": [
       "<Figure size 432x288 with 1 Axes>"
      ]
     },
     "metadata": {
      "needs_background": "light"
     },
     "output_type": "display_data"
    }
   ],
   "source": [
    "plt.scatter(x, residual)\n",
    "plt.title('Example of Heteroskedastic errors: residual plot')\n",
    "plt.show()"
   ]
  },
  {
   "cell_type": "markdown",
   "metadata": {},
   "source": [
    "### 3.7.3 Goldfeld-Quant test for heteroscedasticity\n",
    "\n",
    "$$F = \\frac{\\sum^{N2}_{i=1}\\hat u^2/N_2}{\\sum^{N1}_{i=1}\\hat u^2/N_1}= F_{DF1=N2, DF2=N1}\\\\\n",
    "H_0: \\text{Homoscedastic errors}$$"
   ]
  },
  {
   "cell_type": "markdown",
   "metadata": {},
   "source": [
    "### 3.7.3.1 Python Example: Goldfeld-Quant test "
   ]
  },
  {
   "cell_type": "code",
   "execution_count": 83,
   "metadata": {},
   "outputs": [
    {
     "name": "stdout",
     "output_type": "stream",
     "text": [
      "Fail to reject GQ test: F-test p-value 0.7888>.05\n",
      "Thus we have evidence of heteroscedasticity\n"
     ]
    }
   ],
   "source": [
    "#Generate data\n",
    "np.random.seed(4)\n",
    "homo = np.random.normal(loc=100, scale=np.arange(0,41))\n",
    "x = np.linspace(0,40,41)\n",
    "results = sm.OLS(homo,x).fit()\n",
    "import statsmodels.stats.api as sms\n",
    "name = ['F statistic', 'p-value']\n",
    "test = sms.het_goldfeldquandt(results.resid, results.model.exog)\n",
    "pd.compat.lzip(name, test)\n",
    "\n",
    "if pd.compat.lzip(name, test)[1][1]>.05:\n",
    "    print('Fail to reject GQ test: F-test p-value {:.4f}>.05'.format(pd.compat.lzip(name, test)[1][1]))\n",
    "    print(\"Thus we have evidence of heteroscedasticity\")\n",
    "else:\n",
    "    print('Reject, thus we have evidence of homoscedasticity')"
   ]
  },
  {
   "cell_type": "markdown",
   "metadata": {},
   "source": [
    "### 3.7.4 Breusch Pagan test for heteroscedasticity\n",
    "\n",
    "$y=\\alpha+\\beta_1x_1+\\beta_2x_2+\\cdots+\\beta_px_p+u$\n",
    "\n",
    "- If any of $\\delta$ are different than zero other than $\\delta_0$ then there is heteroscedasticity\n",
    "    - $\\hat u^2 = \\delta_0+\\delta_1x_1+\\delta_2x_2+\\delta_px_p$\n",
    "    - $H_0=\\delta_1=\\delta_2=\\delta_p=0$\n",
    "    - $H_1=\\delta_i\\neq0$\n",
    "    \n",
    "Reference: Lambert, Ben"
   ]
  },
  {
   "cell_type": "markdown",
   "metadata": {},
   "source": [
    "### 3.7.4.1 Python Example: Breusch Pagan test "
   ]
  },
  {
   "cell_type": "code",
   "execution_count": 72,
   "metadata": {},
   "outputs": [
    {
     "name": "stdout",
     "output_type": "stream",
     "text": [
      "Reject null hypothesis of BP-F test: 0.0019<.05\n",
      "Thus we have evidence of heteroscedasticity\n"
     ]
    }
   ],
   "source": [
    "residuals = results.resid\n",
    "test= sms.het_breuschpagan(residuals, results.model.exog)\n",
    "name = ['Lagrange multiplier statistic', 'p-value',\n",
    "        'f-value', 'f p-value']\n",
    "if pd.compat.lzip(name, test)[3][1]<.05:\n",
    "    print('Reject null hypothesis of BP-F test: {:.4f}<.05'.format(pd.compat.lzip(name, test)[3][1]))\n",
    "    print(\"Thus we have evidence of heteroscedasticity\")\n",
    "else:\n",
    "    print('Fail to reject-null, no evidence of heteroscedasticity')"
   ]
  },
  {
   "cell_type": "markdown",
   "metadata": {},
   "source": [
    "### 3.7.5 White test for heteroscedasticity\n",
    "\n",
    "- Can account for non-linearities and relationship between variables\n",
    "\n",
    "$y=\\alpha+\\beta_1x_1+\\beta_2x_2+\\cdots+\\beta_px_p+u\\\\\n",
    "\\hat u^2 = \\delta_0+\\delta_1x_1+\\cdots+\\delta_px_p+\\gamma_1x_1^2+\\cdots+\\gamma_p x_p^2+\\eta_1x_1x_2+\\cdots$\n",
    "\n",
    "- The model above require many degrees of freedom, making our statistical test less powerful\n",
    "- Instead we use the following model\n",
    "\n",
    "$$\\hat u^2 = \\delta_0+\\delta_1\\hat{y}+\\delta_2\\hat{y}^2\\\\\n",
    "H_0: \\delta_1=\\delta_2=0 \\\\\n",
    "\\text{F test, if we reject there is hetero}$$\n",
    "\n",
    "Reference: Lambert, Ben"
   ]
  },
  {
   "cell_type": "markdown",
   "metadata": {},
   "source": [
    "### 3.7.6 Python example: Graph with diaganostic tests\n"
   ]
  },
  {
   "cell_type": "code",
   "execution_count": 73,
   "metadata": {},
   "outputs": [
    {
     "name": "stdout",
     "output_type": "stream",
     "text": [
      "Reject BP-test null with F-stat p-value 0.002\n",
      "Fail to reject null Goldfeld-Quant with F-stat p-value 0.789\n",
      "Rejecting BP and failing to reject GQ test indicates our sample has heteroskedasticity\n"
     ]
    },
    {
     "data": {
      "image/png": "[encoded data removed]",
      "text/plain": [
       "<Figure size 432x288 with 1 Axes>"
      ]
     },
     "metadata": {
      "needs_background": "light"
     },
     "output_type": "display_data"
    }
   ],
   "source": [
    "np.random.seed(4)\n",
    "homo = np.random.normal(loc=100, scale=np.arange(0,41))\n",
    "x = np.linspace(0,40,41)\n",
    "\n",
    "def heteroskedasticity(x, y):\n",
    "    results= sm.OLS(y,x).fit()\n",
    "    residuals = results.resid\n",
    "    exog = results.model.exog\n",
    "    \n",
    "    if sms.het_breuschpagan(residuals, exog)[3]<.05:\n",
    "        print('Reject BP-test null with F-stat p-value {:.3f}'.format(sms.het_breuschpagan(residuals, exog)[3]))\n",
    "    if sms.het_goldfeldquandt(residuals, exog)[1]>.05:\n",
    "        print('Fail to reject null Goldfeld-Quant with F-stat p-value {:.3f}'.format(sms.het_goldfeldquandt(residuals, exog)[1]))\n",
    "    if sms.het_goldfeldquandt(residuals, exog)[1]>.05 and sms.het_breuschpagan(residuals, exog)[3]<.05:\n",
    "        print('Rejecting BP and failing to reject GQ test indicates our sample has heteroskedasticity')\n",
    "        plt.title('Evidence of Heteroskedasticity')\n",
    "    else:\n",
    "        plt.title('No-evidence of heteroskedasticity')\n",
    "    plt.scatter(x, y)\n",
    "    plt.show()\n",
    "#Run the above function\n",
    "heteroskedasticity(x, homo)\n"
   ]
  },
  {
   "cell_type": "markdown",
   "metadata": {},
   "source": [
    "## 3.8 Perfect collinearity\n",
    "\n",
    "- There is an exact relationship between squarefoot and square meters \n",
    "- So we would have perfect collinearity and our regression model would not work. \n",
    "\n",
    "$\\text{House price}_i = \\alpha + \\beta_1\\text{squarefoot}_i+\\beta_2\\text{squaremeters}_i+u_i$\n",
    "\n",
    "#### Multi-collinearity\n",
    "\n",
    "$\\text{Company sales}_i = \\alpha + \\beta_1\\text{Tv_adverts}_i+\\beta_2\\text{Radio_adverts}_i+u_i$\n",
    "\n",
    "- We could have a high $R^2$ but $\\beta_1, \\beta_2$ could be insignificant \n",
    "- This is because they are co-llinear and it will be difficult to determine the effect of each.\n",
    "\n",
    "Reference: Lambert, Ben"
   ]
  },
  {
   "cell_type": "markdown",
   "metadata": {},
   "source": [
    "### 3.8.1 Python Example: Perfect collinearity"
   ]
  },
  {
   "cell_type": "code",
   "execution_count": 74,
   "metadata": {},
   "outputs": [
    {
     "data": {
      "text/plain": [
       "1.156049178359001"
      ]
     },
     "execution_count": 74,
     "metadata": {},
     "output_type": "execute_result"
    }
   ],
   "source": [
    "x, y = make_regression(n_samples=100, n_features=2, noise=2, effective_rank=2, bias=0)\n",
    "results = sm.OLS(y,x).fit()\n",
    "\n",
    "np.linalg.cond(results.model.exog)"
   ]
  },
  {
   "cell_type": "markdown",
   "metadata": {},
   "source": [
    "## 3.9 Normality\n",
    "\n",
    "\n",
    "- There is not a hard rule as to which test should be used. Shapiro-Wilk may be used with small sample sizes of less than 50, whereas Kolmogorov is used for larger samples.\n",
    "\n",
    "- Sometimes Jarque-Bera is not sensitive enough to fat tails.\n",
    "\n",
    "- Using all tests can provide consensus as to whether our data follows the normal distribution\n",
    "\n",
    "### 3.9.1 Testing for normality\n",
    "1. Jarque-Bera \n",
    "$$JB= \\frac{N}{6}(S^2+\\frac{1}{4}(K-3)^2)= H_o:x^2_2$$\n",
    "\n",
    "2. Shapiro-Wilk\n",
    "\n",
    "3. Kolmogorov-Smirnov\n",
    "\n",
    "Reference: Lambert, Ben"
   ]
  },
  {
   "cell_type": "markdown",
   "metadata": {},
   "source": [
    "### 3.9.2 Python example: Jarque-Bera\n",
    "\n",
    "A general rule of thumb: \n",
    "- 1 rejects the null that the data is normally distributed\n",
    "- 0 indicates the data is normally distributed"
   ]
  },
  {
   "cell_type": "code",
   "execution_count": 90,
   "metadata": {},
   "outputs": [
    {
     "data": {
      "image/png": "[encoded data removed]",
      "text/plain": [
       "<Figure size 432x288 with 1 Axes>"
      ]
     },
     "metadata": {
      "needs_background": "light"
     },
     "output_type": "display_data"
    }
   ],
   "source": [
    "x, y = make_regression(n_samples=1000, n_features=1, noise=1000, bias=10)\n",
    "results = sm.OLS(y,x).fit()\n",
    "\n",
    "name = ['Jarque-Bera', 'Chi^2 two-tail prob.', 'Skew', 'Kurtosis']\n",
    "test = sms.jarque_bera(results.resid)\n",
    "pd.compat.lzip(name, test)\n",
    "plt.scatter(x,y)\n",
    "if test[0]>1:\n",
    "    plt.title('JB-Test: {:.3f}, evidence of non-normality'.format(test[0]))\n",
    "else:\n",
    "    plt.title('JB-Test: {:.3f}, NO evidence of non-normality'.format(test[0]))\n",
    "\n",
    "\n",
    "plt.show()"
   ]
  },
  {
   "cell_type": "markdown",
   "metadata": {},
   "source": [
    "## 3.10 F-statstic\n",
    "\n",
    "- If one of the variables is significant then it means that jointly the varaibles are also significant\n",
    "\n",
    "\n",
    "$y=\\alpha+\\beta_1x_1+\\beta_2x_2+\\cdots+\\beta_px_p\\\\\n",
    "H_0: \\beta_1=\\beta_2=\\cdots=\\beta_p=0\\\\\n",
    "H_1: \\beta_i\\neq 0$\n",
    "\n",
    "- Two-tailed test\n",
    "- Unrestricted regression: From full model calculate SSR=$\\sum^N_{i=1} \\hat u_i^2$\n",
    "- Restricted regression: From this model $Y=\\alpha$ calculate SSR\n",
    "\n",
    "$$F= \\frac{SSR_{\\text{Restricted}}-SSR_{\\text{Unrestricted}}/(P)}{SSR_{\\text{Unrestricted}}/(N-P-1)}$$\n",
    "\n",
    "- If F is large we can reject the Null hypothesis that are model is jointly non-significant\n",
    "- F-table is different than T-table with 2 DF\n",
    "    - $F-DF_1$= is the p value from our numerator\n",
    "    - $F-DF_2$ = N-P-1 is the denominator\n",
    "    - Reject if $F>F_{Critical value}$\n",
    "\n",
    "\n",
    "### Using F-stat to compare insignificant variables in models to significant\n",
    "\n",
    "$y= \\alpha+\\beta_1+\\beta_2+\\beta_3$\n",
    "- Run regression and find that $\\beta_1$ is only signficant variable\n",
    "- We can then do the following F-test to see whether other variables are jointly insigificant\n",
    "- Our null is different than first example\n",
    "\n",
    "$H_0=\\beta_2=\\beta_3=0$"
   ]
  },
  {
   "cell_type": "markdown",
   "metadata": {},
   "source": [
    "## 3.11 Errors: population vs. sample\n",
    "\n",
    "\n",
    "### Population error\n",
    "- $\\text{wage}= \\alpha+\\beta_1\\text{education}+\\beta_2\\text{ability}+ u$\n",
    "    - Investment banker (population error u>0) vs. University professor (population error u<0)\n",
    "\n",
    "### Sample\n",
    "- $\\text{wage}= \\alpha+\\beta_1\\text{education}+\\beta_2\\text{ability}+ u$\n",
    "    - $E[\\hat u]\\neq u$\n"
   ]
  },
  {
   "cell_type": "markdown",
   "metadata": {},
   "source": [
    "# 4. Regression interpretation\n",
    "\n",
    "### 4.1. Hypothesis testing in linear regression\n",
    "\n",
    "$N \\rightarrow \\infty \\Rightarrow \\hat\\beta- N\\Big(\\beta_{\\text{True}}, function(\\sigma^2)\\Big)$\n",
    "\n",
    "Even though we do not know population $\\sigma^2$ we can use following calculation to generate our distribution\n",
    "$$\\text{T-test} = \\frac{\\hat\\beta-\\beta}{S.E.(\\hat\\beta)}$$\n",
    "\n",
    "$H_0: \\beta=0\\\\\n",
    "H_1: \\beta\\neq0$\n",
    "\n",
    "\n",
    "- If we want to test whether $\\beta$ is different than 1\n",
    "\n",
    "$H_0: \\beta=1\\\\\n",
    "H_1: \\beta\\neq1$\n",
    "\n",
    "$$t=\\frac{\\text{Coefficient}-(-1)}{\\text{Standard-error}}$$\n",
    "\n"
   ]
  },
  {
   "cell_type": "markdown",
   "metadata": {},
   "source": [
    "## 4.2 Dummy variables\n",
    "\n",
    "### 4.2.1 Simple dummy\n",
    "$wage = \\alpha+\\beta_1\\text{Male}+\\beta_2\\text{education}$\n",
    "\n",
    "- Interpretation of the male coffecient is the wage premium (or discount) of males compared to females\n",
    "- Because women tend to earn less than men this coefficient would expected to be positive for males.\n",
    "\n",
    "### 4.2.2 Interaction dummy\n",
    "\n",
    "$wage = \\alpha+\\beta_1\\text{Male}+\\beta_2\\text{education}+\\beta_3\\text{Male,education}$\n",
    "\n",
    "- $\\beta_2$ is the return of education for females\n",
    "- $\\beta_3$ is the return of education for males\n",
    "- Allows for a different marginal return (slope) for education between the sexes \n",
    "\n",
    "### 4.2.3 Interaction dummy with continuous variables\n",
    "\n",
    "$\\text{sales}_t= \\alpha +\\beta_1\\text{Widget_Price}+\\beta_2\\text{Adverts}+\\beta_3 \\text{Widget_Price, Adverts}$\n",
    "\n",
    "- $\\beta_3$ is a way to see the interaction between price and adverts.\n",
    "- The effect of advertising for a high price product could have a higher return because consumers have to know how it is different in order to buy"
   ]
  },
  {
   "cell_type": "markdown",
   "metadata": {},
   "source": [
    "## 4.3 Lagged dependent variables\n",
    "\n",
    "$s_{t} = \\alpha + \\beta_0 A_t+\\beta_1 A_{t-1}+\\beta_2 A_{t-2}+\\gamma s_{t-1}+\\varepsilon_t$\n",
    "\n",
    "- Including $\\gamma s_{t-1}$ we are controlling for omitted factors\n",
    "- If a product is addictive (ciggareates sales) the amount of cig sales last week will impact this week\n",
    "\n",
    "$\\bar A \\rightarrow A_t+1\\\\\n",
    "\\bar S \\rightarrow S \\prime$:\n",
    "\n",
    "$\\bar S = \\alpha + \\beta_1 \\bar A+\\beta_2 \\bar A + \\gamma \\bar s\\\\\n",
    "\\bar S(1-\\gamma)= \\alpha +\\bar A(\\beta_1+\\beta_2)\\\\\n",
    "\\bar S= \\frac{\\alpha}{1-\\gamma}+ \\frac{\\beta_1+\\beta_2}{1-\\gamma}\\bar A$\n",
    "\n",
    "- The coefficient on $\\frac{\\beta_1+\\beta_2}{1-\\gamma}$ is the long run effect of the permamnet increase of advertising of 1-unit\n",
    "\n",
    "Temporary effect:\n",
    "$A_t \\rightarrow A_t+1\\\\\n",
    "t=0: \\beta_1\\\\\n",
    "t=1: \\beta_2+\\gamma\\beta_1\\\\\n",
    "t=2: (\\beta_2+\\gamma\\beta)\\gamma\\\\\n",
    "t=3: (\\beta_2+\\gamma\\beta)\\gamma^2$"
   ]
  },
  {
   "cell_type": "markdown",
   "metadata": {},
   "source": [
    "## 4.4 Levels vs. differences regression\n",
    "\n",
    "$y_t = \\alpha+\\beta x_t+\\varepsilon_t\\\\\n",
    "\\Delta y_t = \\delta\\Delta x_t+u_t$\n",
    "\n",
    "- We would think that $\\beta$ and $\\delta$ would be the same\n",
    "- It is not the case that if we find a relationship in first difference (FD) then it would imply relationship in levels\n",
    "\n",
    "\n",
    "#### Proving relationship in levels is related to relationship in FD:\n",
    "\n",
    "$y_t-y_{t-1} = \\alpha+\\beta x_t+\\varepsilon_t- \\alpha-\\beta x_{t-1}+\\varepsilon_{t-1}\\\\\n",
    "\\Delta y_t = \\beta \\Delta x_t +\\Delta\\varepsilon_t$\n",
    "\n",
    "Reference: 3.10-4.4 Lambert, Ben\n",
    "\n",
    "### 4.4.1 Python example: FD vs. Levels"
   ]
  },
  {
   "cell_type": "code",
   "execution_count": 3,
   "metadata": {},
   "outputs": [
    {
     "data": {
      "image/png": "[encoded data removed]",
      "text/plain": [
       "<Figure size 432x288 with 2 Axes>"
      ]
     },
     "metadata": {
      "needs_background": "light"
     },
     "output_type": "display_data"
    }
   ],
   "source": [
    "plt.subplot(2,1,1)\n",
    "rw_drift1 = 100 * np.cumprod(np.random.normal(loc=.001, scale=.01, size=500) + 1)\n",
    "plt.plot(rw_drift1, label= 'yt')\n",
    "rw_drift2 = 100 * np.cumprod(np.random.normal(loc=.002, scale=.01, size=500) + 1)\n",
    "plt.plot(rw_drift2,label= 'xt')\n",
    "plt.legend()\n",
    "plt.subplot(2,1,2)\n",
    "plt.plot(np.diff(rw_drift1), label= 'yt')\n",
    "plt.plot(np.diff(rw_drift2), label= 'yt')\n",
    "plt.show()"
   ]
  },
  {
   "cell_type": "markdown",
   "metadata": {},
   "source": [
    "# A. Appendix"
   ]
  },
  {
   "cell_type": "markdown",
   "metadata": {},
   "source": [
    "## A.1 Degrees of Freedom\n",
    "\n",
    "For three observations:\n",
    "- $x_1, x_2, x_3$\n",
    "- $\\bar{x}=2$\n",
    "\n",
    "#### If we fixed $x_1 and x_2$ then $x_3$ is constrained by the fact we need to have $\\bar{x}=2$\n",
    "- In this case we would have two degrees of freedom\n",
    "- Thus degrees of freedom is shown to be as (N-1)\n",
    "\n",
    "### Example: $\\sigma^2$\n",
    "\n",
    "- $\\bar{x}=0$\n",
    "- $S_n^2= \\frac{1}{N}(x_1^2+x_2^2+\\cdots+x_n^2)$ --Sample variance\n",
    "- $E[S_n^2]=\\frac{N-1}{N}\\sigma^2$ Estimation of the population variance using sample variance\n",
    "\n",
    "Reference: Lambert, Ben"
   ]
  },
  {
   "cell_type": "markdown",
   "metadata": {},
   "source": [
    "### A.1.1 Python Example: Visualize Degrees of Freedom"
   ]
  },
  {
   "cell_type": "code",
   "execution_count": 21,
   "metadata": {},
   "outputs": [
    {
     "data": {
      "image/png": "[encoded data removed]",
      "text/plain": [
       "<Figure size 432x288 with 3 Axes>"
      ]
     },
     "metadata": {
      "needs_background": "light"
     },
     "output_type": "display_data"
    }
   ],
   "source": [
    "plt.subplots_adjust(hspace = 1)\n",
    "plt.subplot(3,1,1)\n",
    "plt.plot(np.linspace(0,10,11))\n",
    "plt.title('0 degrees of freedom')\n",
    "plt.margins(x=0)\n",
    "\n",
    "\n",
    "plt.subplot(3,1,2)\n",
    "intercept = 5\n",
    "for i in [2,10,20,50]:\n",
    "    linear = np.linspace(0,i,20)\n",
    "    plt.plot(intercept+linear)\n",
    "plt.xlim([0,8])\n",
    "plt.ylim([0,20])\n",
    "plt.margins(x=0)\n",
    "plt.title('1 degree of freedom: Fixing intercept')\n",
    "\n",
    "plt.subplot(3,1,3)\n",
    "for i in [2,5,10]:\n",
    "    linear = np.linspace(0,i,20)\n",
    "    for j in [1,3,5]:\n",
    "        plt.plot(j+linear)\n",
    "    \n",
    "plt.xlim([0,8])\n",
    "plt.ylim([0,10])\n",
    "plt.margins(x=0)\n",
    "plt.title('2 degrees of freedom: Without fixing intercept')\n",
    "plt.show()\n"
   ]
  },
  {
   "cell_type": "markdown",
   "metadata": {},
   "source": [
    "## A.2 Python Example: Overfitting-model "
   ]
  },
  {
   "cell_type": "code",
   "execution_count": 22,
   "metadata": {
    "scrolled": true
   },
   "outputs": [
    {
     "data": {
      "image/png": "[encoded data removed]",
      "text/plain": [
       "<Figure size 432x288 with 1 Axes>"
      ]
     },
     "metadata": {
      "needs_background": "light"
     },
     "output_type": "display_data"
    }
   ],
   "source": [
    "np.random.seed(1)\n",
    "x, y = make_regression(n_samples=100, n_features=1, noise=10,effective_rank=1, bias=5)\n",
    "x= pd.DataFrame(x)\n",
    "for i in range(0,20):\n",
    "    x['x'+str(i)] = x.iloc[:,[0]]**i\n",
    "x=x.drop(0, axis=1)\n",
    "results = sm.OLS(y, x.iloc[:, 1:]).fit()\n",
    "plt.scatter(x['x1'],y)\n",
    "plt.scatter(x.x1, results.predict())\n",
    "plt.title(r'Example of overfitting: $y=a_1+\\cdots+a_{20}$')\n",
    "plt.legend(['Observations','Fitted'])\n",
    "plt.show()"
   ]
  },
  {
   "cell_type": "markdown",
   "metadata": {},
   "source": [
    "## A.3 The Gauss-Markov Theorem proof-Matrix form\n",
    "\n",
    "$y = x\\beta + u\\\\\n",
    "\\hat\\beta = (x\\prime x)^{-1}x\\prime y$\n",
    "\n",
    "1. $\\hat \\beta$ is unbiased\n",
    "2. Variance $\\hat \\beta$\n",
    "\n",
    "$\\tilde{\\beta} = (x\\prime x)^{-1}x\\prime y+ Dy \\tag{1}$\n",
    "\n",
    "- Substituting y for equation 1\n",
    "\n",
    "$\\tilde{\\beta} = (x\\prime x)^{-1}x\\prime + (x\\prime x)^{-1}\\prime x u + Dx\\beta + Du \\tag{2}$\n",
    "\n",
    "- Taking the $ E[\\tilde{\\beta}] $\n",
    "\n",
    "$E[\\tilde{\\beta}] = \\beta + Dx\\beta \\tag{3}$\n",
    "\n",
    "- Notes on matrix algebra:\n",
    "    1. $Var(AX) = AVar(x)A\\prime$\n",
    "    2. $(AB)^{-1}= B^{-1}A^{-1}$\n",
    "    3. $(A^{-1})^1 = (A^1)^{-1}$\n",
    "\n",
    "$Var(\\tilde{\\beta})= C Var(y)C\\prime\\\\\n",
    "= C\\sigma^2 I C\\prime\\\\\n",
    "= \\sigma^2 CC\\prime$\n",
    "\n",
    "Where:\n",
    "- $C = [(x\\prime x)^{-1}x\\prime+D]$\n",
    "- $C\\prime = [x(x\\prime x)^{-1}+D\\prime]$\n",
    "\n",
    "$Var(\\tilde{\\beta})= \\sigma^2 [(x\\prime x)^{-1}x\\prime+D] [x(x\\prime x)^{-1}+D\\prime] \\tag{4}$\n",
    "\n",
    "$=\\sigma^2 [(x\\prime x)^{-1}  x\\prime x  (x\\prime x)^{-1}] +[(x\\prime x)^{-1}  x\\prime D\\prime] + Dx (x\\prime x)^{-1}+ DD\\prime \\tag{5}$\n",
    "\n",
    "$=\\sigma^2 [(x\\prime x)^{-1}+ \\sigma^2 D D\\prime \\tag{5}$\n",
    "\n",
    "$Var(\\tilde{\\beta})=Var(\\beta)+ \\sigma^2 D D\\prime \\tag{6}$\n",
    "\n",
    "- Because D D is a postive semidefinite matrix, the term is in a scalar analago greater or equal to zero\n",
    "- This proves that the least square estimator is the best linear unbiased estimate\n",
    "\n",
    "$$Var(\\tilde{\\beta}) \\geq Var(\\beta_{ls})$$\n",
    "\n",
    "Reference: Lambert, Ben"
   ]
  },
  {
   "cell_type": "markdown",
   "metadata": {},
   "source": [
    "# A4. Visualize OLS: Geometric interpretaiton \n",
    "\n",
    "## A4.1 Python Example: One regressor\n",
    "\n",
    "$y=x\\beta_0+ u$\n",
    "Where: \n",
    "\n",
    "$y= \\begin{bmatrix}2\\\\-1 \\end{bmatrix}$\n",
    "$x= \\begin{bmatrix}1\\\\1 \\end{bmatrix}$\n",
    "\n",
    "- Column space is one dimensional line. If we have two independent variables it represents a plane"
   ]
  },
  {
   "cell_type": "code",
   "execution_count": 3,
   "metadata": {},
   "outputs": [
    {
     "data": {
      "image/png": "[encoded data removed]",
      "text/plain": [
       "<Figure size 432x288 with 1 Axes>"
      ]
     },
     "metadata": {
      "needs_background": "light"
     },
     "output_type": "display_data"
    }
   ],
   "source": [
    "def unit_vector(vector):\n",
    "    coords_squared = tuple([x**2 for x in vector])\n",
    "    magnitude = math.sqrt(sum(coords_squared))\n",
    "    normalized = (1/magnitude)\n",
    "    unit_vector = np.multiply(vector, normalized)\n",
    "    return unit_vector\n",
    "def projection_length(line, x_vec):\n",
    "    unit = unit_vector(line)\n",
    "    equation = (np.dot(x_vec,unit))*unit\n",
    "    return equation\n",
    "def connect(line, x_vec):\n",
    "    solution = x_vec-projection_length(line, x_vec)\n",
    "    return solution\n",
    "def projection(vecs):\n",
    "    plt.figure()\n",
    "    ax = plt.gca()\n",
    "    line, x = [np.array(i) for i in vecs]\n",
    "    #Column space of X representation\n",
    "    ax.quiver(line[0]*-10,line[1]*-10, line[0]*10, line[1]*10, angles='xy',alpha=.4,scale=1,color='green', label='Column(x)')\n",
    "    #Equation for X\n",
    "    ax.quiver(0,0,line[0],line[1],angles='xy',scale_units='xy',scale=1, color='yellow', label='X')\n",
    "    #Equation for Y\n",
    "    ax.quiver(0,0,x[0],x[1],angles='xy',scale_units='xy',scale=1, color='orchid', label='Y')\n",
    "    \n",
    "    #Projection of X on L\n",
    "    ax.quiver(0,0,projection_length(line, x)[0], projection_length(line, x)[1]\n",
    "              ,angles='xy',scale_units='xy',scale=1, color='red', label='Projection length= u')\n",
    "  \n",
    "    \n",
    "    #X-(Projection of X on L)\n",
    "    ax.quiver(projection_length(line, x)[0], projection_length(line, x)[1],connect(line, x)[0], connect(line, x)[1]\n",
    "              ,angles='xy',scale_units='xy',scale=1, label='y-u', color='orange')\n",
    "    plt.axvline(color='black')\n",
    "    plt.axhline(color='black')\n",
    "    plt.ylim(-2,3)\n",
    "    plt.xlim(-1,3)\n",
    "    plt.grid()\n",
    "    plt.legend(loc='upper left')\n",
    "    plt.draw()\n",
    "    plt.show()\n",
    "y = np.array([1,2])\n",
    "x = np.array([1,1])\n",
    "projection([x,y])"
   ]
  },
  {
   "cell_type": "markdown",
   "metadata": {},
   "source": [
    "## A4.2 Python example: Multiple regressors"
   ]
  },
  {
   "cell_type": "code",
   "execution_count": 4,
   "metadata": {
    "scrolled": true
   },
   "outputs": [
    {
     "name": "stdout",
     "output_type": "stream",
     "text": [
      "[3 1]\n"
     ]
    },
    {
     "data": {
      "image/png": "[encoded data removed]",
      "text/plain": [
       "<Figure size 432x288 with 1 Axes>"
      ]
     },
     "metadata": {
      "needs_background": "light"
     },
     "output_type": "display_data"
    }
   ],
   "source": [
    "def projections(vecs):\n",
    "    plt.figure()\n",
    "    ax = plt.gca()\n",
    "    y,x1,x2 = [np.array(i) for i in vecs]    \n",
    "    ax.quiver(0,0,x1[0],x1[1],angles='xy',scale_units='xy',scale=1, color='green', label='X1')\n",
    "    ax.quiver(0,0,x2[0],x2[1],angles='xy',scale_units='xy',scale=1, color='yellow', label='X2')\n",
    "    ax.quiver(0,0,y[0],y[1],angles='xy',scale_units='xy',scale=1, color='red', label='Y')\n",
    "    \n",
    "    #x2+x1\n",
    "    x1_x2 = x1+x2\n",
    "    print(x1_x2)\n",
    "    #ax.quiver(0,0,x1_x2[0],x1_x2[1],angles='xy',scale_units='xy',scale=1, color='pink', label='X1+X2')\n",
    "    ax.quiver(0,0,2.30277564, 1.30277564,angles='xy',scale_units='xy',scale=1, color='pink', label='Sigma')\n",
    "\n",
    "    plt.axvline(color='black')\n",
    "    plt.axhline(color='black')\n",
    "    plt.ylim(-2,3)\n",
    "    plt.xlim(-1,3)\n",
    "    plt.grid()\n",
    "    plt.legend(loc='upper left')\n",
    "    plt.draw()\n",
    "    plt.show()\n",
    "    \n",
    "y = np.array([2,-1])\n",
    "x1 = np.array([1,1])\n",
    "x2 = np.array([2,0])\n",
    "projections([y,x1,x2])"
   ]
  }
 ],
 "metadata": {
  "kernelspec": {
   "display_name": "Python 3",
   "language": "python",
   "name": "python3"
  },
  "language_info": {
   "codemirror_mode": {
    "name": "ipython",
    "version": 3
   },
   "file_extension": ".py",
   "mimetype": "text/x-python",
   "name": "python",
   "nbconvert_exporter": "python",
   "pygments_lexer": "ipython3",
   "version": "3.7.2"
  }
 },
 "nbformat": 4,
 "nbformat_minor": 2
}
