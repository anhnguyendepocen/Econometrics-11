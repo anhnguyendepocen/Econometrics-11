{
 "cells": [
  {
   "cell_type": "code",
   "execution_count": 8,
   "metadata": {},
   "outputs": [],
   "source": [
    "import os \n",
    "import numpy as np\n",
    "import pandas as pd\n",
    "import matplotlib.pyplot as plt\n",
    "fred = Fred(api_key='YOURAPIKEYHERE')"
   ]
  },
  {
   "cell_type": "markdown",
   "metadata": {},
   "source": [
    "# 1. Dicky-fuller test"
   ]
  },
  {
   "cell_type": "code",
   "execution_count": 9,
   "metadata": {},
   "outputs": [],
   "source": [
    "# Dickey-Full\n",
    "from statsmodels.tsa.stattools import adfuller\n",
    "\n",
    "def dick_full(array):\n",
    "    adf = adfuller(array)\n",
    "    print(\"Dickey-fuller p-value: {:.4f}\".format(adf[1]))\n",
    "    if adf[1]<.05:\n",
    "        print('We can reject the null hypothesis')\n",
    "        print('Thus this series is stationary')\n",
    "    else:\n",
    "        print('We cannot reject the null hypothesis')\n",
    "        print('Thus this series is NOT stationary')\n",
    "    \n",
    "    plt.plot(array)\n",
    "    if adf[1]<.05:\n",
    "        plt.title('Stationary: DF-P-value={:.3f}'.format(adf[1]))\n",
    "    else:\n",
    "        plt.title('NOT Stationary: DickeyFuller P-value={:.3f}'.format(adf[1]))"
   ]
  },
  {
   "cell_type": "markdown",
   "metadata": {},
   "source": [
    "# 2. GDP growth\n",
    "- Quarterly from FRED\n",
    "- https://fred.stlouisfed.org/series/JPNNGDP\n"
   ]
  },
  {
   "cell_type": "code",
   "execution_count": 10,
   "metadata": {},
   "outputs": [
    {
     "data": {
      "text/html": [
       "<div>\n",
       "<style scoped>\n",
       "    .dataframe tbody tr th:only-of-type {\n",
       "        vertical-align: middle;\n",
       "    }\n",
       "\n",
       "    .dataframe tbody tr th {\n",
       "        vertical-align: top;\n",
       "    }\n",
       "\n",
       "    .dataframe thead th {\n",
       "        text-align: right;\n",
       "    }\n",
       "</style>\n",
       "<table border=\"1\" class=\"dataframe\">\n",
       "  <thead>\n",
       "    <tr style=\"text-align: right;\">\n",
       "      <th></th>\n",
       "      <th>0</th>\n",
       "    </tr>\n",
       "  </thead>\n",
       "  <tbody>\n",
       "    <tr>\n",
       "      <th>2019-07-01</th>\n",
       "      <td>558237.1</td>\n",
       "    </tr>\n",
       "    <tr>\n",
       "      <th>2019-10-01</th>\n",
       "      <td>549920.9</td>\n",
       "    </tr>\n",
       "  </tbody>\n",
       "</table>\n",
       "</div>"
      ],
      "text/plain": [
       "                   0\n",
       "2019-07-01  558237.1\n",
       "2019-10-01  549920.9"
      ]
     },
     "execution_count": 10,
     "metadata": {},
     "output_type": "execute_result"
    }
   ],
   "source": [
    "gdp = fred.get_series('JPNNGDP').to_frame()\n",
    "gdp.tail(2)"
   ]
  },
  {
   "cell_type": "code",
   "execution_count": 11,
   "metadata": {
    "scrolled": true
   },
   "outputs": [
    {
     "name": "stdout",
     "output_type": "stream",
     "text": [
      "Dickey-fuller p-value: 0.5138\n",
      "We cannot reject the null hypothesis\n",
      "Thus this series is NOT stationary\n"
     ]
    },
    {
     "data": {
      "image/png": "[encoded data removed]",
      "text/plain": [
       "<Figure size 432x288 with 1 Axes>"
      ]
     },
     "metadata": {
      "needs_background": "light"
     },
     "output_type": "display_data"
    }
   ],
   "source": [
    "ax = dick_full(gdp.values.ravel())\n",
    "plt.ylabel('GDP')\n",
    "plt.margins(x=0)"
   ]
  },
  {
   "cell_type": "markdown",
   "metadata": {},
   "source": [
    "# 3. Cross border claims"
   ]
  },
  {
   "cell_type": "code",
   "execution_count": 15,
   "metadata": {},
   "outputs": [
    {
     "data": {
      "text/html": [
       "<div>\n",
       "<style scoped>\n",
       "    .dataframe tbody tr th:only-of-type {\n",
       "        vertical-align: middle;\n",
       "    }\n",
       "\n",
       "    .dataframe tbody tr th {\n",
       "        vertical-align: top;\n",
       "    }\n",
       "\n",
       "    .dataframe thead th {\n",
       "        text-align: right;\n",
       "    }\n",
       "</style>\n",
       "<table border=\"1\" class=\"dataframe\">\n",
       "  <thead>\n",
       "    <tr style=\"text-align: right;\">\n",
       "      <th></th>\n",
       "      <th>Counterparty sector</th>\n",
       "      <th>Balance sheet position</th>\n",
       "      <th>31/12/1977</th>\n",
       "      <th>31/03/1978</th>\n",
       "      <th>30/06/1978</th>\n",
       "      <th>30/09/1978</th>\n",
       "      <th>31/12/1978</th>\n",
       "      <th>31/03/1979</th>\n",
       "      <th>30/06/1979</th>\n",
       "      <th>30/09/1979</th>\n",
       "      <th>...</th>\n",
       "      <th>31/03/2017</th>\n",
       "      <th>30/06/2017</th>\n",
       "      <th>30/09/2017</th>\n",
       "      <th>31/12/2017</th>\n",
       "      <th>31/03/2018</th>\n",
       "      <th>30/06/2018</th>\n",
       "      <th>30/09/2018</th>\n",
       "      <th>31/12/2018</th>\n",
       "      <th>31/03/2019</th>\n",
       "      <th>30/06/2019</th>\n",
       "    </tr>\n",
       "  </thead>\n",
       "  <tbody>\n",
       "    <tr>\n",
       "      <th>0</th>\n",
       "      <td>A:All sectors</td>\n",
       "      <td>C:Total claims</td>\n",
       "      <td>NaN</td>\n",
       "      <td>NaN</td>\n",
       "      <td>NaN</td>\n",
       "      <td>NaN</td>\n",
       "      <td>NaN</td>\n",
       "      <td>NaN</td>\n",
       "      <td>NaN</td>\n",
       "      <td>NaN</td>\n",
       "      <td>...</td>\n",
       "      <td>4488320.705</td>\n",
       "      <td>4398581.592</td>\n",
       "      <td>4516378.685</td>\n",
       "      <td>4593028.307</td>\n",
       "      <td>4709549.57</td>\n",
       "      <td>4542318.193</td>\n",
       "      <td>4573937.437</td>\n",
       "      <td>4647940.491</td>\n",
       "      <td>4852249.8</td>\n",
       "      <td>4769612.376</td>\n",
       "    </tr>\n",
       "  </tbody>\n",
       "</table>\n",
       "<p>1 rows × 169 columns</p>\n",
       "</div>"
      ],
      "text/plain": [
       "  Counterparty sector Balance sheet position  31/12/1977  31/03/1978  \\\n",
       "0       A:All sectors         C:Total claims         NaN         NaN   \n",
       "\n",
       "   30/06/1978  30/09/1978  31/12/1978  31/03/1979  30/06/1979  30/09/1979  \\\n",
       "0         NaN         NaN         NaN         NaN         NaN         NaN   \n",
       "\n",
       "   ...   31/03/2017   30/06/2017   30/09/2017   31/12/2017  31/03/2018  \\\n",
       "0  ...  4488320.705  4398581.592  4516378.685  4593028.307  4709549.57   \n",
       "\n",
       "    30/06/2018   30/09/2018   31/12/2018  31/03/2019   30/06/2019  \n",
       "0  4542318.193  4573937.437  4647940.491   4852249.8  4769612.376  \n",
       "\n",
       "[1 rows x 169 columns]"
      ]
     },
     "execution_count": 15,
     "metadata": {},
     "output_type": "execute_result"
    }
   ],
   "source": [
    "filename = 'Data/Cross_border.xlsx'\n",
    "df = pd.read_excel(filename)\n",
    "#Drop uncessary columns\n",
    "df= df.iloc[:, 13:]\n",
    "df.head(1)"
   ]
  },
  {
   "cell_type": "code",
   "execution_count": 17,
   "metadata": {},
   "outputs": [
    {
     "data": {
      "text/html": [
       "<div>\n",
       "<style scoped>\n",
       "    .dataframe tbody tr th:only-of-type {\n",
       "        vertical-align: middle;\n",
       "    }\n",
       "\n",
       "    .dataframe tbody tr th {\n",
       "        vertical-align: top;\n",
       "    }\n",
       "\n",
       "    .dataframe thead th {\n",
       "        text-align: right;\n",
       "    }\n",
       "</style>\n",
       "<table border=\"1\" class=\"dataframe\">\n",
       "  <thead>\n",
       "    <tr style=\"text-align: right;\">\n",
       "      <th></th>\n",
       "      <th>Counterparty sector</th>\n",
       "      <th>Balance sheet position</th>\n",
       "      <th>Value</th>\n",
       "    </tr>\n",
       "    <tr>\n",
       "      <th>Date</th>\n",
       "      <th></th>\n",
       "      <th></th>\n",
       "      <th></th>\n",
       "    </tr>\n",
       "  </thead>\n",
       "  <tbody>\n",
       "    <tr>\n",
       "      <th>1977-12-31</th>\n",
       "      <td>A:All sectors</td>\n",
       "      <td>C:Total claims</td>\n",
       "      <td>NaN</td>\n",
       "    </tr>\n",
       "    <tr>\n",
       "      <th>1977-12-31</th>\n",
       "      <td>A:All sectors</td>\n",
       "      <td>L:Total liabilities</td>\n",
       "      <td>NaN</td>\n",
       "    </tr>\n",
       "  </tbody>\n",
       "</table>\n",
       "</div>"
      ],
      "text/plain": [
       "           Counterparty sector Balance sheet position Value\n",
       "Date                                                       \n",
       "1977-12-31       A:All sectors         C:Total claims   NaN\n",
       "1977-12-31       A:All sectors    L:Total liabilities   NaN"
      ]
     },
     "execution_count": 17,
     "metadata": {},
     "output_type": "execute_result"
    }
   ],
   "source": [
    "cross = df.melt(\n",
    "    id_vars = ['Counterparty sector', 'Balance sheet position'], #Variables \n",
    "      var_name='Date', value_name='Value')\n",
    "cross.Date = pd.to_datetime(cross.Date)\n",
    "cross = cross.set_index('Date')\n",
    "cross.head(2)"
   ]
  },
  {
   "cell_type": "code",
   "execution_count": null,
   "metadata": {},
   "outputs": [],
   "source": []
  },
  {
   "cell_type": "markdown",
   "metadata": {},
   "source": [
    "# 4. Cointegration"
   ]
  },
  {
   "cell_type": "markdown",
   "metadata": {},
   "source": [
    "## 4.1 By hand"
   ]
  },
  {
   "cell_type": "code",
   "execution_count": 18,
   "metadata": {},
   "outputs": [
    {
     "data": {
      "text/plain": [
       "True"
      ]
     },
     "execution_count": 18,
     "metadata": {},
     "output_type": "execute_result"
    }
   ],
   "source": [
    "nonbanks = (cross['Counterparty sector']== 'N:Non-banks, total') & (cross['Balance sheet position']=='C:Total claims')\n",
    "x = cross[nonbanks].loc['1995':, ['Value']].astype(float)\n",
    "y = gdp['1995-04':].astype(float)\n",
    "x =np.array(x, dtype='float')\n",
    "y = np.array(y, dtype='float')[:-1]\n",
    "len(x)==len(y)"
   ]
  },
  {
   "cell_type": "code",
   "execution_count": 19,
   "metadata": {},
   "outputs": [],
   "source": [
    "import statsmodels.api as sm\n",
    "result = sm.OLS(y, x).fit()"
   ]
  },
  {
   "cell_type": "markdown",
   "metadata": {},
   "source": [
    "- Cointegration involves two steps: regressing one time series on the other to get the cointegration vector, and then perform an ADF test on the residuals of the regression."
   ]
  },
  {
   "cell_type": "code",
   "execution_count": 20,
   "metadata": {
    "scrolled": true
   },
   "outputs": [
    {
     "name": "stdout",
     "output_type": "stream",
     "text": [
      "The p-value for the ADF test is  0.9705159073822973\n"
     ]
    }
   ],
   "source": [
    "b = result.params[0]\n",
    "test = (y-(b*x))\n",
    "adf_stats = adfuller(test.ravel())\n",
    "print(\"The p-value for the ADF test is \", adf_stats[1])"
   ]
  },
  {
   "cell_type": "markdown",
   "metadata": {},
   "source": [
    "## 4.2 Statsmodels\n",
    "\n",
    "The Null hypothesis is that there is no cointegration, the alternative hypothesis is that there is cointegrating relationship. If the pvalue is small, below a critical size, then we can reject the hypothesis that there is no cointegrating relationship.\n",
    "\n",
    "P-values and critical values are obtained through regression surface approximation from MacKinnon 1994 and 2010."
   ]
  },
  {
   "cell_type": "code",
   "execution_count": 21,
   "metadata": {},
   "outputs": [],
   "source": [
    "from statsmodels.tsa.stattools import coint"
   ]
  },
  {
   "cell_type": "code",
   "execution_count": 22,
   "metadata": {},
   "outputs": [
    {
     "name": "stdout",
     "output_type": "stream",
     "text": [
      "P-value 0.934\n",
      "Cannot reject null of no cointegration\n"
     ]
    }
   ],
   "source": [
    "if coint(y,x, autolag='BIC')[1]>.05:\n",
    "    print('P-value {:.3f}'.format(coint(y,x, autolag='BIC')[1]))\n",
    "    print('Cannot reject null of no cointegration')\n",
    "else:\n",
    "    print('P-value {:.3f}'.format(coint(y,x, autolag='BIC')[1]))\n",
    "    print('We can reject the null of no cointegration')\n",
    "    print('Thus we have evidence of cointegration')"
   ]
  },
  {
   "cell_type": "markdown",
   "metadata": {},
   "source": [
    "# 5. VECM\n",
    "\n",
    "\n",
    "## 5.1 Johansen\n",
    "https://www.statsmodels.org/stable/generated/statsmodels.tsa.vector_ar.vecm.coint_johansen.html#statsmodels.tsa.vector_ar.vecm.coint_johansen"
   ]
  },
  {
   "cell_type": "code",
   "execution_count": 23,
   "metadata": {},
   "outputs": [],
   "source": [
    "from statsmodels.tsa.vector_ar.vecm import coint_johansen"
   ]
  },
  {
   "cell_type": "code",
   "execution_count": 24,
   "metadata": {},
   "outputs": [
    {
     "name": "stdout",
     "output_type": "stream",
     "text": [
      "Critical values trace: [[16.1619 18.3985 23.1485]\n",
      " [ 2.7055  3.8415  6.6349]]\n"
     ]
    }
   ],
   "source": [
    "data = np.concatenate([x,y], axis=1)\n",
    "jh_results= coint_johansen(data, 1, 1)\n",
    "\n",
    "#print(f'Trace: {jh.lr1}')                           # dim = (n,) Trace statistic\n",
    "print(f'Critical values trace: {jh_results.cvt}')                           # dim = (n,3) critical value table (90%, 95%, 99%)\n",
    "#print(f'Columnwise eigen vectors: {jh.evec}')                          # dim = (n, n), columnwise eigen-vectors\n",
    "#print(f'Critical values for max eigenvalue stat: {jh.cvm}')\n",
    "#print(f'Critical values max eigen: {jh_results.cvm}') "
   ]
  },
  {
   "cell_type": "markdown",
   "metadata": {},
   "source": [
    "## 5.2 Selecting coint rank \n",
    "- select_coint_rank\n",
    "- https://www.statsmodels.org/stable/generated/statsmodels.tsa.vector_ar.vecm.select_coint_rank.html#statsmodels.tsa.vector_ar.vecm.select_coint_rank"
   ]
  },
  {
   "cell_type": "code",
   "execution_count": 25,
   "metadata": {},
   "outputs": [],
   "source": [
    "from statsmodels.tsa.vector_ar.vecm import select_coint_rank as sr"
   ]
  },
  {
   "cell_type": "code",
   "execution_count": 26,
   "metadata": {
    "scrolled": true
   },
   "outputs": [
    {
     "name": "stdout",
     "output_type": "stream",
     "text": [
      "Johansen cointegration test using trace test statistic with 5% significance level\n",
      "=====================================\n",
      "r_0 r_1 test statistic critical value\n",
      "-------------------------------------\n",
      "  0   2          5.286          18.40\n",
      "-------------------------------------\n"
     ]
    }
   ],
   "source": [
    "print(sr(data, 1, k_ar_diff=1, method='trace'))"
   ]
  },
  {
   "cell_type": "markdown",
   "metadata": {},
   "source": [
    "- select order\n",
    "- https://www.statsmodels.org/stable/generated/statsmodels.tsa.vector_ar.vecm.select_order.html#statsmodels.tsa.vector_ar.vecm.select_order"
   ]
  },
  {
   "cell_type": "code",
   "execution_count": 27,
   "metadata": {},
   "outputs": [],
   "source": [
    "from statsmodels.tsa.vector_ar.vecm import select_order as so"
   ]
  },
  {
   "cell_type": "code",
   "execution_count": 28,
   "metadata": {},
   "outputs": [
    {
     "name": "stdout",
     "output_type": "stream",
     "text": [
      "<statsmodels.tsa.vector_ar.var_model.LagOrderResults object. Selected orders are: AIC -> 3, BIC -> 0, FPE -> 3, HQIC -> 0>\n"
     ]
    }
   ],
   "source": [
    "print(so(data, maxlags=5, deterministic='li'))"
   ]
  },
  {
   "cell_type": "markdown",
   "metadata": {},
   "source": [
    "## 5.3 VECM results"
   ]
  },
  {
   "cell_type": "code",
   "execution_count": 29,
   "metadata": {},
   "outputs": [],
   "source": [
    "from statsmodels.tsa.vector_ar.vecm import VECM"
   ]
  },
  {
   "cell_type": "code",
   "execution_count": 30,
   "metadata": {},
   "outputs": [],
   "source": [
    "result = VECM(data).fit()"
   ]
  },
  {
   "cell_type": "code",
   "execution_count": 31,
   "metadata": {},
   "outputs": [
    {
     "data": {
      "text/html": [
       "<table class=\"simpletable\">\n",
       "<caption>Det. terms outside the coint. relation & lagged endog. parameters for equation y1</caption>\n",
       "<tr>\n",
       "    <td></td>       <th>coef</th>     <th>std err</th>      <th>z</th>      <th>P>|z|</th>  <th>[0.025</th>    <th>0.975]</th>  \n",
       "</tr>\n",
       "<tr>\n",
       "  <th>L1.y1</th> <td>   -0.1909</td> <td>    0.100</td> <td>   -1.911</td> <td> 0.056</td> <td>   -0.387</td> <td>    0.005</td>\n",
       "</tr>\n",
       "<tr>\n",
       "  <th>L1.y2</th> <td>    2.6908</td> <td>    1.415</td> <td>    1.902</td> <td> 0.057</td> <td>   -0.082</td> <td>    5.464</td>\n",
       "</tr>\n",
       "</table>\n",
       "<table class=\"simpletable\">\n",
       "<caption>Det. terms outside the coint. relation & lagged endog. parameters for equation y2</caption>\n",
       "<tr>\n",
       "    <td></td>       <th>coef</th>     <th>std err</th>      <th>z</th>      <th>P>|z|</th>  <th>[0.025</th>    <th>0.975]</th>  \n",
       "</tr>\n",
       "<tr>\n",
       "  <th>L1.y1</th> <td>    0.0090</td> <td>    0.007</td> <td>    1.274</td> <td> 0.203</td> <td>   -0.005</td> <td>    0.023</td>\n",
       "</tr>\n",
       "<tr>\n",
       "  <th>L1.y2</th> <td>    0.1230</td> <td>    0.100</td> <td>    1.224</td> <td> 0.221</td> <td>   -0.074</td> <td>    0.320</td>\n",
       "</tr>\n",
       "</table>\n",
       "<table class=\"simpletable\">\n",
       "<caption>Loading coefficients (alpha) for equation y1</caption>\n",
       "<tr>\n",
       "   <td></td>      <th>coef</th>     <th>std err</th>      <th>z</th>      <th>P>|z|</th>  <th>[0.025</th>    <th>0.975]</th>  \n",
       "</tr>\n",
       "<tr>\n",
       "  <th>ec1</th> <td>    0.0065</td> <td>    0.001</td> <td>    4.392</td> <td> 0.000</td> <td>    0.004</td> <td>    0.009</td>\n",
       "</tr>\n",
       "</table>\n",
       "<table class=\"simpletable\">\n",
       "<caption>Loading coefficients (alpha) for equation y2</caption>\n",
       "<tr>\n",
       "   <td></td>      <th>coef</th>     <th>std err</th>      <th>z</th>      <th>P>|z|</th>  <th>[0.025</th>    <th>0.975]</th>  \n",
       "</tr>\n",
       "<tr>\n",
       "  <th>ec1</th> <td> 3.592e-05</td> <td>    0.000</td> <td>    0.341</td> <td> 0.733</td> <td>   -0.000</td> <td>    0.000</td>\n",
       "</tr>\n",
       "</table>\n",
       "<table class=\"simpletable\">\n",
       "<caption>Cointegration relations for loading-coefficients-column 1</caption>\n",
       "<tr>\n",
       "     <td></td>       <th>coef</th>     <th>std err</th>      <th>z</th>      <th>P>|z|</th>  <th>[0.025</th>    <th>0.975]</th>  \n",
       "</tr>\n",
       "<tr>\n",
       "  <th>beta.1</th> <td>    1.0000</td> <td>        0</td> <td>        0</td> <td> 0.000</td> <td>    1.000</td> <td>    1.000</td>\n",
       "</tr>\n",
       "<tr>\n",
       "  <th>beta.2</th> <td>    6.6951</td> <td>    2.151</td> <td>    3.113</td> <td> 0.002</td> <td>    2.480</td> <td>   10.910</td>\n",
       "</tr>\n",
       "</table>"
      ],
      "text/plain": [
       "<class 'statsmodels.iolib.summary.Summary'>\n",
       "\"\"\"\n",
       "Det. terms outside the coint. relation & lagged endog. parameters for equation y1\n",
       "==============================================================================\n",
       "                 coef    std err          z      P>|z|      [0.025      0.975]\n",
       "------------------------------------------------------------------------------\n",
       "L1.y1         -0.1909      0.100     -1.911      0.056      -0.387       0.005\n",
       "L1.y2          2.6908      1.415      1.902      0.057      -0.082       5.464\n",
       "Det. terms outside the coint. relation & lagged endog. parameters for equation y2\n",
       "==============================================================================\n",
       "                 coef    std err          z      P>|z|      [0.025      0.975]\n",
       "------------------------------------------------------------------------------\n",
       "L1.y1          0.0090      0.007      1.274      0.203      -0.005       0.023\n",
       "L1.y2          0.1230      0.100      1.224      0.221      -0.074       0.320\n",
       "                 Loading coefficients (alpha) for equation y1                 \n",
       "==============================================================================\n",
       "                 coef    std err          z      P>|z|      [0.025      0.975]\n",
       "------------------------------------------------------------------------------\n",
       "ec1            0.0065      0.001      4.392      0.000       0.004       0.009\n",
       "                 Loading coefficients (alpha) for equation y2                 \n",
       "==============================================================================\n",
       "                 coef    std err          z      P>|z|      [0.025      0.975]\n",
       "------------------------------------------------------------------------------\n",
       "ec1         3.592e-05      0.000      0.341      0.733      -0.000       0.000\n",
       "          Cointegration relations for loading-coefficients-column 1           \n",
       "==============================================================================\n",
       "                 coef    std err          z      P>|z|      [0.025      0.975]\n",
       "------------------------------------------------------------------------------\n",
       "beta.1         1.0000          0          0      0.000       1.000       1.000\n",
       "beta.2         6.6951      2.151      3.113      0.002       2.480      10.910\n",
       "==============================================================================\n",
       "\"\"\""
      ]
     },
     "execution_count": 31,
     "metadata": {},
     "output_type": "execute_result"
    }
   ],
   "source": [
    "result.summary()"
   ]
  }
 ],
 "metadata": {
  "kernelspec": {
   "display_name": "Python 3",
   "language": "python",
   "name": "python3"
  },
  "language_info": {
   "codemirror_mode": {
    "name": "ipython",
    "version": 3
   },
   "file_extension": ".py",
   "mimetype": "text/x-python",
   "name": "python",
   "nbconvert_exporter": "python",
   "pygments_lexer": "ipython3",
   "version": "3.7.6"
  }
 },
 "nbformat": 4,
 "nbformat_minor": 2
}
