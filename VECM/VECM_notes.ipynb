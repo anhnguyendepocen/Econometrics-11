{
 "cells": [
  {
   "cell_type": "code",
   "execution_count": 2,
   "metadata": {},
   "outputs": [],
   "source": [
    "import os\n",
    "import pandas as pd\n",
    "import numpy as np\n",
    "import matplotlib.pyplot as plt\n",
    "import statsmodels.api as sm\n",
    "from statsmodels.tsa.stattools import adfuller"
   ]
  },
  {
   "cell_type": "markdown",
   "metadata": {},
   "source": [
    "# VECM"
   ]
  },
  {
   "cell_type": "markdown",
   "metadata": {},
   "source": [
    "## Johansen's five cases for estimation of VECM:\n",
    "\n",
    "1. Unrestricted trend: Cointegrating equationsare trend stationary\n",
    "\n",
    "\n",
    "2. Restricted trend: $\\tau=0$\n",
    "    - cointegrating equations are trend stationary, and trends in levels are linear but not quadratic\n",
    "    \n",
    "    \n",
    "3. Unrestricted trend: $\\tau=\\rho=0$\n",
    "    - cointegrating equations are stationary around constant means, linear trend in levels\n",
    "    \n",
    "    \n",
    "4. Restricted trend: $\\tau=\\rho=\\gamma=0$\n",
    "    - cointegrating equations are stationary around constant means, no linear time trends in the data\n",
    "\n",
    "\n",
    "5. No trend: $\\tau=\\rho=\\gamma=\\mu=0$\n",
    "    - cointegrating equations, levels and differences of the data have means of zero"
   ]
  },
  {
   "cell_type": "markdown",
   "metadata": {},
   "source": [
    "# L. Background notes\n",
    "- Lambert\n",
    "\n",
    "## L.1 Highly-persistent time series\n",
    "\n",
    "$$x_t =x_{t-1}+\\varepsilon_t \\\\\n",
    "x_{t+h} = x_t + \\varepsilon_{t+1}+\\cdots+\\varepsilon_{t+h}\\\\\n",
    "E[x_{t+h}|x_t] = x_t$$\n",
    "\n",
    "The above is not weakly dependent, thus we cannot use CLM or LLN\n",
    "\n",
    "- I(1) is highly persistent process, and we take the first difference that is not highly persistent.\n",
    "- I(0) is already weakly dependent"
   ]
  },
  {
   "cell_type": "markdown",
   "metadata": {},
   "source": [
    "## L.2 Testing for cointegration\n",
    "\n",
    "$$y_t - \\beta x_t=\\varepsilon_t$$\n",
    "\n",
    "If there is a relationship between $y_t$ and $x_t$ then $\\varepsilon_t$ should be stationary I(0) & weakly dependent\n",
    "\n",
    "- But we don't know the parameter $\\beta$\n",
    "\n",
    "- Thus we need to run least squares:\n",
    "\n",
    "$$y_t=\\hat\\alpha +\\hat\\beta x_t +\\hat u_t\\\\\n",
    "\\hat u_t = y_t-\\alpha-\\beta x_t$$\n",
    "\n",
    "If $y_t$ and $x_t$ are I(1) then $\\hat u_t$ should be an I(0) process.\n",
    "\n",
    "\n",
    "--- \n",
    "**We check this by running a DF test on $\\hat u_t$**\n",
    "\n",
    "\n",
    "\n",
    "$\\Delta \\hat u_t = \\delta_0 + \\delta_1 \\hat u_{t-1}+\\cdots + v_t$\n",
    "\n",
    "- Calculate T-stat for $\\delta_1$ then compare to DF distribution\n",
    "- If T< DF is less than critical value of DF, we reject null and conclude that our error is I(0)\n",
    "- In other words if we reject the null we have cointegration between our variables\n",
    "\n",
    "- Because the T stat is for $\\hat\\beta$ rather than the true $\\beta$, we have to ammend the DF distribution because we are estimating $\\beta$.\n",
    "-  This DF (lets denote as $DF_2$, where our original is $DF_1$) is slightly more stringent than the original DF.\n",
    "    - $t<DF_2<DF_1$\n",
    "- This makes it less likely we reject the null hypothesis which we write below:\n",
    "\n",
    "$\n",
    "H_0: \\beta=0\\\\\n",
    "H_1: \\beta\\neq0$\n",
    "\n",
    "- The null is that we have run a spurious regression \n",
    "- If $\\beta$ is zero it means $y_t$ and $x_t$ are not integrated\n",
    "- It is only under the case that we reject the null that we potentially have co-integration"
   ]
  },
  {
   "cell_type": "markdown",
   "metadata": {},
   "source": [
    "## L.2.1 Example: RW drift"
   ]
  },
  {
   "cell_type": "code",
   "execution_count": 3,
   "metadata": {},
   "outputs": [
    {
     "name": "stderr",
     "output_type": "stream",
     "text": [
      "The PostScript backend does not support transparency; partially transparent artists will be rendered opaque.\n",
      "The PostScript backend does not support transparency; partially transparent artists will be rendered opaque.\n",
      "The PostScript backend does not support transparency; partially transparent artists will be rendered opaque.\n",
      "The PostScript backend does not support transparency; partially transparent artists will be rendered opaque.\n"
     ]
    },
    {
     "data": {
      "image/png": "[encoded data removed]",
      "text/plain": [
       "<Figure size 432x288 with 1 Axes>"
      ]
     },
     "metadata": {
      "needs_background": "light"
     },
     "output_type": "display_data"
    }
   ],
   "source": [
    "rwdrift1 = 100 * np.cumprod(np.random.normal(loc=.001, scale=.01, size=500) + 1)\n",
    "plt.plot(rwdrift1, label= 'yt')\n",
    "rwdrift2 = 100 * np.cumprod(np.random.normal(loc=.002, scale=.01, size=500) + 1)\n",
    "plt.plot(rwdrift2,label= 'xt')\n",
    "plt.legend()\n",
    "plt.margins(x=0)\n",
    "plt.savefig('/Users/corybaird/Desktop/RW_drift.eps', format='eps', bbox_inches='tight')\n",
    "plt.show()"
   ]
  },
  {
   "cell_type": "markdown",
   "metadata": {},
   "source": [
    "### L.2.1.1 Regress without constant"
   ]
  },
  {
   "cell_type": "code",
   "execution_count": 4,
   "metadata": {},
   "outputs": [
    {
     "name": "stdout",
     "output_type": "stream",
     "text": [
      "The p-value for the ADF test is: 0.385\n",
      "Cannot reject the null of spurious regression\n",
      "Thus we have evidence of spurious regression\n"
     ]
    }
   ],
   "source": [
    "y = rwdrift1\n",
    "x = rwdrift2\n",
    "result = sm.OLS(y, x).fit()\n",
    "b = result.params[0]\n",
    "test = (y-(b*x))\n",
    "adf_stats = adfuller(test.ravel())\n",
    "if adf_stats[1]<0.05:\n",
    "    print(\"The p-value for the ADF test is: {:.3f}\".format(adf_stats[1]))\n",
    "    print('Reject the null of spurious regression')\n",
    "else:\n",
    "    print(\"The p-value for the ADF test is: {:.3f}\".format(adf_stats[1]))\n",
    "    print('Cannot reject the null of spurious regression')\n",
    "    print('Thus we have evidence of spurious regression')"
   ]
  },
  {
   "cell_type": "markdown",
   "metadata": {},
   "source": [
    "### L2.1.2 Regress with constant"
   ]
  },
  {
   "cell_type": "code",
   "execution_count": 5,
   "metadata": {},
   "outputs": [
    {
     "name": "stdout",
     "output_type": "stream",
     "text": [
      "The p-value for the ADF test is: 0.618\n",
      "Cannot reject the null of spurious regression\n",
      "Thus we have evidence of spurious regression\n"
     ]
    }
   ],
   "source": [
    "xc = sm.add_constant(rwdrift2)\n",
    "result = sm.OLS(y, xc).fit()\n",
    "b = result.params\n",
    "test = y-xc@b\n",
    "adf_stats = adfuller(test.ravel())\n",
    "if adf_stats[1]<0.05:\n",
    "    print(\"The p-value for the ADF test is: {:.3f}\".format(adf_stats[1]))\n",
    "    print('Reject the null of spurious regression')\n",
    "else:\n",
    "    print(\"The p-value for the ADF test is: {:.3f}\".format(adf_stats[1]))\n",
    "    print('Cannot reject the null of spurious regression')\n",
    "    print('Thus we have evidence of spurious regression')"
   ]
  },
  {
   "cell_type": "markdown",
   "metadata": {},
   "source": [
    "## L.3 Error correction model\n",
    "\n",
    "$$y_t =  c +\\delta_1x_t+\\delta_2x_{t-1}+\\mu y_{t-1}+v_t\\\\\n",
    "y_t-y_{t-1}=c + \\delta_1x_t+\\delta_2x_{t-1} -(1-\\mu) y_{t-1}+v_t\\\\\n",
    "\\Delta y_t= c + \\delta_1x_t+\\delta_2x_{t-1} -(1-\\mu) y_{t-1}+v_t\\\\\n",
    "\\Delta y_t = c+\\delta_1 \\Delta x_t - \\lambda(y_{t-1}-\\alpha-\\beta x_{t-1})+v_t\n",
    "$$\n",
    "\n",
    "Where:\n",
    "- $\\lambda =1-\\mu$\n",
    "- $\\beta = \\frac{\\delta_1+\\delta_2}{1-\\mu}$\n",
    "\n",
    "\n",
    "- If $y_t, x_t = I(1) \\Rightarrow \\Delta y_t ,\\Delta y_t= I(0)$\n",
    "- If long run relationship exists between y and x exists then $\\lambda(y_{t-1}-\\alpha-\\beta x_{t-1})$ will be co-integrated and the term will be I(0)\n",
    "\n",
    "\n",
    "\n",
    "- Imagine that $y_{t-1}>\\lambda(y_{t-1}-\\alpha-\\beta x_{t-1})$. \n",
    "    - Then it is above equilibrium value, and the change in $\\Delta y_t$ will be slightly negative \"correcting\" the model\n",
    " \n",
    "### Error correction model pt. 2\n",
    "\n",
    "$$\\Delta y_t = \\delta_0 + \\sum^{p}_{i=0} \\delta_i \\Delta x_{t-i} + \\sum_{j=1}^{k}\\mu_j \\Delta y_{t-j}-\\lambda(y_{t-1}-\\delta-\\beta x_{t-1})+\\varepsilon_t$$\n",
    "\n",
    "- The summations represent the short term dynamics of the model with i and j lags.\n",
    "- The $\\lambda$ term is long run dynamics\n",
    "\n",
    "\n",
    "#### We can estimate $\\alpha, \\beta$ using least squares\n",
    "\n",
    "$$\\Delta y_t = \\delta_0 + \\sum^{p}_{i=0} \\delta_i \\Delta x_{t-i} + \\sum_{j=1}^{k}\\mu_j \\Delta y_{t-j}+\\gamma_0 \\hat{v_t}\\\\\n",
    "\\hat\\lambda = -\\hat\\gamma_0\\\\\n",
    "0<\\lambda<1$$\n",
    "\n",
    "- The reason $\\lambda$ is less then 1 is because we don't want the variable to fully adust to the dis-equilibrium.\n",
    "    - Ex: $\\lambda=.5$ means that it steps half of the way towards equilibrium assuming there are no other short-run dynamics\n",
    "\n",
    "If $y_t> y^{\\text{Equilibrium}}$ then there is negative change in y"
   ]
  }
 ],
 "metadata": {
  "kernelspec": {
   "display_name": "Python 3",
   "language": "python",
   "name": "python3"
  },
  "language_info": {
   "codemirror_mode": {
    "name": "ipython",
    "version": 3
   },
   "file_extension": ".py",
   "mimetype": "text/x-python",
   "name": "python",
   "nbconvert_exporter": "python",
   "pygments_lexer": "ipython3",
   "version": "3.7.6"
  }
 },
 "nbformat": 4,
 "nbformat_minor": 2
}
